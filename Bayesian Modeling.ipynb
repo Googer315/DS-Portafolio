{
 "cells": [
  {
   "cell_type": "markdown",
   "metadata": {
    "id": "J6fY44mY743k",
    "pycharm": {
     "name": "#%% md\n"
    }
   },
   "source": [
    "# Data and module import"
   ]
  },
  {
   "cell_type": "code",
   "execution_count": null,
   "metadata": {
    "id": "IsSAchb-oqmz",
    "pycharm": {
     "name": "#%%\n"
    }
   },
   "outputs": [],
   "source": [
    "import pandas as pd; import numpy as np; import pymc as pm; from scipy import stats; import arviz as az"
   ]
  },
  {
   "cell_type": "code",
   "execution_count": null,
   "metadata": {
    "id": "MHMJJM-JujY4",
    "pycharm": {
     "name": "#%%\n"
    }
   },
   "outputs": [],
   "source": [
    "#Accidents after June 2008\n",
    "data = pd.read_csv(\"https://raw.githubusercontent.com/javmencia/STA303/main/cyclingData.csv\")"
   ]
  },
  {
   "cell_type": "markdown",
   "metadata": {
    "id": "FI2W2raO7-4s",
    "pycharm": {
     "name": "#%% md\n"
    }
   },
   "source": [
    "## Data cleaning"
   ]
  },
  {
   "cell_type": "code",
   "execution_count": null,
   "metadata": {
    "id": "o4TdnkbqEybc",
    "pycharm": {
     "name": "#%%\n"
    }
   },
   "outputs": [],
   "source": [
    "def TimeGetter(time):\n",
    "    ftr = [3600,60,1]\n",
    "    t = sum([a*b for a,b in zip(ftr, map(int,time.split(':')))])\n",
    "    if t<6*3600 or t>22*3600:\n",
    "        return \"Night\"\n",
    "    elif t<9*3600:\n",
    "        return \"Morning\"\n",
    "    elif t<14*3600:\n",
    "        return \"Midday\"\n",
    "    elif t<18*3600:\n",
    "        return \"Afternoon\"\n",
    "    else:\n",
    "        return \"Evening\""
   ]
  },
  {
   "cell_type": "code",
   "execution_count": null,
   "metadata": {
    "colab": {
     "base_uri": "https://localhost:8080/",
     "height": 380
    },
    "id": "MvRVXDo7u8DY",
    "outputId": "b0f15923-5770-4129-9eb2-457db18f3c19",
    "pycharm": {
     "name": "#%%\n"
    }
   },
   "outputs": [
    {
     "output_type": "stream",
     "name": "stdout",
     "text": [
      "['Darkness lights lit' 'Daylight' 'Darkness no lights']\n"
     ]
    },
    {
     "output_type": "execute_result",
     "data": {
      "text/plain": [
       "   Severity_binary  Day  Speed_limit  DryRoad  Clear  Gender  over55  \\\n",
       "0                0    1           30        1      1       1       0   \n",
       "1                0    1           30        1      1       1       0   \n",
       "2                0    1           30        1      1       1       0   \n",
       "3                0    0           30        1      1       1       0   \n",
       "4                0    1           30        1      1       1       0   \n",
       "5                0    1           30        1      1       0       1   \n",
       "6                0    1           30        1      1       0       0   \n",
       "7                0    1           30        1      1       0       0   \n",
       "8                0    1           30        1      1       1       0   \n",
       "9                1    1           30        1      1       0       0   \n",
       "\n",
       "   DualCarriageway    TimeDay  Night  Morning  Midday  Afternoon  Evening  \\\n",
       "0                0    Evening      0        0       0          0        1   \n",
       "1                0    Evening      0        0       0          0        1   \n",
       "2                0    Evening      0        0       0          0        1   \n",
       "3                0     Midday      0        0       1          0        0   \n",
       "4                0    Evening      0        0       0          0        1   \n",
       "5                0    Evening      0        0       0          0        1   \n",
       "6                0  Afternoon      0        0       0          1        0   \n",
       "7                0  Afternoon      0        0       0          1        0   \n",
       "8                0     Midday      0        0       1          0        0   \n",
       "9                0  Afternoon      0        0       0          1        0   \n",
       "\n",
       "   Dark  \n",
       "0     0  \n",
       "1     0  \n",
       "2     0  \n",
       "3     0  \n",
       "4     0  \n",
       "5     0  \n",
       "6     0  \n",
       "7     0  \n",
       "8     0  \n",
       "9     0  "
      ],
      "text/html": [
       "\n",
       "  <div id=\"df-a9b99d1f-10fc-4eb3-a13c-fb3d2f36649e\" class=\"colab-df-container\">\n",
       "    <div>\n",
       "<style scoped>\n",
       "    .dataframe tbody tr th:only-of-type {\n",
       "        vertical-align: middle;\n",
       "    }\n",
       "\n",
       "    .dataframe tbody tr th {\n",
       "        vertical-align: top;\n",
       "    }\n",
       "\n",
       "    .dataframe thead th {\n",
       "        text-align: right;\n",
       "    }\n",
       "</style>\n",
       "<table border=\"1\" class=\"dataframe\">\n",
       "  <thead>\n",
       "    <tr style=\"text-align: right;\">\n",
       "      <th></th>\n",
       "      <th>Severity_binary</th>\n",
       "      <th>Day</th>\n",
       "      <th>Speed_limit</th>\n",
       "      <th>DryRoad</th>\n",
       "      <th>Clear</th>\n",
       "      <th>Gender</th>\n",
       "      <th>over55</th>\n",
       "      <th>DualCarriageway</th>\n",
       "      <th>TimeDay</th>\n",
       "      <th>Night</th>\n",
       "      <th>Morning</th>\n",
       "      <th>Midday</th>\n",
       "      <th>Afternoon</th>\n",
       "      <th>Evening</th>\n",
       "      <th>Dark</th>\n",
       "    </tr>\n",
       "  </thead>\n",
       "  <tbody>\n",
       "    <tr>\n",
       "      <th>0</th>\n",
       "      <td>0</td>\n",
       "      <td>1</td>\n",
       "      <td>30</td>\n",
       "      <td>1</td>\n",
       "      <td>1</td>\n",
       "      <td>1</td>\n",
       "      <td>0</td>\n",
       "      <td>0</td>\n",
       "      <td>Evening</td>\n",
       "      <td>0</td>\n",
       "      <td>0</td>\n",
       "      <td>0</td>\n",
       "      <td>0</td>\n",
       "      <td>1</td>\n",
       "      <td>0</td>\n",
       "    </tr>\n",
       "    <tr>\n",
       "      <th>1</th>\n",
       "      <td>0</td>\n",
       "      <td>1</td>\n",
       "      <td>30</td>\n",
       "      <td>1</td>\n",
       "      <td>1</td>\n",
       "      <td>1</td>\n",
       "      <td>0</td>\n",
       "      <td>0</td>\n",
       "      <td>Evening</td>\n",
       "      <td>0</td>\n",
       "      <td>0</td>\n",
       "      <td>0</td>\n",
       "      <td>0</td>\n",
       "      <td>1</td>\n",
       "      <td>0</td>\n",
       "    </tr>\n",
       "    <tr>\n",
       "      <th>2</th>\n",
       "      <td>0</td>\n",
       "      <td>1</td>\n",
       "      <td>30</td>\n",
       "      <td>1</td>\n",
       "      <td>1</td>\n",
       "      <td>1</td>\n",
       "      <td>0</td>\n",
       "      <td>0</td>\n",
       "      <td>Evening</td>\n",
       "      <td>0</td>\n",
       "      <td>0</td>\n",
       "      <td>0</td>\n",
       "      <td>0</td>\n",
       "      <td>1</td>\n",
       "      <td>0</td>\n",
       "    </tr>\n",
       "    <tr>\n",
       "      <th>3</th>\n",
       "      <td>0</td>\n",
       "      <td>0</td>\n",
       "      <td>30</td>\n",
       "      <td>1</td>\n",
       "      <td>1</td>\n",
       "      <td>1</td>\n",
       "      <td>0</td>\n",
       "      <td>0</td>\n",
       "      <td>Midday</td>\n",
       "      <td>0</td>\n",
       "      <td>0</td>\n",
       "      <td>1</td>\n",
       "      <td>0</td>\n",
       "      <td>0</td>\n",
       "      <td>0</td>\n",
       "    </tr>\n",
       "    <tr>\n",
       "      <th>4</th>\n",
       "      <td>0</td>\n",
       "      <td>1</td>\n",
       "      <td>30</td>\n",
       "      <td>1</td>\n",
       "      <td>1</td>\n",
       "      <td>1</td>\n",
       "      <td>0</td>\n",
       "      <td>0</td>\n",
       "      <td>Evening</td>\n",
       "      <td>0</td>\n",
       "      <td>0</td>\n",
       "      <td>0</td>\n",
       "      <td>0</td>\n",
       "      <td>1</td>\n",
       "      <td>0</td>\n",
       "    </tr>\n",
       "    <tr>\n",
       "      <th>5</th>\n",
       "      <td>0</td>\n",
       "      <td>1</td>\n",
       "      <td>30</td>\n",
       "      <td>1</td>\n",
       "      <td>1</td>\n",
       "      <td>0</td>\n",
       "      <td>1</td>\n",
       "      <td>0</td>\n",
       "      <td>Evening</td>\n",
       "      <td>0</td>\n",
       "      <td>0</td>\n",
       "      <td>0</td>\n",
       "      <td>0</td>\n",
       "      <td>1</td>\n",
       "      <td>0</td>\n",
       "    </tr>\n",
       "    <tr>\n",
       "      <th>6</th>\n",
       "      <td>0</td>\n",
       "      <td>1</td>\n",
       "      <td>30</td>\n",
       "      <td>1</td>\n",
       "      <td>1</td>\n",
       "      <td>0</td>\n",
       "      <td>0</td>\n",
       "      <td>0</td>\n",
       "      <td>Afternoon</td>\n",
       "      <td>0</td>\n",
       "      <td>0</td>\n",
       "      <td>0</td>\n",
       "      <td>1</td>\n",
       "      <td>0</td>\n",
       "      <td>0</td>\n",
       "    </tr>\n",
       "    <tr>\n",
       "      <th>7</th>\n",
       "      <td>0</td>\n",
       "      <td>1</td>\n",
       "      <td>30</td>\n",
       "      <td>1</td>\n",
       "      <td>1</td>\n",
       "      <td>0</td>\n",
       "      <td>0</td>\n",
       "      <td>0</td>\n",
       "      <td>Afternoon</td>\n",
       "      <td>0</td>\n",
       "      <td>0</td>\n",
       "      <td>0</td>\n",
       "      <td>1</td>\n",
       "      <td>0</td>\n",
       "      <td>0</td>\n",
       "    </tr>\n",
       "    <tr>\n",
       "      <th>8</th>\n",
       "      <td>0</td>\n",
       "      <td>1</td>\n",
       "      <td>30</td>\n",
       "      <td>1</td>\n",
       "      <td>1</td>\n",
       "      <td>1</td>\n",
       "      <td>0</td>\n",
       "      <td>0</td>\n",
       "      <td>Midday</td>\n",
       "      <td>0</td>\n",
       "      <td>0</td>\n",
       "      <td>1</td>\n",
       "      <td>0</td>\n",
       "      <td>0</td>\n",
       "      <td>0</td>\n",
       "    </tr>\n",
       "    <tr>\n",
       "      <th>9</th>\n",
       "      <td>1</td>\n",
       "      <td>1</td>\n",
       "      <td>30</td>\n",
       "      <td>1</td>\n",
       "      <td>1</td>\n",
       "      <td>0</td>\n",
       "      <td>0</td>\n",
       "      <td>0</td>\n",
       "      <td>Afternoon</td>\n",
       "      <td>0</td>\n",
       "      <td>0</td>\n",
       "      <td>0</td>\n",
       "      <td>1</td>\n",
       "      <td>0</td>\n",
       "      <td>0</td>\n",
       "    </tr>\n",
       "  </tbody>\n",
       "</table>\n",
       "</div>\n",
       "    <div class=\"colab-df-buttons\">\n",
       "\n",
       "  <div class=\"colab-df-container\">\n",
       "    <button class=\"colab-df-convert\" onclick=\"convertToInteractive('df-a9b99d1f-10fc-4eb3-a13c-fb3d2f36649e')\"\n",
       "            title=\"Convert this dataframe to an interactive table.\"\n",
       "            style=\"display:none;\">\n",
       "\n",
       "  <svg xmlns=\"http://www.w3.org/2000/svg\" height=\"24px\" viewBox=\"0 -960 960 960\">\n",
       "    <path d=\"M120-120v-720h720v720H120Zm60-500h600v-160H180v160Zm220 220h160v-160H400v160Zm0 220h160v-160H400v160ZM180-400h160v-160H180v160Zm440 0h160v-160H620v160ZM180-180h160v-160H180v160Zm440 0h160v-160H620v160Z\"/>\n",
       "  </svg>\n",
       "    </button>\n",
       "\n",
       "  <style>\n",
       "    .colab-df-container {\n",
       "      display:flex;\n",
       "      gap: 12px;\n",
       "    }\n",
       "\n",
       "    .colab-df-convert {\n",
       "      background-color: #E8F0FE;\n",
       "      border: none;\n",
       "      border-radius: 50%;\n",
       "      cursor: pointer;\n",
       "      display: none;\n",
       "      fill: #1967D2;\n",
       "      height: 32px;\n",
       "      padding: 0 0 0 0;\n",
       "      width: 32px;\n",
       "    }\n",
       "\n",
       "    .colab-df-convert:hover {\n",
       "      background-color: #E2EBFA;\n",
       "      box-shadow: 0px 1px 2px rgba(60, 64, 67, 0.3), 0px 1px 3px 1px rgba(60, 64, 67, 0.15);\n",
       "      fill: #174EA6;\n",
       "    }\n",
       "\n",
       "    .colab-df-buttons div {\n",
       "      margin-bottom: 4px;\n",
       "    }\n",
       "\n",
       "    [theme=dark] .colab-df-convert {\n",
       "      background-color: #3B4455;\n",
       "      fill: #D2E3FC;\n",
       "    }\n",
       "\n",
       "    [theme=dark] .colab-df-convert:hover {\n",
       "      background-color: #434B5C;\n",
       "      box-shadow: 0px 1px 3px 1px rgba(0, 0, 0, 0.15);\n",
       "      filter: drop-shadow(0px 1px 2px rgba(0, 0, 0, 0.3));\n",
       "      fill: #FFFFFF;\n",
       "    }\n",
       "  </style>\n",
       "\n",
       "    <script>\n",
       "      const buttonEl =\n",
       "        document.querySelector('#df-a9b99d1f-10fc-4eb3-a13c-fb3d2f36649e button.colab-df-convert');\n",
       "      buttonEl.style.display =\n",
       "        google.colab.kernel.accessAllowed ? 'block' : 'none';\n",
       "\n",
       "      async function convertToInteractive(key) {\n",
       "        const element = document.querySelector('#df-a9b99d1f-10fc-4eb3-a13c-fb3d2f36649e');\n",
       "        const dataTable =\n",
       "          await google.colab.kernel.invokeFunction('convertToInteractive',\n",
       "                                                    [key], {});\n",
       "        if (!dataTable) return;\n",
       "\n",
       "        const docLinkHtml = 'Like what you see? Visit the ' +\n",
       "          '<a target=\"_blank\" href=https://colab.research.google.com/notebooks/data_table.ipynb>data table notebook</a>'\n",
       "          + ' to learn more about interactive tables.';\n",
       "        element.innerHTML = '';\n",
       "        dataTable['output_type'] = 'display_data';\n",
       "        await google.colab.output.renderOutput(dataTable, element);\n",
       "        const docLink = document.createElement('div');\n",
       "        docLink.innerHTML = docLinkHtml;\n",
       "        element.appendChild(docLink);\n",
       "      }\n",
       "    </script>\n",
       "  </div>\n",
       "\n",
       "\n",
       "<div id=\"df-8b2baf00-f724-4962-bee2-fb5c2aa917c7\">\n",
       "  <button class=\"colab-df-quickchart\" onclick=\"quickchart('df-8b2baf00-f724-4962-bee2-fb5c2aa917c7')\"\n",
       "            title=\"Suggest charts\"\n",
       "            style=\"display:none;\">\n",
       "\n",
       "<svg xmlns=\"http://www.w3.org/2000/svg\" height=\"24px\"viewBox=\"0 0 24 24\"\n",
       "     width=\"24px\">\n",
       "    <g>\n",
       "        <path d=\"M19 3H5c-1.1 0-2 .9-2 2v14c0 1.1.9 2 2 2h14c1.1 0 2-.9 2-2V5c0-1.1-.9-2-2-2zM9 17H7v-7h2v7zm4 0h-2V7h2v10zm4 0h-2v-4h2v4z\"/>\n",
       "    </g>\n",
       "</svg>\n",
       "  </button>\n",
       "\n",
       "<style>\n",
       "  .colab-df-quickchart {\n",
       "      --bg-color: #E8F0FE;\n",
       "      --fill-color: #1967D2;\n",
       "      --hover-bg-color: #E2EBFA;\n",
       "      --hover-fill-color: #174EA6;\n",
       "      --disabled-fill-color: #AAA;\n",
       "      --disabled-bg-color: #DDD;\n",
       "  }\n",
       "\n",
       "  [theme=dark] .colab-df-quickchart {\n",
       "      --bg-color: #3B4455;\n",
       "      --fill-color: #D2E3FC;\n",
       "      --hover-bg-color: #434B5C;\n",
       "      --hover-fill-color: #FFFFFF;\n",
       "      --disabled-bg-color: #3B4455;\n",
       "      --disabled-fill-color: #666;\n",
       "  }\n",
       "\n",
       "  .colab-df-quickchart {\n",
       "    background-color: var(--bg-color);\n",
       "    border: none;\n",
       "    border-radius: 50%;\n",
       "    cursor: pointer;\n",
       "    display: none;\n",
       "    fill: var(--fill-color);\n",
       "    height: 32px;\n",
       "    padding: 0;\n",
       "    width: 32px;\n",
       "  }\n",
       "\n",
       "  .colab-df-quickchart:hover {\n",
       "    background-color: var(--hover-bg-color);\n",
       "    box-shadow: 0 1px 2px rgba(60, 64, 67, 0.3), 0 1px 3px 1px rgba(60, 64, 67, 0.15);\n",
       "    fill: var(--button-hover-fill-color);\n",
       "  }\n",
       "\n",
       "  .colab-df-quickchart-complete:disabled,\n",
       "  .colab-df-quickchart-complete:disabled:hover {\n",
       "    background-color: var(--disabled-bg-color);\n",
       "    fill: var(--disabled-fill-color);\n",
       "    box-shadow: none;\n",
       "  }\n",
       "\n",
       "  .colab-df-spinner {\n",
       "    border: 2px solid var(--fill-color);\n",
       "    border-color: transparent;\n",
       "    border-bottom-color: var(--fill-color);\n",
       "    animation:\n",
       "      spin 1s steps(1) infinite;\n",
       "  }\n",
       "\n",
       "  @keyframes spin {\n",
       "    0% {\n",
       "      border-color: transparent;\n",
       "      border-bottom-color: var(--fill-color);\n",
       "      border-left-color: var(--fill-color);\n",
       "    }\n",
       "    20% {\n",
       "      border-color: transparent;\n",
       "      border-left-color: var(--fill-color);\n",
       "      border-top-color: var(--fill-color);\n",
       "    }\n",
       "    30% {\n",
       "      border-color: transparent;\n",
       "      border-left-color: var(--fill-color);\n",
       "      border-top-color: var(--fill-color);\n",
       "      border-right-color: var(--fill-color);\n",
       "    }\n",
       "    40% {\n",
       "      border-color: transparent;\n",
       "      border-right-color: var(--fill-color);\n",
       "      border-top-color: var(--fill-color);\n",
       "    }\n",
       "    60% {\n",
       "      border-color: transparent;\n",
       "      border-right-color: var(--fill-color);\n",
       "    }\n",
       "    80% {\n",
       "      border-color: transparent;\n",
       "      border-right-color: var(--fill-color);\n",
       "      border-bottom-color: var(--fill-color);\n",
       "    }\n",
       "    90% {\n",
       "      border-color: transparent;\n",
       "      border-bottom-color: var(--fill-color);\n",
       "    }\n",
       "  }\n",
       "</style>\n",
       "\n",
       "  <script>\n",
       "    async function quickchart(key) {\n",
       "      const quickchartButtonEl =\n",
       "        document.querySelector('#' + key + ' button');\n",
       "      quickchartButtonEl.disabled = true;  // To prevent multiple clicks.\n",
       "      quickchartButtonEl.classList.add('colab-df-spinner');\n",
       "      try {\n",
       "        const charts = await google.colab.kernel.invokeFunction(\n",
       "            'suggestCharts', [key], {});\n",
       "      } catch (error) {\n",
       "        console.error('Error during call to suggestCharts:', error);\n",
       "      }\n",
       "      quickchartButtonEl.classList.remove('colab-df-spinner');\n",
       "      quickchartButtonEl.classList.add('colab-df-quickchart-complete');\n",
       "    }\n",
       "    (() => {\n",
       "      let quickchartButtonEl =\n",
       "        document.querySelector('#df-8b2baf00-f724-4962-bee2-fb5c2aa917c7 button');\n",
       "      quickchartButtonEl.style.display =\n",
       "        google.colab.kernel.accessAllowed ? 'block' : 'none';\n",
       "    })();\n",
       "  </script>\n",
       "</div>\n",
       "\n",
       "    </div>\n",
       "  </div>\n"
      ],
      "application/vnd.google.colaboratory.intrinsic+json": {
       "type": "dataframe",
       "variable_name": "cleandata"
      }
     },
     "metadata": {},
     "execution_count": 6
    }
   ],
   "source": [
    "# Missing data\n",
    "# Substitute missing data with NA\n",
    "data = data.replace({'Missing Data': np.NAN, 'Other': np.NAN, 'Unknown': np.NAN, 'Missing data': np.NAN})\n",
    "# Assume data is missing completely at random and remove\n",
    "data = data.dropna()\n",
    "#data[\"Road_conditions\"].unique()\n",
    "\n",
    "# Data wrangling\n",
    "# Day to weekday(1) and weekend(0)\n",
    "data = data.replace({'Monday':1, 'Tuesday':1, 'Wednesday':1, 'Thursday':1, 'Friday': 1, 'Saturday':0, 'Sunday': 0})\n",
    "# TimeDay variable, categorical\n",
    "\n",
    "data[\"TimeDay\"] = [TimeGetter(i) for i in data[\"Time\"]]\n",
    "# Road conditions: Dry or not\n",
    "data[\"DryRoad\"] = [1 if i==\"Dry\" else 0 for i in data[\"Road_conditions\"]]\n",
    "\n",
    "# Weather: Clear or not\n",
    "data[\"Clear\"] = [1 if i==\"Clear\" else 0 for i in data[\"Weather_conditions\"]]\n",
    "\n",
    "# Light conditions: Dark or not\n",
    "data[\"Dark\"] = [1 if i==\"Darkness no lights\" else 0 for i in data[\"Light_conditions\"]]\n",
    "print(data['Light_conditions'].unique())\n",
    "# Road type: Binary whether it is Dual carriageway, use EDA to justify\n",
    "data[\"DualCarriageway\"] = [1 if i==\"Dual carriageway\" else 0 for i in data[\"Road_type\"]]\n",
    "# Age: over 55\n",
    "data[\"over55\"] = [1 if i in [\"56 to 65\", \"66 to 75\"] else 0 for i in data[\"Age_Grp\"]]\n",
    "\n",
    "# Severity_binary: Severe or not\n",
    "data[\"Severity_binary\"] = [0 if i==\"Slight\" else 1 for i in data[\"Severity\"]]\n",
    "\n",
    "# Night binary\n",
    "data[\"Night\"] = [1 if i==\"Night\" else 0 for i in data[\"TimeDay\"]]\n",
    "# Morning binary\n",
    "data[\"Morning\"] = [1 if i==\"Morning\" else 0 for i in data[\"TimeDay\"]]\n",
    "# Midday binary\n",
    "data[\"Midday\"] = [1 if i==\"Midday\" else 0 for i in data[\"TimeDay\"]]\n",
    "# Afternoon binary\n",
    "data[\"Afternoon\"] = [1 if i==\"Afternoon\" else 0 for i in data[\"TimeDay\"]]\n",
    "# Evening binary\n",
    "data[\"Evening\"] = [1 if i==\"Evening\" else 0 for i in data[\"TimeDay\"]]\n",
    "data['Gender']= [1 if i==\"Male\" else 0 for i in data[\"Gender\"]]\n",
    "\n",
    "cleandata = data[[\"Severity_binary\", \"Day\", \"Speed_limit\", \"DryRoad\", \"Clear\", \"Gender\", \"over55\", \"DualCarriageway\", \"TimeDay\", \"Night\", \"Morning\", \"Midday\", \"Afternoon\", \"Evening\", \"Dark\"]]\n",
    "cleandata.head(10)\n"
   ]
  },
  {
   "cell_type": "code",
   "execution_count": null,
   "metadata": {
    "colab": {
     "base_uri": "https://localhost:8080/"
    },
    "id": "qPM5ERW9qV2b",
    "outputId": "2e0d94ca-13ba-4470-f6fb-62ea83284e02",
    "pycharm": {
     "name": "#%%\n"
    }
   },
   "outputs": [
    {
     "output_type": "execute_result",
     "data": {
      "text/plain": [
       "173453"
      ]
     },
     "metadata": {},
     "execution_count": 7
    }
   ],
   "source": [
    "len(cleandata)"
   ]
  },
  {
   "cell_type": "code",
   "execution_count": null,
   "metadata": {
    "id": "rByyFRrncykR",
    "pycharm": {
     "name": "#%%\n"
    }
   },
   "outputs": [],
   "source": [
    "subset = cleandata[-100:]\n",
    "\n",
    "x1 = subset['DryRoad']\n",
    "x1 = pd.Series(x1).array\n",
    "\n",
    "x2 = subset['Clear']\n",
    "x2 = pd.Series(x2).array\n",
    "\n",
    "x3 = subset['DualCarriageway']\n",
    "x3 = pd.Series(x3).array\n",
    "\n",
    "x4 = subset['Dark']\n",
    "x4 = pd.Series(x4).array\n",
    "\n",
    "x5 = subset['Speed_limit']\n",
    "x5 = pd.Series(x5).array\n",
    "\n",
    "x6 = subset[\"Night\"]\n",
    "x6 = pd.Series(x6).array\n",
    "\n",
    "x7 = subset[\"Morning\"]\n",
    "x7 = pd.Series(x7).array\n",
    "\n",
    "x8 = subset[\"Midday\"]\n",
    "x8 = pd.Series(x8).array\n",
    "\n",
    "x9 = subset[\"Afternoon\"]\n",
    "x9 = pd.Series(x9).array\n",
    "\n",
    "x10 = subset[\"Evening\"]\n",
    "x10 = pd.Series(x10).array\n",
    "\n",
    "y = subset['Severity_binary']\n",
    "y = pd.Series(y).array\n",
    "\n",
    "num_obs = len(y)"
   ]
  },
  {
   "cell_type": "markdown",
   "metadata": {
    "id": "lfhfBrmhBNwS",
    "pycharm": {
     "name": "#%% md\n"
    }
   },
   "source": [
    "# We want model with three predictors: When, What, Who"
   ]
  },
  {
   "cell_type": "markdown",
   "metadata": {
    "id": "8nh5VU8wl_-F",
    "pycharm": {
     "name": "#%% md\n"
    }
   },
   "source": [
    "# Hierarchical structure on Time/Day betas"
   ]
  },
  {
   "cell_type": "code",
   "execution_count": null,
   "metadata": {
    "id": "DtojLw8RGYqq",
    "pycharm": {
     "name": "#%%\n"
    }
   },
   "outputs": [],
   "source": [
    "# Hierarchical structure on Time/Day betas\n",
    "\n",
    "with pm.Model() as timeday_model:\n",
    "\n",
    "    # p_day Probablity of being a weekday\n",
    "    p_day = pm.Beta('p_day', alpha=1, beta=1)\n",
    "\n",
    "    # Time weekday probabilities\n",
    "    pNight= pm.Beta('pNight', alpha=1, beta=1) ## = p1\n",
    "    p02= pm.Beta('p02', alpha=1, beta=1)\n",
    "    p03= pm.Beta('p03', alpha=1, beta=1)\n",
    "    p04= pm.Beta('p04', alpha=1, beta=1)\n",
    "    p05= pm.Beta('p05', alpha=1, beta=1) ## = p5\n",
    "    # Time weekend probabilities\n",
    "    p12= pm.Beta('p12', alpha=1, beta=1)\n",
    "    p13= pm.Beta('p13', alpha=1, beta=1)\n",
    "    p14= pm.Beta('p14', alpha=1, beta=1)\n",
    "\n",
    "    # p02 + p_day*(1-p02)*p12\n",
    "    no_negatives_2 = pm.math.switch(pm.math.lt(p02 + p_day*(1-p02)*p12,0), 0, p02 + p_day*(1-p02)*p12)\n",
    "    in_unit_interval_2 = pm.math.switch(pm.math.gt(no_negatives_2,1), 1, p02 + p_day*(1-p02)*p12)\n",
    "    p2 = pm.Deterministic('p2', in_unit_interval_2)\n",
    "\n",
    "    # p03 - p_day*(1-p03)*p13\n",
    "    no_negatives_3 = pm.math.switch(pm.math.lt(p03 - p_day*(1-p03)*p13,0), 0, p03 - p_day*(1-p03)*p13)\n",
    "    in_unit_interval_3 = pm.math.switch(pm.math.gt(no_negatives_3,1), 1, p03 - p_day*(1-p03)*p13)\n",
    "    p3 = pm.Deterministic('p3', in_unit_interval_3)\n",
    "\n",
    "    # p04 + p_day*(1-p04)*p14\n",
    "    no_negatives_4 = pm.math.switch(pm.math.lt(p04 + p_day*(1-p04)*p14,0), 0, p04 + p_day*(1-p04)*p14)\n",
    "    in_unit_interval_4 = pm.math.switch(pm.math.gt(no_negatives_4,1), 1, p04 + p_day*(1-p04)*p14)\n",
    "    p4 = pm.Deterministic('p4', in_unit_interval_4)\n",
    "\n",
    "    # Linear combination of predictors\n",
    "    logit_p = pNight*x6 +p2*x7 +p3*x8 +p4*x9 +p05*x10\n",
    "    logit_p = pm.Deterministic('logit_p',logit_p)\n",
    "\n",
    "    y = pm.Bernoulli('y', logit_p = logit_p, observed = y)"
   ]
  },
  {
   "cell_type": "code",
   "execution_count": null,
   "metadata": {
    "colab": {
     "base_uri": "https://localhost:8080/",
     "height": 598
    },
    "id": "PY8v3RwIHAiN",
    "outputId": "3b4b887e-43a3-466b-9952-338e57337a36",
    "pycharm": {
     "name": "#%%\n"
    }
   },
   "outputs": [
    {
     "data": {
      "image/svg+xml": "<?xml version=\"1.0\" encoding=\"UTF-8\" standalone=\"no\"?>\n<!DOCTYPE svg PUBLIC \"-//W3C//DTD SVG 1.1//EN\"\n \"http://www.w3.org/Graphics/SVG/1.1/DTD/svg11.dtd\">\n<!-- Generated by graphviz version 2.43.0 (0)\n -->\n<!-- Title: %3 Pages: 1 -->\n<svg width=\"571pt\" height=\"433pt\"\n viewBox=\"0.00 0.00 570.98 432.86\" xmlns=\"http://www.w3.org/2000/svg\" xmlns:xlink=\"http://www.w3.org/1999/xlink\">\n<g id=\"graph0\" class=\"graph\" transform=\"scale(1 1) rotate(0) translate(4 428.86)\">\n<title>%3</title>\n<polygon fill=\"white\" stroke=\"transparent\" points=\"-4,4 -4,-428.86 566.98,-428.86 566.98,4 -4,4\"/>\n<g id=\"clust1\" class=\"cluster\">\n<title>cluster100</title>\n<path fill=\"none\" stroke=\"black\" d=\"M152.99,-8C152.99,-8 240.99,-8 240.99,-8 246.99,-8 252.99,-14 252.99,-20 252.99,-20 252.99,-198.95 252.99,-198.95 252.99,-204.95 246.99,-210.95 240.99,-210.95 240.99,-210.95 152.99,-210.95 152.99,-210.95 146.99,-210.95 140.99,-204.95 140.99,-198.95 140.99,-198.95 140.99,-20 140.99,-20 140.99,-14 146.99,-8 152.99,-8\"/>\n<text text-anchor=\"middle\" x=\"234.49\" y=\"-15.8\" font-family=\"Times,serif\" font-size=\"14.00\">100</text>\n</g>\n<!-- p14 -->\n<g id=\"node1\" class=\"node\">\n<title>p14</title>\n<ellipse fill=\"none\" stroke=\"black\" cx=\"533.99\" cy=\"-387.38\" rx=\"28.98\" ry=\"37.45\"/>\n<text text-anchor=\"middle\" x=\"533.99\" y=\"-398.68\" font-family=\"Times,serif\" font-size=\"14.00\">p14</text>\n<text text-anchor=\"middle\" x=\"533.99\" y=\"-383.68\" font-family=\"Times,serif\" font-size=\"14.00\">~</text>\n<text text-anchor=\"middle\" x=\"533.99\" y=\"-368.68\" font-family=\"Times,serif\" font-size=\"14.00\">Beta</text>\n</g>\n<!-- p4 -->\n<g id=\"node12\" class=\"node\">\n<title>p4</title>\n<polygon fill=\"none\" stroke=\"black\" points=\"482.49,-302.93 391.49,-302.93 391.49,-249.93 482.49,-249.93 482.49,-302.93\"/>\n<text text-anchor=\"middle\" x=\"436.99\" y=\"-287.73\" font-family=\"Times,serif\" font-size=\"14.00\">p4</text>\n<text text-anchor=\"middle\" x=\"436.99\" y=\"-272.73\" font-family=\"Times,serif\" font-size=\"14.00\">~</text>\n<text text-anchor=\"middle\" x=\"436.99\" y=\"-257.73\" font-family=\"Times,serif\" font-size=\"14.00\">Deterministic</text>\n</g>\n<!-- p14&#45;&gt;p4 -->\n<g id=\"edge7\" class=\"edge\">\n<title>p14&#45;&gt;p4</title>\n<path fill=\"none\" stroke=\"black\" d=\"M512.46,-362.2C499.03,-347.12 481.56,-327.49 466.8,-310.92\"/>\n<polygon fill=\"black\" stroke=\"black\" points=\"469.07,-308.2 459.81,-303.06 463.85,-312.86 469.07,-308.2\"/>\n</g>\n<!-- p04 -->\n<g id=\"node2\" class=\"node\">\n<title>p04</title>\n<ellipse fill=\"none\" stroke=\"black\" cx=\"457.99\" cy=\"-387.38\" rx=\"28.98\" ry=\"37.45\"/>\n<text text-anchor=\"middle\" x=\"457.99\" y=\"-398.68\" font-family=\"Times,serif\" font-size=\"14.00\">p04</text>\n<text text-anchor=\"middle\" x=\"457.99\" y=\"-383.68\" font-family=\"Times,serif\" font-size=\"14.00\">~</text>\n<text text-anchor=\"middle\" x=\"457.99\" y=\"-368.68\" font-family=\"Times,serif\" font-size=\"14.00\">Beta</text>\n</g>\n<!-- p04&#45;&gt;p4 -->\n<g id=\"edge9\" class=\"edge\">\n<title>p04&#45;&gt;p4</title>\n<path fill=\"none\" stroke=\"black\" d=\"M451.12,-350.71C448.8,-338.71 446.22,-325.32 443.91,-313.3\"/>\n<polygon fill=\"black\" stroke=\"black\" points=\"447.28,-312.33 441.95,-303.17 440.41,-313.65 447.28,-312.33\"/>\n</g>\n<!-- p12 -->\n<g id=\"node3\" class=\"node\">\n<title>p12</title>\n<ellipse fill=\"none\" stroke=\"black\" cx=\"305.99\" cy=\"-387.38\" rx=\"28.98\" ry=\"37.45\"/>\n<text text-anchor=\"middle\" x=\"305.99\" y=\"-398.68\" font-family=\"Times,serif\" font-size=\"14.00\">p12</text>\n<text text-anchor=\"middle\" x=\"305.99\" y=\"-383.68\" font-family=\"Times,serif\" font-size=\"14.00\">~</text>\n<text text-anchor=\"middle\" x=\"305.99\" y=\"-368.68\" font-family=\"Times,serif\" font-size=\"14.00\">Beta</text>\n</g>\n<!-- p2 -->\n<g id=\"node11\" class=\"node\">\n<title>p2</title>\n<polygon fill=\"none\" stroke=\"black\" points=\"351.49,-302.93 260.49,-302.93 260.49,-249.93 351.49,-249.93 351.49,-302.93\"/>\n<text text-anchor=\"middle\" x=\"305.99\" y=\"-287.73\" font-family=\"Times,serif\" font-size=\"14.00\">p2</text>\n<text text-anchor=\"middle\" x=\"305.99\" y=\"-272.73\" font-family=\"Times,serif\" font-size=\"14.00\">~</text>\n<text text-anchor=\"middle\" x=\"305.99\" y=\"-257.73\" font-family=\"Times,serif\" font-size=\"14.00\">Deterministic</text>\n</g>\n<!-- p12&#45;&gt;p2 -->\n<g id=\"edge3\" class=\"edge\">\n<title>p12&#45;&gt;p2</title>\n<path fill=\"none\" stroke=\"black\" d=\"M305.99,-349.8C305.99,-338.06 305.99,-325.08 305.99,-313.38\"/>\n<polygon fill=\"black\" stroke=\"black\" points=\"309.49,-313.08 305.99,-303.08 302.49,-313.08 309.49,-313.08\"/>\n</g>\n<!-- p05 -->\n<g id=\"node4\" class=\"node\">\n<title>p05</title>\n<ellipse fill=\"none\" stroke=\"black\" cx=\"28.99\" cy=\"-276.43\" rx=\"28.98\" ry=\"37.45\"/>\n<text text-anchor=\"middle\" x=\"28.99\" y=\"-287.73\" font-family=\"Times,serif\" font-size=\"14.00\">p05</text>\n<text text-anchor=\"middle\" x=\"28.99\" y=\"-272.73\" font-family=\"Times,serif\" font-size=\"14.00\">~</text>\n<text text-anchor=\"middle\" x=\"28.99\" y=\"-257.73\" font-family=\"Times,serif\" font-size=\"14.00\">Beta</text>\n</g>\n<!-- logit_p -->\n<g id=\"node14\" class=\"node\">\n<title>logit_p</title>\n<polygon fill=\"none\" stroke=\"black\" points=\"242.49,-202.95 151.49,-202.95 151.49,-149.95 242.49,-149.95 242.49,-202.95\"/>\n<text text-anchor=\"middle\" x=\"196.99\" y=\"-187.75\" font-family=\"Times,serif\" font-size=\"14.00\">logit_p</text>\n<text text-anchor=\"middle\" x=\"196.99\" y=\"-172.75\" font-family=\"Times,serif\" font-size=\"14.00\">~</text>\n<text text-anchor=\"middle\" x=\"196.99\" y=\"-157.75\" font-family=\"Times,serif\" font-size=\"14.00\">Deterministic</text>\n</g>\n<!-- p05&#45;&gt;logit_p -->\n<g id=\"edge12\" class=\"edge\">\n<title>p05&#45;&gt;logit_p</title>\n<path fill=\"none\" stroke=\"black\" d=\"M51.26,-251.78C56.19,-247.21 61.57,-242.69 66.99,-238.95 90.13,-223.01 118.05,-209.19 142.08,-198.72\"/>\n<polygon fill=\"black\" stroke=\"black\" points=\"143.6,-201.88 151.42,-194.73 140.85,-195.44 143.6,-201.88\"/>\n</g>\n<!-- p03 -->\n<g id=\"node5\" class=\"node\">\n<title>p03</title>\n<ellipse fill=\"none\" stroke=\"black\" cx=\"141.99\" cy=\"-387.38\" rx=\"28.98\" ry=\"37.45\"/>\n<text text-anchor=\"middle\" x=\"141.99\" y=\"-398.68\" font-family=\"Times,serif\" font-size=\"14.00\">p03</text>\n<text text-anchor=\"middle\" x=\"141.99\" y=\"-383.68\" font-family=\"Times,serif\" font-size=\"14.00\">~</text>\n<text text-anchor=\"middle\" x=\"141.99\" y=\"-368.68\" font-family=\"Times,serif\" font-size=\"14.00\">Beta</text>\n</g>\n<!-- p3 -->\n<g id=\"node9\" class=\"node\">\n<title>p3</title>\n<polygon fill=\"none\" stroke=\"black\" points=\"242.49,-302.93 151.49,-302.93 151.49,-249.93 242.49,-249.93 242.49,-302.93\"/>\n<text text-anchor=\"middle\" x=\"196.99\" y=\"-287.73\" font-family=\"Times,serif\" font-size=\"14.00\">p3</text>\n<text text-anchor=\"middle\" x=\"196.99\" y=\"-272.73\" font-family=\"Times,serif\" font-size=\"14.00\">~</text>\n<text text-anchor=\"middle\" x=\"196.99\" y=\"-257.73\" font-family=\"Times,serif\" font-size=\"14.00\">Deterministic</text>\n</g>\n<!-- p03&#45;&gt;p3 -->\n<g id=\"edge5\" class=\"edge\">\n<title>p03&#45;&gt;p3</title>\n<path fill=\"none\" stroke=\"black\" d=\"M157.61,-355.45C164.37,-342.06 172.31,-326.32 179.29,-312.49\"/>\n<polygon fill=\"black\" stroke=\"black\" points=\"182.56,-313.78 183.94,-303.28 176.31,-310.63 182.56,-313.78\"/>\n</g>\n<!-- p13 -->\n<g id=\"node6\" class=\"node\">\n<title>p13</title>\n<ellipse fill=\"none\" stroke=\"black\" cx=\"65.99\" cy=\"-387.38\" rx=\"28.98\" ry=\"37.45\"/>\n<text text-anchor=\"middle\" x=\"65.99\" y=\"-398.68\" font-family=\"Times,serif\" font-size=\"14.00\">p13</text>\n<text text-anchor=\"middle\" x=\"65.99\" y=\"-383.68\" font-family=\"Times,serif\" font-size=\"14.00\">~</text>\n<text text-anchor=\"middle\" x=\"65.99\" y=\"-368.68\" font-family=\"Times,serif\" font-size=\"14.00\">Beta</text>\n</g>\n<!-- p13&#45;&gt;p3 -->\n<g id=\"edge6\" class=\"edge\">\n<title>p13&#45;&gt;p3</title>\n<path fill=\"none\" stroke=\"black\" d=\"M88.95,-363.62C93.83,-358.99 99.01,-354.22 103.99,-349.91 119.94,-336.1 138.11,-321.67 154.14,-309.35\"/>\n<polygon fill=\"black\" stroke=\"black\" points=\"156.48,-311.97 162.3,-303.11 152.23,-306.4 156.48,-311.97\"/>\n</g>\n<!-- p01 -->\n<g id=\"node7\" class=\"node\">\n<title>p01</title>\n<ellipse fill=\"none\" stroke=\"black\" cx=\"104.99\" cy=\"-276.43\" rx=\"28.98\" ry=\"37.45\"/>\n<text text-anchor=\"middle\" x=\"104.99\" y=\"-287.73\" font-family=\"Times,serif\" font-size=\"14.00\">p01</text>\n<text text-anchor=\"middle\" x=\"104.99\" y=\"-272.73\" font-family=\"Times,serif\" font-size=\"14.00\">~</text>\n<text text-anchor=\"middle\" x=\"104.99\" y=\"-257.73\" font-family=\"Times,serif\" font-size=\"14.00\">Beta</text>\n</g>\n<!-- p01&#45;&gt;logit_p -->\n<g id=\"edge10\" class=\"edge\">\n<title>p01&#45;&gt;logit_p</title>\n<path fill=\"none\" stroke=\"black\" d=\"M127.26,-251.71C138.93,-239.29 153.4,-223.88 166.13,-210.32\"/>\n<polygon fill=\"black\" stroke=\"black\" points=\"168.7,-212.7 172.99,-203.01 163.6,-207.91 168.7,-212.7\"/>\n</g>\n<!-- p_day -->\n<g id=\"node8\" class=\"node\">\n<title>p_day</title>\n<ellipse fill=\"none\" stroke=\"black\" cx=\"223.99\" cy=\"-387.38\" rx=\"35.21\" ry=\"37.45\"/>\n<text text-anchor=\"middle\" x=\"223.99\" y=\"-398.68\" font-family=\"Times,serif\" font-size=\"14.00\">p_day</text>\n<text text-anchor=\"middle\" x=\"223.99\" y=\"-383.68\" font-family=\"Times,serif\" font-size=\"14.00\">~</text>\n<text text-anchor=\"middle\" x=\"223.99\" y=\"-368.68\" font-family=\"Times,serif\" font-size=\"14.00\">Beta</text>\n</g>\n<!-- p_day&#45;&gt;p3 -->\n<g id=\"edge4\" class=\"edge\">\n<title>p_day&#45;&gt;p3</title>\n<path fill=\"none\" stroke=\"black\" d=\"M215.23,-351.01C212.19,-338.78 208.8,-325.07 205.77,-312.84\"/>\n<polygon fill=\"black\" stroke=\"black\" points=\"209.12,-311.83 203.32,-302.97 202.33,-313.52 209.12,-311.83\"/>\n</g>\n<!-- p_day&#45;&gt;p2 -->\n<g id=\"edge1\" class=\"edge\">\n<title>p_day&#45;&gt;p2</title>\n<path fill=\"none\" stroke=\"black\" d=\"M245.75,-357.47C256.38,-343.35 269.24,-326.26 280.35,-311.51\"/>\n<polygon fill=\"black\" stroke=\"black\" points=\"283.43,-313.22 286.65,-303.13 277.84,-309.01 283.43,-313.22\"/>\n</g>\n<!-- p_day&#45;&gt;p4 -->\n<g id=\"edge8\" class=\"edge\">\n<title>p_day&#45;&gt;p4</title>\n<path fill=\"none\" stroke=\"black\" d=\"M250.44,-362.18C256.01,-357.76 262.01,-353.43 267.99,-349.91 305.82,-327.61 319.68,-331.32 359.99,-313.91 367.15,-310.81 374.63,-307.45 381.99,-304.05\"/>\n<polygon fill=\"black\" stroke=\"black\" points=\"383.63,-307.15 391.22,-299.75 380.68,-300.8 383.63,-307.15\"/>\n</g>\n<!-- p3&#45;&gt;logit_p -->\n<g id=\"edge11\" class=\"edge\">\n<title>p3&#45;&gt;logit_p</title>\n<path fill=\"none\" stroke=\"black\" d=\"M196.99,-249.69C196.99,-238.55 196.99,-225.32 196.99,-213.25\"/>\n<polygon fill=\"black\" stroke=\"black\" points=\"200.49,-213.02 196.99,-203.02 193.49,-213.02 200.49,-213.02\"/>\n</g>\n<!-- p02 -->\n<g id=\"node10\" class=\"node\">\n<title>p02</title>\n<ellipse fill=\"none\" stroke=\"black\" cx=\"381.99\" cy=\"-387.38\" rx=\"28.98\" ry=\"37.45\"/>\n<text text-anchor=\"middle\" x=\"381.99\" y=\"-398.68\" font-family=\"Times,serif\" font-size=\"14.00\">p02</text>\n<text text-anchor=\"middle\" x=\"381.99\" y=\"-383.68\" font-family=\"Times,serif\" font-size=\"14.00\">~</text>\n<text text-anchor=\"middle\" x=\"381.99\" y=\"-368.68\" font-family=\"Times,serif\" font-size=\"14.00\">Beta</text>\n</g>\n<!-- p02&#45;&gt;p2 -->\n<g id=\"edge2\" class=\"edge\">\n<title>p02&#45;&gt;p2</title>\n<path fill=\"none\" stroke=\"black\" d=\"M362.81,-358.89C352.72,-344.42 340.26,-326.56 329.58,-311.25\"/>\n<polygon fill=\"black\" stroke=\"black\" points=\"332.45,-309.24 323.86,-303.04 326.71,-313.25 332.45,-309.24\"/>\n</g>\n<!-- p2&#45;&gt;logit_p -->\n<g id=\"edge13\" class=\"edge\">\n<title>p2&#45;&gt;logit_p</title>\n<path fill=\"none\" stroke=\"black\" d=\"M277.35,-249.69C263.83,-237.54 247.55,-222.9 233.19,-209.99\"/>\n<polygon fill=\"black\" stroke=\"black\" points=\"235.22,-207.11 225.44,-203.02 230.54,-212.31 235.22,-207.11\"/>\n</g>\n<!-- p4&#45;&gt;logit_p -->\n<g id=\"edge14\" class=\"edge\">\n<title>p4&#45;&gt;logit_p</title>\n<path fill=\"none\" stroke=\"black\" d=\"M391.26,-253.01C381.04,-248.22 370.2,-243.29 359.99,-238.95 324.54,-223.9 284.03,-208.61 252.27,-197.04\"/>\n<polygon fill=\"black\" stroke=\"black\" points=\"253.3,-193.69 242.7,-193.57 250.91,-200.27 253.3,-193.69\"/>\n</g>\n<!-- y -->\n<g id=\"node13\" class=\"node\">\n<title>y</title>\n<ellipse fill=\"lightgrey\" stroke=\"black\" cx=\"196.99\" cy=\"-76.48\" rx=\"48.17\" ry=\"37.45\"/>\n<text text-anchor=\"middle\" x=\"196.99\" y=\"-87.78\" font-family=\"Times,serif\" font-size=\"14.00\">y</text>\n<text text-anchor=\"middle\" x=\"196.99\" y=\"-72.78\" font-family=\"Times,serif\" font-size=\"14.00\">~</text>\n<text text-anchor=\"middle\" x=\"196.99\" y=\"-57.78\" font-family=\"Times,serif\" font-size=\"14.00\">Bernoulli</text>\n</g>\n<!-- logit_p&#45;&gt;y -->\n<g id=\"edge15\" class=\"edge\">\n<title>logit_p&#45;&gt;y</title>\n<path fill=\"none\" stroke=\"black\" d=\"M196.99,-149.71C196.99,-141.89 196.99,-133.03 196.99,-124.27\"/>\n<polygon fill=\"black\" stroke=\"black\" points=\"200.49,-124.1 196.99,-114.1 193.49,-124.1 200.49,-124.1\"/>\n</g>\n</g>\n</svg>\n",
      "text/plain": [
       "<graphviz.graphs.Digraph at 0x7bc8bd8d6080>"
      ]
     },
     "execution_count": 48,
     "metadata": {},
     "output_type": "execute_result"
    }
   ],
   "source": [
    "pm.model_to_graphviz(timeday_model)"
   ]
  },
  {
   "cell_type": "markdown",
   "metadata": {
    "id": "fsRJm-bNDoTM",
    "pycharm": {
     "name": "#%% md\n"
    }
   },
   "source": [
    "# Posterior inference: Variable selection for the conditions factors using Spike and Slab"
   ]
  },
  {
   "cell_type": "code",
   "execution_count": null,
   "metadata": {
    "colab": {
     "base_uri": "https://localhost:8080/",
     "height": 112
    },
    "id": "xZfOSJEm-w9B",
    "outputId": "1b848ef2-f05d-4b93-ce66-14394ca4313d",
    "pycharm": {
     "name": "#%%\n"
    }
   },
   "outputs": [
    {
     "output_type": "display_data",
     "data": {
      "text/plain": [
       "<IPython.core.display.HTML object>"
      ],
      "text/html": [
       "\n",
       "<style>\n",
       "    /* Turns off some styling */\n",
       "    progress {\n",
       "        /* gets rid of default border in Firefox and Opera. */\n",
       "        border: none;\n",
       "        /* Needs to be in here for Safari polyfill so background images work as expected. */\n",
       "        background-size: auto;\n",
       "    }\n",
       "    progress:not([value]), progress:not([value])::-webkit-progress-bar {\n",
       "        background: repeating-linear-gradient(45deg, #7e7e7e, #7e7e7e 10px, #5c5c5c 10px, #5c5c5c 20px);\n",
       "    }\n",
       "    .progress-bar-interrupted, .progress-bar-interrupted::-webkit-progress-bar {\n",
       "        background: #F44336;\n",
       "    }\n",
       "</style>\n"
      ]
     },
     "metadata": {}
    },
    {
     "output_type": "display_data",
     "data": {
      "text/plain": [
       "<IPython.core.display.HTML object>"
      ],
      "text/html": [
       "\n",
       "    <div>\n",
       "      <progress value='2000' class='' max='2000' style='width:300px; height:20px; vertical-align: middle;'></progress>\n",
       "      100.00% [2000/2000 00:06&lt;00:00 Sampling chain 0, 37 divergences]\n",
       "    </div>\n",
       "    "
      ]
     },
     "metadata": {}
    },
    {
     "output_type": "display_data",
     "data": {
      "text/plain": [
       "<IPython.core.display.HTML object>"
      ],
      "text/html": [
       "\n",
       "<style>\n",
       "    /* Turns off some styling */\n",
       "    progress {\n",
       "        /* gets rid of default border in Firefox and Opera. */\n",
       "        border: none;\n",
       "        /* Needs to be in here for Safari polyfill so background images work as expected. */\n",
       "        background-size: auto;\n",
       "    }\n",
       "    progress:not([value]), progress:not([value])::-webkit-progress-bar {\n",
       "        background: repeating-linear-gradient(45deg, #7e7e7e, #7e7e7e 10px, #5c5c5c 10px, #5c5c5c 20px);\n",
       "    }\n",
       "    .progress-bar-interrupted, .progress-bar-interrupted::-webkit-progress-bar {\n",
       "        background: #F44336;\n",
       "    }\n",
       "</style>\n"
      ]
     },
     "metadata": {}
    },
    {
     "output_type": "display_data",
     "data": {
      "text/plain": [
       "<IPython.core.display.HTML object>"
      ],
      "text/html": [
       "\n",
       "    <div>\n",
       "      <progress value='2000' class='' max='2000' style='width:300px; height:20px; vertical-align: middle;'></progress>\n",
       "      100.00% [2000/2000 00:05&lt;00:00 Sampling chain 1, 16 divergences]\n",
       "    </div>\n",
       "    "
      ]
     },
     "metadata": {}
    },
    {
     "output_type": "display_data",
     "data": {
      "text/plain": [
       "<IPython.core.display.HTML object>"
      ],
      "text/html": [
       "\n",
       "<style>\n",
       "    /* Turns off some styling */\n",
       "    progress {\n",
       "        /* gets rid of default border in Firefox and Opera. */\n",
       "        border: none;\n",
       "        /* Needs to be in here for Safari polyfill so background images work as expected. */\n",
       "        background-size: auto;\n",
       "    }\n",
       "    progress:not([value]), progress:not([value])::-webkit-progress-bar {\n",
       "        background: repeating-linear-gradient(45deg, #7e7e7e, #7e7e7e 10px, #5c5c5c 10px, #5c5c5c 20px);\n",
       "    }\n",
       "    .progress-bar-interrupted, .progress-bar-interrupted::-webkit-progress-bar {\n",
       "        background: #F44336;\n",
       "    }\n",
       "</style>\n"
      ]
     },
     "metadata": {}
    },
    {
     "output_type": "display_data",
     "data": {
      "text/plain": [
       "<IPython.core.display.HTML object>"
      ],
      "text/html": [
       "\n",
       "    <div>\n",
       "      <progress value='3000' class='' max='3000' style='width:300px; height:20px; vertical-align: middle;'></progress>\n",
       "      100.00% [3000/3000 00:08&lt;00:00 Sampling chain 0, 21 divergences]\n",
       "    </div>\n",
       "    "
      ]
     },
     "metadata": {}
    },
    {
     "output_type": "display_data",
     "data": {
      "text/plain": [
       "<IPython.core.display.HTML object>"
      ],
      "text/html": [
       "\n",
       "<style>\n",
       "    /* Turns off some styling */\n",
       "    progress {\n",
       "        /* gets rid of default border in Firefox and Opera. */\n",
       "        border: none;\n",
       "        /* Needs to be in here for Safari polyfill so background images work as expected. */\n",
       "        background-size: auto;\n",
       "    }\n",
       "    progress:not([value]), progress:not([value])::-webkit-progress-bar {\n",
       "        background: repeating-linear-gradient(45deg, #7e7e7e, #7e7e7e 10px, #5c5c5c 10px, #5c5c5c 20px);\n",
       "    }\n",
       "    .progress-bar-interrupted, .progress-bar-interrupted::-webkit-progress-bar {\n",
       "        background: #F44336;\n",
       "    }\n",
       "</style>\n"
      ]
     },
     "metadata": {}
    },
    {
     "output_type": "display_data",
     "data": {
      "text/plain": [
       "<IPython.core.display.HTML object>"
      ],
      "text/html": [
       "\n",
       "    <div>\n",
       "      <progress value='3000' class='' max='3000' style='width:300px; height:20px; vertical-align: middle;'></progress>\n",
       "      100.00% [3000/3000 00:08&lt;00:00 Sampling chain 1, 34 divergences]\n",
       "    </div>\n",
       "    "
      ]
     },
     "metadata": {}
    },
    {
     "output_type": "stream",
     "name": "stdout",
     "text": [
      "Selected predictors: ['Dark' 'Clear']\n"
     ]
    }
   ],
   "source": [
    "predictors = ['DryRoad', 'Dark', 'DualCarriageway', 'Clear','Speed_limit']\n",
    "\n",
    "# Get predictors and target variable as numpy arrays\n",
    "X = cleandata[predictors].values[-100:]\n",
    "y = cleandata['Severity_binary'].values[-100:]\n",
    "\n",
    "# Number of predictors\n",
    "n_predictors = X.shape[1]\n",
    "\n",
    "# Define Bayesian binary regression model with spike-and-slab priors for variable selection\n",
    "with pm.Model() as model:\n",
    "    # Coefficients for predictors\n",
    "    beta = pm.Normal('beta', mu=0, sigma=1, shape=n_predictors)\n",
    "\n",
    "    # Indicator variables for spike-and-slab\n",
    "    gamma = pm.Bernoulli('gamma', p=0.5, shape=n_predictors)\n",
    "\n",
    "    # Create deterministic variable for selected coefficients\n",
    "    beta_selected = pm.Deterministic('beta_selected', beta * gamma)\n",
    "\n",
    "    # Logistic regression model\n",
    "    p = pm.math.invlogit(pm.math.dot(X, beta_selected))\n",
    "\n",
    "    # Likelihood\n",
    "    y_obs = pm.Bernoulli('y_obs', p=p, observed=y)\n",
    "    idata = pm.sample()\n",
    "    # Sample from the posterior\n",
    "    trace = pm.sample(2000, tune=1000, return_inferencedata=False)\n",
    "\n",
    "# Extract selected predictors based on posterior samples of gamma\n",
    "selected_predictors = np.array(predictors)[np.mean(trace['gamma'], axis=0) > 0.5]\n",
    "print(\"Selected predictors:\", selected_predictors)"
   ]
  },
  {
   "cell_type": "code",
   "execution_count": null,
   "metadata": {
    "colab": {
     "base_uri": "https://localhost:8080/",
     "height": 551
    },
    "id": "dWPFzt0ZBe1O",
    "outputId": "6eb4934e-266d-4ee2-9e99-cfd99f418a4a",
    "pycharm": {
     "name": "#%%\n"
    }
   },
   "outputs": [
    {
     "output_type": "execute_result",
     "data": {
      "text/plain": [
       "[Text(1, 0, 'DryRoad'),\n",
       " Text(2, 0, 'Dark'),\n",
       " Text(3, 0, 'DualCarriageway'),\n",
       " Text(4, 0, 'Clear'),\n",
       " Text(5, 0, 'Speed_limit')]"
      ]
     },
     "metadata": {},
     "execution_count": 8
    },
    {
     "output_type": "display_data",
     "data": {
      "text/plain": [
       "<Figure size 1800x500 with 2 Axes>"
      ],
      "image/png": "[encoded data removed]"
     },
     "metadata": {}
    }
   ],
   "source": [
    "# Spike and Slab variable selection plots: only the second and the fourth betas have inclusion probability > 0.5\n",
    "import matplotlib.pyplot as plt\n",
    "fig,ax = plt.subplots(1,2,figsize=(18,5));\n",
    "\n",
    "num_of_beta = 5\n",
    "ax[0].plot(idata.posterior['gamma'].values.reshape((-1,num_of_beta)).mean(axis=0),'.');\n",
    "ax[0].set_title('Posterior Inclusion Probability');\n",
    "ax[1].boxplot(idata.posterior['beta_selected'].values.reshape((-1,num_of_beta)));\n",
    "ax[1].set_title('Posterior $\\\\beta$');\n",
    "ax[1].set_xticklabels(['DryRoad', 'Dark', 'DualCarriageway', 'Clear','Speed_limit'])"
   ]
  },
  {
   "cell_type": "markdown",
   "metadata": {
    "id": "B4AQrNQL1dhy",
    "pycharm": {
     "name": "#%% md\n"
    }
   },
   "source": [
    "In the plot above we see that DryRoad and DualCarriageway were both not selected and they were slabbed to zero"
   ]
  },
  {
   "cell_type": "markdown",
   "metadata": {
    "id": "NsowOxqJmFtA",
    "pycharm": {
     "name": "#%% md\n"
    }
   },
   "source": [
    "# Combine selected predictors with hierarchical model established earlier"
   ]
  },
  {
   "cell_type": "code",
   "execution_count": null,
   "metadata": {
    "colab": {
     "background_save": true,
     "base_uri": "https://localhost:8080/",
     "height": 57
    },
    "id": "Xr2I8j9BmgAu",
    "outputId": "b7c033bb-0988-43be-bf34-a9620b3acaab",
    "pycharm": {
     "name": "#%%\n"
    }
   },
   "outputs": [
    {
     "data": {
      "text/html": [
       "\n",
       "<style>\n",
       "    /* Turns off some styling */\n",
       "    progress {\n",
       "        /* gets rid of default border in Firefox and Opera. */\n",
       "        border: none;\n",
       "        /* Needs to be in here for Safari polyfill so background images work as expected. */\n",
       "        background-size: auto;\n",
       "    }\n",
       "    progress:not([value]), progress:not([value])::-webkit-progress-bar {\n",
       "        background: repeating-linear-gradient(45deg, #7e7e7e, #7e7e7e 10px, #5c5c5c 10px, #5c5c5c 20px);\n",
       "    }\n",
       "    .progress-bar-interrupted, .progress-bar-interrupted::-webkit-progress-bar {\n",
       "        background: #F44336;\n",
       "    }\n",
       "</style>\n"
      ],
      "text/plain": [
       "<IPython.core.display.HTML object>"
      ]
     },
     "metadata": {},
     "output_type": "display_data"
    },
    {
     "data": {
      "text/html": [
       "\n",
       "    <div>\n",
       "      <progress value='2000' class='' max='2000' style='width:300px; height:20px; vertical-align: middle;'></progress>\n",
       "      100.00% [2000/2000 00:14&lt;00:00 Sampling chain 0, 0 divergences]\n",
       "    </div>\n",
       "    "
      ],
      "text/plain": [
       "<IPython.core.display.HTML object>"
      ]
     },
     "metadata": {},
     "output_type": "display_data"
    },
    {
     "data": {
      "text/html": [
       "\n",
       "<style>\n",
       "    /* Turns off some styling */\n",
       "    progress {\n",
       "        /* gets rid of default border in Firefox and Opera. */\n",
       "        border: none;\n",
       "        /* Needs to be in here for Safari polyfill so background images work as expected. */\n",
       "        background-size: auto;\n",
       "    }\n",
       "    progress:not([value]), progress:not([value])::-webkit-progress-bar {\n",
       "        background: repeating-linear-gradient(45deg, #7e7e7e, #7e7e7e 10px, #5c5c5c 10px, #5c5c5c 20px);\n",
       "    }\n",
       "    .progress-bar-interrupted, .progress-bar-interrupted::-webkit-progress-bar {\n",
       "        background: #F44336;\n",
       "    }\n",
       "</style>\n"
      ],
      "text/plain": [
       "<IPython.core.display.HTML object>"
      ]
     },
     "metadata": {},
     "output_type": "display_data"
    },
    {
     "data": {
      "text/html": [
       "\n",
       "    <div>\n",
       "      <progress value='2000' class='' max='2000' style='width:300px; height:20px; vertical-align: middle;'></progress>\n",
       "      100.00% [2000/2000 00:14&lt;00:00 Sampling chain 1, 0 divergences]\n",
       "    </div>\n",
       "    "
      ],
      "text/plain": [
       "<IPython.core.display.HTML object>"
      ]
     },
     "metadata": {},
     "output_type": "display_data"
    }
   ],
   "source": [
    "with pm.Model() as complete_model:\n",
    "\n",
    "    # p_day Probablity of being a weekday\n",
    "    p_day = pm.Beta('p_day', alpha=1, beta=1)\n",
    "\n",
    "    # Time weekday probabilities\n",
    "    pNight= pm.Beta('pNight', alpha=1, beta=1) ## = p1\n",
    "    p02= pm.Beta('p02', alpha=1, beta=1)\n",
    "    p03= pm.Beta('p03', alpha=1, beta=1)\n",
    "    p04= pm.Beta('p04', alpha=1, beta=1)\n",
    "    p05= pm.Beta('p05', alpha=1, beta=1) ## = p5\n",
    "    # Time weekend probabilities\n",
    "    p12= pm.Beta('p12', alpha=1, beta=1)\n",
    "    p13= pm.Beta('p13', alpha=1, beta=1)\n",
    "    p14= pm.Beta('p14', alpha=1, beta=1)\n",
    "\n",
    "    # p02 + p_day*(1-p02)*p12\n",
    "    no_negatives_2 = pm.math.switch(pm.math.lt(p02 + p_day*(1-p02)*p12,0), 0, p02 + p_day*(1-p02)*p12)\n",
    "    in_unit_interval_2 = pm.math.switch(pm.math.gt(no_negatives_2,1), 1, p02 + p_day*(1-p02)*p12)\n",
    "    p2 = pm.Deterministic('p2', in_unit_interval_2)\n",
    "\n",
    "    # p03 - p_day*(1-p03)*p13\n",
    "    no_negatives_3 = pm.math.switch(pm.math.lt(p03 - p_day*(1-p03)*p13,0), 0, p03 - p_day*(1-p03)*p13)\n",
    "    in_unit_interval_3 = pm.math.switch(pm.math.gt(no_negatives_3,1), 1, p03 - p_day*(1-p03)*p13)\n",
    "    p3 = pm.Deterministic('p3', in_unit_interval_3)\n",
    "\n",
    "    # p04 + p_day*(1-p04)*p14\n",
    "    no_negatives_4 = pm.math.switch(pm.math.lt(p04 + p_day*(1-p04)*p14,0), 0, p04 + p_day*(1-p04)*p14)\n",
    "    in_unit_interval_4 = pm.math.switch(pm.math.gt(no_negatives_4,1), 1, p04 + p_day*(1-p04)*p14)\n",
    "    p4 = pm.Deterministic('p4', in_unit_interval_4)\n",
    "\n",
    "    # Intercept\n",
    "    intercept = pm.Normal('intercept', mu=0, sigma=1)\n",
    "\n",
    "    # Priors of selected condition predictors\n",
    "    beta_dark = pm.Normal('beta_dark', mu=0, sigma=1)  # Prior for 'Dark'\n",
    "    beta_clear = pm.Normal('beta_clear', mu=0, sigma=1)  # Prior for 'Clear'\n",
    "\n",
    "    # Linear combination of predictors\n",
    "    logit_p = intercept + pNight*x6 +p2*x7 +p3*x8 +p4*x9 +p05*x10 + beta_clear*x2 + beta_dark*x4\n",
    "    logit_p = pm.Deterministic('logit_p',logit_p)\n",
    "\n",
    "    Y = pm.Bernoulli('Y', logit_p = logit_p, observed=y)\n",
    "\n",
    "    idata_2 = pm.sample()"
   ]
  },
  {
   "cell_type": "markdown",
   "source": [
    "# Model diagnostic Part I"
   ],
   "metadata": {
    "id": "ZaHc-cNuaY2d",
    "pycharm": {
     "name": "#%% md\n"
    }
   }
  },
  {
   "cell_type": "code",
   "source": [
    "# Baisc regression model for comparison\n",
    "with pm.Model() as model_basic:\n",
    "    beta_0 = pm.Normal('beta_0', mu=0, sigma=1)\n",
    "    beta_1 = pm.Normal('beta_1', mu=0, sigma=1)\n",
    "    beta_2 = pm.Normal('beta_2', mu=0, sigma=1)\n",
    "    beta_3 = pm.Normal('beta_3', mu=0, sigma=1)\n",
    "    beta_4 = pm.Normal('beta_4', mu=0, sigma=1)\n",
    "    beta_5 = pm.Normal('beta_5', mu=0, sigma=1)\n",
    "    beta_dark = pm.Normal('beta_dark', mu=0, sigma=1)  # Prior for 'Dark'\n",
    "    beta_clear = pm.Normal('beta_clear', mu=0, sigma=1)  # Prior for 'Clear'\n",
    "\n",
    "    # Linear combination of predictors\n",
    "    logit_p = beta_0 + beta_1*x6 +beta_2*x7 +beta_3*x8 +beta_4*x9 +beta_5*x10 + beta_clear*x2 + beta_dark*x4\n",
    "    logit_p = pm.Deterministic('logit_p',logit_p)\n",
    "\n",
    "    Basic_Y = pm.Bernoulli('Basic_Y', logit_p = logit_p, observed=y)\n",
    "\n",
    "    idata_3 = pm.sample()"
   ],
   "metadata": {
    "id": "M3cMPKGBaeln",
    "pycharm": {
     "name": "#%%\n"
    }
   },
   "execution_count": null,
   "outputs": []
  },
  {
   "cell_type": "code",
   "source": [
    "with complete_model:\n",
    "    trace_complete = pm.sample(2000, tune=1000)\n",
    "    pm.compute_log_likelihood(trace_complete) # or pass `idata_kwargs={\"log_likelihood\": True}` to `pm.sample`\n",
    "\n",
    "with model_basic:\n",
    "    trace_basic = pm.sample(2000, tune=1000)\n",
    "    pm.compute_log_likelihood(trace_basic)"
   ],
   "metadata": {
    "id": "qqccHkkBafoh",
    "pycharm": {
     "name": "#%%\n"
    }
   },
   "execution_count": null,
   "outputs": []
  },
  {
   "cell_type": "code",
   "source": [
    "az.waic(trace_complete)"
   ],
   "metadata": {
    "colab": {
     "base_uri": "https://localhost:8080/"
    },
    "id": "czFDZYPjalpe",
    "outputId": "b747b380-1092-46bb-fc86-5470303ad878",
    "pycharm": {
     "name": "#%%\n"
    }
   },
   "execution_count": null,
   "outputs": [
    {
     "output_type": "stream",
     "name": "stderr",
     "text": [
      "<ipython-input-26-dbc902779305>:1: DeprecationWarning: `product` is deprecated as of NumPy 1.25.0, and will be removed in NumPy 2.0. Please use `prod` instead.\n",
      "  az.waic(trace_complete)\n"
     ]
    },
    {
     "output_type": "execute_result",
     "data": {
      "text/plain": [
       "Computed from 4000 posterior samples and 100 observations log-likelihood matrix.\n",
       "\n",
       "          Estimate       SE\n",
       "elpd_waic   -67.58     2.57\n",
       "p_waic        2.68        -"
      ]
     },
     "metadata": {},
     "execution_count": 26
    }
   ]
  },
  {
   "cell_type": "code",
   "source": [
    "az.waic(trace_basic)"
   ],
   "metadata": {
    "colab": {
     "base_uri": "https://localhost:8080/"
    },
    "id": "1s4vw2mbasBN",
    "outputId": "95b21c28-1251-4556-9fec-44ff729052b1",
    "pycharm": {
     "name": "#%%\n"
    }
   },
   "execution_count": null,
   "outputs": [
    {
     "output_type": "stream",
     "name": "stderr",
     "text": [
      "<ipython-input-27-ccd65360a166>:1: DeprecationWarning: `product` is deprecated as of NumPy 1.25.0, and will be removed in NumPy 2.0. Please use `prod` instead.\n",
      "  az.waic(trace_basic)\n"
     ]
    },
    {
     "output_type": "execute_result",
     "data": {
      "text/plain": [
       "Computed from 4000 posterior samples and 100 observations log-likelihood matrix.\n",
       "\n",
       "          Estimate       SE\n",
       "elpd_waic   -68.80     2.92\n",
       "p_waic        4.37        -"
      ]
     },
     "metadata": {},
     "execution_count": 27
    }
   ]
  },
  {
   "cell_type": "code",
   "source": [
    "az.compare({\"complete model\": trace_complete, \"basic model\": trace_basic}, ic='waic')"
   ],
   "metadata": {
    "colab": {
     "base_uri": "https://localhost:8080/",
     "height": 109
    },
    "id": "eUhd1YL-ay_3",
    "outputId": "3fb27f5e-ac38-41f3-e685-56c0ea3828f7",
    "pycharm": {
     "name": "#%%\n"
    }
   },
   "execution_count": null,
   "outputs": [
    {
     "output_type": "execute_result",
     "data": {
      "text/plain": [
       "                rank  elpd_waic    p_waic  elpd_diff  weight        se  \\\n",
       "complete_model     0 -67.575531  2.677865   0.000000     1.0  2.569283   \n",
       "model2             1 -68.799189  4.366537   1.223658     0.0  2.919276   \n",
       "\n",
       "                     dse  warning scale  \n",
       "complete_model  0.000000    False   log  \n",
       "model2          0.887012    False   log  "
      ],
      "text/html": [
       "\n",
       "  <div id=\"df-db06740c-1a11-4770-8ecf-cc4b5c9593fc\" class=\"colab-df-container\">\n",
       "    <div>\n",
       "<style scoped>\n",
       "    .dataframe tbody tr th:only-of-type {\n",
       "        vertical-align: middle;\n",
       "    }\n",
       "\n",
       "    .dataframe tbody tr th {\n",
       "        vertical-align: top;\n",
       "    }\n",
       "\n",
       "    .dataframe thead th {\n",
       "        text-align: right;\n",
       "    }\n",
       "</style>\n",
       "<table border=\"1\" class=\"dataframe\">\n",
       "  <thead>\n",
       "    <tr style=\"text-align: right;\">\n",
       "      <th></th>\n",
       "      <th>rank</th>\n",
       "      <th>elpd_waic</th>\n",
       "      <th>p_waic</th>\n",
       "      <th>elpd_diff</th>\n",
       "      <th>weight</th>\n",
       "      <th>se</th>\n",
       "      <th>dse</th>\n",
       "      <th>warning</th>\n",
       "      <th>scale</th>\n",
       "    </tr>\n",
       "  </thead>\n",
       "  <tbody>\n",
       "    <tr>\n",
       "      <th>complete_model</th>\n",
       "      <td>0</td>\n",
       "      <td>-67.575531</td>\n",
       "      <td>2.677865</td>\n",
       "      <td>0.000000</td>\n",
       "      <td>1.0</td>\n",
       "      <td>2.569283</td>\n",
       "      <td>0.000000</td>\n",
       "      <td>False</td>\n",
       "      <td>log</td>\n",
       "    </tr>\n",
       "    <tr>\n",
       "      <th>model2</th>\n",
       "      <td>1</td>\n",
       "      <td>-68.799189</td>\n",
       "      <td>4.366537</td>\n",
       "      <td>1.223658</td>\n",
       "      <td>0.0</td>\n",
       "      <td>2.919276</td>\n",
       "      <td>0.887012</td>\n",
       "      <td>False</td>\n",
       "      <td>log</td>\n",
       "    </tr>\n",
       "  </tbody>\n",
       "</table>\n",
       "</div>\n",
       "    <div class=\"colab-df-buttons\">\n",
       "\n",
       "  <div class=\"colab-df-container\">\n",
       "    <button class=\"colab-df-convert\" onclick=\"convertToInteractive('df-db06740c-1a11-4770-8ecf-cc4b5c9593fc')\"\n",
       "            title=\"Convert this dataframe to an interactive table.\"\n",
       "            style=\"display:none;\">\n",
       "\n",
       "  <svg xmlns=\"http://www.w3.org/2000/svg\" height=\"24px\" viewBox=\"0 -960 960 960\">\n",
       "    <path d=\"M120-120v-720h720v720H120Zm60-500h600v-160H180v160Zm220 220h160v-160H400v160Zm0 220h160v-160H400v160ZM180-400h160v-160H180v160Zm440 0h160v-160H620v160ZM180-180h160v-160H180v160Zm440 0h160v-160H620v160Z\"/>\n",
       "  </svg>\n",
       "    </button>\n",
       "\n",
       "  <style>\n",
       "    .colab-df-container {\n",
       "      display:flex;\n",
       "      gap: 12px;\n",
       "    }\n",
       "\n",
       "    .colab-df-convert {\n",
       "      background-color: #E8F0FE;\n",
       "      border: none;\n",
       "      border-radius: 50%;\n",
       "      cursor: pointer;\n",
       "      display: none;\n",
       "      fill: #1967D2;\n",
       "      height: 32px;\n",
       "      padding: 0 0 0 0;\n",
       "      width: 32px;\n",
       "    }\n",
       "\n",
       "    .colab-df-convert:hover {\n",
       "      background-color: #E2EBFA;\n",
       "      box-shadow: 0px 1px 2px rgba(60, 64, 67, 0.3), 0px 1px 3px 1px rgba(60, 64, 67, 0.15);\n",
       "      fill: #174EA6;\n",
       "    }\n",
       "\n",
       "    .colab-df-buttons div {\n",
       "      margin-bottom: 4px;\n",
       "    }\n",
       "\n",
       "    [theme=dark] .colab-df-convert {\n",
       "      background-color: #3B4455;\n",
       "      fill: #D2E3FC;\n",
       "    }\n",
       "\n",
       "    [theme=dark] .colab-df-convert:hover {\n",
       "      background-color: #434B5C;\n",
       "      box-shadow: 0px 1px 3px 1px rgba(0, 0, 0, 0.15);\n",
       "      filter: drop-shadow(0px 1px 2px rgba(0, 0, 0, 0.3));\n",
       "      fill: #FFFFFF;\n",
       "    }\n",
       "  </style>\n",
       "\n",
       "    <script>\n",
       "      const buttonEl =\n",
       "        document.querySelector('#df-db06740c-1a11-4770-8ecf-cc4b5c9593fc button.colab-df-convert');\n",
       "      buttonEl.style.display =\n",
       "        google.colab.kernel.accessAllowed ? 'block' : 'none';\n",
       "\n",
       "      async function convertToInteractive(key) {\n",
       "        const element = document.querySelector('#df-db06740c-1a11-4770-8ecf-cc4b5c9593fc');\n",
       "        const dataTable =\n",
       "          await google.colab.kernel.invokeFunction('convertToInteractive',\n",
       "                                                    [key], {});\n",
       "        if (!dataTable) return;\n",
       "\n",
       "        const docLinkHtml = 'Like what you see? Visit the ' +\n",
       "          '<a target=\"_blank\" href=https://colab.research.google.com/notebooks/data_table.ipynb>data table notebook</a>'\n",
       "          + ' to learn more about interactive tables.';\n",
       "        element.innerHTML = '';\n",
       "        dataTable['output_type'] = 'display_data';\n",
       "        await google.colab.output.renderOutput(dataTable, element);\n",
       "        const docLink = document.createElement('div');\n",
       "        docLink.innerHTML = docLinkHtml;\n",
       "        element.appendChild(docLink);\n",
       "      }\n",
       "    </script>\n",
       "  </div>\n",
       "\n",
       "\n",
       "<div id=\"df-cdb2db0b-4ea4-48fc-a198-99b6522425bb\">\n",
       "  <button class=\"colab-df-quickchart\" onclick=\"quickchart('df-cdb2db0b-4ea4-48fc-a198-99b6522425bb')\"\n",
       "            title=\"Suggest charts\"\n",
       "            style=\"display:none;\">\n",
       "\n",
       "<svg xmlns=\"http://www.w3.org/2000/svg\" height=\"24px\"viewBox=\"0 0 24 24\"\n",
       "     width=\"24px\">\n",
       "    <g>\n",
       "        <path d=\"M19 3H5c-1.1 0-2 .9-2 2v14c0 1.1.9 2 2 2h14c1.1 0 2-.9 2-2V5c0-1.1-.9-2-2-2zM9 17H7v-7h2v7zm4 0h-2V7h2v10zm4 0h-2v-4h2v4z\"/>\n",
       "    </g>\n",
       "</svg>\n",
       "  </button>\n",
       "\n",
       "<style>\n",
       "  .colab-df-quickchart {\n",
       "      --bg-color: #E8F0FE;\n",
       "      --fill-color: #1967D2;\n",
       "      --hover-bg-color: #E2EBFA;\n",
       "      --hover-fill-color: #174EA6;\n",
       "      --disabled-fill-color: #AAA;\n",
       "      --disabled-bg-color: #DDD;\n",
       "  }\n",
       "\n",
       "  [theme=dark] .colab-df-quickchart {\n",
       "      --bg-color: #3B4455;\n",
       "      --fill-color: #D2E3FC;\n",
       "      --hover-bg-color: #434B5C;\n",
       "      --hover-fill-color: #FFFFFF;\n",
       "      --disabled-bg-color: #3B4455;\n",
       "      --disabled-fill-color: #666;\n",
       "  }\n",
       "\n",
       "  .colab-df-quickchart {\n",
       "    background-color: var(--bg-color);\n",
       "    border: none;\n",
       "    border-radius: 50%;\n",
       "    cursor: pointer;\n",
       "    display: none;\n",
       "    fill: var(--fill-color);\n",
       "    height: 32px;\n",
       "    padding: 0;\n",
       "    width: 32px;\n",
       "  }\n",
       "\n",
       "  .colab-df-quickchart:hover {\n",
       "    background-color: var(--hover-bg-color);\n",
       "    box-shadow: 0 1px 2px rgba(60, 64, 67, 0.3), 0 1px 3px 1px rgba(60, 64, 67, 0.15);\n",
       "    fill: var(--button-hover-fill-color);\n",
       "  }\n",
       "\n",
       "  .colab-df-quickchart-complete:disabled,\n",
       "  .colab-df-quickchart-complete:disabled:hover {\n",
       "    background-color: var(--disabled-bg-color);\n",
       "    fill: var(--disabled-fill-color);\n",
       "    box-shadow: none;\n",
       "  }\n",
       "\n",
       "  .colab-df-spinner {\n",
       "    border: 2px solid var(--fill-color);\n",
       "    border-color: transparent;\n",
       "    border-bottom-color: var(--fill-color);\n",
       "    animation:\n",
       "      spin 1s steps(1) infinite;\n",
       "  }\n",
       "\n",
       "  @keyframes spin {\n",
       "    0% {\n",
       "      border-color: transparent;\n",
       "      border-bottom-color: var(--fill-color);\n",
       "      border-left-color: var(--fill-color);\n",
       "    }\n",
       "    20% {\n",
       "      border-color: transparent;\n",
       "      border-left-color: var(--fill-color);\n",
       "      border-top-color: var(--fill-color);\n",
       "    }\n",
       "    30% {\n",
       "      border-color: transparent;\n",
       "      border-left-color: var(--fill-color);\n",
       "      border-top-color: var(--fill-color);\n",
       "      border-right-color: var(--fill-color);\n",
       "    }\n",
       "    40% {\n",
       "      border-color: transparent;\n",
       "      border-right-color: var(--fill-color);\n",
       "      border-top-color: var(--fill-color);\n",
       "    }\n",
       "    60% {\n",
       "      border-color: transparent;\n",
       "      border-right-color: var(--fill-color);\n",
       "    }\n",
       "    80% {\n",
       "      border-color: transparent;\n",
       "      border-right-color: var(--fill-color);\n",
       "      border-bottom-color: var(--fill-color);\n",
       "    }\n",
       "    90% {\n",
       "      border-color: transparent;\n",
       "      border-bottom-color: var(--fill-color);\n",
       "    }\n",
       "  }\n",
       "</style>\n",
       "\n",
       "  <script>\n",
       "    async function quickchart(key) {\n",
       "      const quickchartButtonEl =\n",
       "        document.querySelector('#' + key + ' button');\n",
       "      quickchartButtonEl.disabled = true;  // To prevent multiple clicks.\n",
       "      quickchartButtonEl.classList.add('colab-df-spinner');\n",
       "      try {\n",
       "        const charts = await google.colab.kernel.invokeFunction(\n",
       "            'suggestCharts', [key], {});\n",
       "      } catch (error) {\n",
       "        console.error('Error during call to suggestCharts:', error);\n",
       "      }\n",
       "      quickchartButtonEl.classList.remove('colab-df-spinner');\n",
       "      quickchartButtonEl.classList.add('colab-df-quickchart-complete');\n",
       "    }\n",
       "    (() => {\n",
       "      let quickchartButtonEl =\n",
       "        document.querySelector('#df-cdb2db0b-4ea4-48fc-a198-99b6522425bb button');\n",
       "      quickchartButtonEl.style.display =\n",
       "        google.colab.kernel.accessAllowed ? 'block' : 'none';\n",
       "    })();\n",
       "  </script>\n",
       "</div>\n",
       "\n",
       "    </div>\n",
       "  </div>\n"
      ],
      "application/vnd.google.colaboratory.intrinsic+json": {
       "type": "dataframe",
       "summary": "{\n  \"name\": \"az\",\n  \"rows\": 2,\n  \"fields\": [\n    {\n      \"column\": \"rank\",\n      \"properties\": {\n        \"dtype\": \"number\",\n        \"std\": 0,\n        \"min\": 0,\n        \"max\": 1,\n        \"num_unique_values\": 2,\n        \"samples\": [\n          1,\n          0\n        ],\n        \"semantic_type\": \"\",\n        \"description\": \"\"\n      }\n    },\n    {\n      \"column\": \"elpd_waic\",\n      \"properties\": {\n        \"dtype\": \"number\",\n        \"std\": 0.8652567669288169,\n        \"min\": -68.7991888394279,\n        \"max\": -67.57553098470207,\n        \"num_unique_values\": 2,\n        \"samples\": [\n          -68.7991888394279,\n          -67.57553098470207\n        ],\n        \"semantic_type\": \"\",\n        \"description\": \"\"\n      }\n    },\n    {\n      \"column\": \"p_waic\",\n      \"properties\": {\n        \"dtype\": \"number\",\n        \"std\": 1.1940719802199757,\n        \"min\": 2.677864616565184,\n        \"max\": 4.366537405441972,\n        \"num_unique_values\": 2,\n        \"samples\": [\n          4.366537405441972,\n          2.677864616565184\n        ],\n        \"semantic_type\": \"\",\n        \"description\": \"\"\n      }\n    },\n    {\n      \"column\": \"elpd_diff\",\n      \"properties\": {\n        \"dtype\": \"number\",\n        \"std\": 0.8652567669288087,\n        \"min\": 0.0,\n        \"max\": 1.2236578547258175,\n        \"num_unique_values\": 2,\n        \"samples\": [\n          1.2236578547258175,\n          0.0\n        ],\n        \"semantic_type\": \"\",\n        \"description\": \"\"\n      }\n    },\n    {\n      \"column\": \"weight\",\n      \"properties\": {\n        \"dtype\": \"number\",\n        \"std\": 0.7071067811865476,\n        \"min\": 0.0,\n        \"max\": 1.0,\n        \"num_unique_values\": 2,\n        \"samples\": [\n          0.0,\n          1.0\n        ],\n        \"semantic_type\": \"\",\n        \"description\": \"\"\n      }\n    },\n    {\n      \"column\": \"se\",\n      \"properties\": {\n        \"dtype\": \"number\",\n        \"std\": 0.24748250626069507,\n        \"min\": 2.5692832107843024,\n        \"max\": 2.919276327588262,\n        \"num_unique_values\": 2,\n        \"samples\": [\n          2.919276327588262,\n          2.5692832107843024\n        ],\n        \"semantic_type\": \"\",\n        \"description\": \"\"\n      }\n    },\n    {\n      \"column\": \"dse\",\n      \"properties\": {\n        \"dtype\": \"number\",\n        \"std\": 0.6272125231996749,\n        \"min\": 0.0,\n        \"max\": 0.8870124567992297,\n        \"num_unique_values\": 2,\n        \"samples\": [\n          0.8870124567992297,\n          0.0\n        ],\n        \"semantic_type\": \"\",\n        \"description\": \"\"\n      }\n    },\n    {\n      \"column\": \"warning\",\n      \"properties\": {\n        \"dtype\": \"boolean\",\n        \"num_unique_values\": 1,\n        \"samples\": [\n          false\n        ],\n        \"semantic_type\": \"\",\n        \"description\": \"\"\n      }\n    },\n    {\n      \"column\": \"scale\",\n      \"properties\": {\n        \"dtype\": \"string\",\n        \"num_unique_values\": 1,\n        \"samples\": [\n          \"log\"\n        ],\n        \"semantic_type\": \"\",\n        \"description\": \"\"\n      }\n    }\n  ]\n}"
      }
     },
     "metadata": {},
     "execution_count": 28
    }
   ]
  },
  {
   "cell_type": "code",
   "source": [
    "az.plot_compare(az.compare({ \"complete model\": trace_complete, \"basic model\": trace_basic}), insample_dev=False)"
   ],
   "metadata": {
    "colab": {
     "base_uri": "https://localhost:8080/",
     "height": 281
    },
    "id": "NejAT85Qa0iT",
    "outputId": "b1fcdd0c-90ce-494c-86b3-182d359547fb",
    "pycharm": {
     "name": "#%%\n"
    }
   },
   "execution_count": null,
   "outputs": [
    {
     "output_type": "execute_result",
     "data": {
      "text/plain": [
       "<Axes: title={'center': 'Model comparison\\nhigher is better'}, xlabel='elpd_loo (log)', ylabel='ranked models'>"
      ]
     },
     "metadata": {},
     "execution_count": 29
    },
    {
     "output_type": "display_data",
     "data": {
      "text/plain": [
       "<Figure size 600x200 with 1 Axes>"
      ],
      "image/png": "[encoded data removed]"
     },
     "metadata": {}
    }
   ]
  },
  {
   "cell_type": "markdown",
   "metadata": {
    "id": "7ySbvoqPxa_5",
    "pycharm": {
     "name": "#%% md\n"
    }
   },
   "source": [
    "# Mixture model"
   ]
  },
  {
   "cell_type": "code",
   "execution_count": null,
   "metadata": {
    "id": "oq36Nr3qRU8J",
    "pycharm": {
     "name": "#%%\n"
    }
   },
   "outputs": [],
   "source": [
    "subset = cleandata[-100:]\n",
    "\n",
    "x1 = subset['DryRoad']\n",
    "x1 = pd.Series(x1).array\n",
    "\n",
    "x2 = subset['Clear']\n",
    "x2 = pd.Series(x2).array\n",
    "\n",
    "x3 = subset['DualCarriageway']\n",
    "x3 = pd.Series(x3).array\n",
    "\n",
    "x4 = subset['Dark']\n",
    "x4 = pd.Series(x4).array\n",
    "\n",
    "x5 = subset['Speed_limit']\n",
    "x5 = pd.Series(x5).array\n",
    "\n",
    "x6 = subset[\"Night\"]\n",
    "x6 = pd.Series(x6).array\n",
    "\n",
    "x7 = subset[\"Morning\"]\n",
    "x7 = pd.Series(x7).array\n",
    "\n",
    "x8 = subset[\"Midday\"]\n",
    "x8 = pd.Series(x8).array\n",
    "\n",
    "x9 = subset[\"Afternoon\"]\n",
    "x9 = pd.Series(x9).array\n",
    "\n",
    "x10 = subset[\"Evening\"]\n",
    "x10 = pd.Series(x10).array\n",
    "\n",
    "xover55 = subset[\"over55\"]\n",
    "xover55 = pd.Series(xover55).array\n",
    "\n",
    "xGender = subset[\"Gender\"]\n",
    "xGender = pd.Series(xGender).array\n",
    "\n",
    "y = subset['Severity_binary']\n",
    "y = pd.Series(y).array\n",
    "\n",
    "num_obs = len(y)"
   ]
  },
  {
   "cell_type": "code",
   "execution_count": null,
   "metadata": {
    "colab": {
     "base_uri": "https://localhost:8080/",
     "height": 616
    },
    "id": "UTCP1PNgQiCB",
    "outputId": "27d775d0-427c-4acb-cf9e-591d025bb0c8",
    "pycharm": {
     "name": "#%%\n"
    }
   },
   "outputs": [
    {
     "output_type": "error",
     "ename": "KeyboardInterrupt",
     "evalue": "",
     "traceback": [
      "\u001B[0;31m---------------------------------------------------------------------------\u001B[0m",
      "\u001B[0;31mTypeError\u001B[0m                                 Traceback (most recent call last)",
      "\u001B[0;32m/usr/local/lib/python3.10/dist-packages/pymc/step_methods/compound.py\u001B[0m in \u001B[0;36m_competence\u001B[0;34m(cls, vars, have_grad)\u001B[0m\n\u001B[1;32m    184\u001B[0m             \u001B[0;32mtry\u001B[0m\u001B[0;34m:\u001B[0m\u001B[0;34m\u001B[0m\u001B[0;34m\u001B[0m\u001B[0m\n\u001B[0;32m--> 185\u001B[0;31m                 \u001B[0mcompetences\u001B[0m\u001B[0;34m.\u001B[0m\u001B[0mappend\u001B[0m\u001B[0;34m(\u001B[0m\u001B[0mcls\u001B[0m\u001B[0;34m.\u001B[0m\u001B[0mcompetence\u001B[0m\u001B[0;34m(\u001B[0m\u001B[0mvar\u001B[0m\u001B[0;34m,\u001B[0m \u001B[0mhas_grad\u001B[0m\u001B[0;34m)\u001B[0m\u001B[0;34m)\u001B[0m\u001B[0;34m\u001B[0m\u001B[0;34m\u001B[0m\u001B[0m\n\u001B[0m\u001B[1;32m    186\u001B[0m             \u001B[0;32mexcept\u001B[0m \u001B[0mTypeError\u001B[0m\u001B[0;34m:\u001B[0m\u001B[0;34m\u001B[0m\u001B[0;34m\u001B[0m\u001B[0m\n",
      "\u001B[0;31mTypeError\u001B[0m: BinaryMetropolis.competence() takes 1 positional argument but 2 were given",
      "\nDuring handling of the above exception, another exception occurred:\n",
      "\u001B[0;31mImportError\u001B[0m                               Traceback (most recent call last)",
      "\u001B[0;32m/usr/local/lib/python3.10/dist-packages/pytensor/link/c/lazylinker_c.py\u001B[0m in \u001B[0;36m<module>\u001B[0;34m\u001B[0m\n\u001B[1;32m     78\u001B[0m         \u001B[0;32mif\u001B[0m \u001B[0mversion\u001B[0m \u001B[0;34m!=\u001B[0m \u001B[0mactual_version\u001B[0m\u001B[0;34m:\u001B[0m\u001B[0;34m\u001B[0m\u001B[0;34m\u001B[0m\u001B[0m\n\u001B[0;32m---> 79\u001B[0;31m             raise ImportError(\n\u001B[0m\u001B[1;32m     80\u001B[0m                 \u001B[0;34m\"Version check of the existing lazylinker compiled file.\"\u001B[0m\u001B[0;34m\u001B[0m\u001B[0;34m\u001B[0m\u001B[0m\n",
      "\u001B[0;31mImportError\u001B[0m: Version check of the existing lazylinker compiled file. Looking for version 0.212, but found None. Extra debug information: force_compile=False, _need_reload=True",
      "\nDuring handling of the above exception, another exception occurred:\n",
      "\u001B[0;31mImportError\u001B[0m                               Traceback (most recent call last)",
      "\u001B[0;32m/usr/local/lib/python3.10/dist-packages/pytensor/link/c/lazylinker_c.py\u001B[0m in \u001B[0;36m<module>\u001B[0;34m\u001B[0m\n\u001B[1;32m     99\u001B[0m             \u001B[0;32mif\u001B[0m \u001B[0mversion\u001B[0m \u001B[0;34m!=\u001B[0m \u001B[0mactual_version\u001B[0m\u001B[0;34m:\u001B[0m\u001B[0;34m\u001B[0m\u001B[0;34m\u001B[0m\u001B[0m\n\u001B[0;32m--> 100\u001B[0;31m                 raise ImportError(\n\u001B[0m\u001B[1;32m    101\u001B[0m                     \u001B[0;34m\"Version check of the existing lazylinker compiled file.\"\u001B[0m\u001B[0;34m\u001B[0m\u001B[0;34m\u001B[0m\u001B[0m\n",
      "\u001B[0;31mImportError\u001B[0m: Version check of the existing lazylinker compiled file. Looking for version 0.212, but found None. Extra debug information: force_compile=False, _need_reload=True",
      "\nDuring handling of the above exception, another exception occurred:\n",
      "\u001B[0;31mKeyboardInterrupt\u001B[0m                         Traceback (most recent call last)",
      "\u001B[0;32m<ipython-input-10-d97ddddf2df7>\u001B[0m in \u001B[0;36m<cell line: 1>\u001B[0;34m()\u001B[0m\n\u001B[1;32m     66\u001B[0m \u001B[0;34m\u001B[0m\u001B[0m\n\u001B[1;32m     67\u001B[0m     \u001B[0;31m# Sample the model\u001B[0m\u001B[0;34m\u001B[0m\u001B[0;34m\u001B[0m\u001B[0m\n\u001B[0;32m---> 68\u001B[0;31m     \u001B[0midata_4\u001B[0m \u001B[0;34m=\u001B[0m \u001B[0mpm\u001B[0m\u001B[0;34m.\u001B[0m\u001B[0msample\u001B[0m\u001B[0;34m(\u001B[0m\u001B[0;34m)\u001B[0m\u001B[0;34m\u001B[0m\u001B[0;34m\u001B[0m\u001B[0m\n\u001B[0m",
      "\u001B[0;32m/usr/local/lib/python3.10/dist-packages/pymc/sampling/mcmc.py\u001B[0m in \u001B[0;36msample\u001B[0;34m(draws, tune, chains, cores, random_seed, progressbar, step, nuts_sampler, initvals, init, jitter_max_retries, n_init, trace, discard_tuned_samples, compute_convergence_checks, keep_warning_stat, return_inferencedata, idata_kwargs, nuts_sampler_kwargs, callback, mp_ctx, model, **kwargs)\u001B[0m\n\u001B[1;32m    680\u001B[0m \u001B[0;34m\u001B[0m\u001B[0m\n\u001B[1;32m    681\u001B[0m     \u001B[0minitial_points\u001B[0m \u001B[0;34m=\u001B[0m \u001B[0;32mNone\u001B[0m\u001B[0;34m\u001B[0m\u001B[0;34m\u001B[0m\u001B[0m\n\u001B[0;32m--> 682\u001B[0;31m     \u001B[0mstep\u001B[0m \u001B[0;34m=\u001B[0m \u001B[0massign_step_methods\u001B[0m\u001B[0;34m(\u001B[0m\u001B[0mmodel\u001B[0m\u001B[0;34m,\u001B[0m \u001B[0mstep\u001B[0m\u001B[0;34m,\u001B[0m \u001B[0mmethods\u001B[0m\u001B[0;34m=\u001B[0m\u001B[0mpm\u001B[0m\u001B[0;34m.\u001B[0m\u001B[0mSTEP_METHODS\u001B[0m\u001B[0;34m,\u001B[0m \u001B[0mstep_kwargs\u001B[0m\u001B[0;34m=\u001B[0m\u001B[0mkwargs\u001B[0m\u001B[0;34m)\u001B[0m\u001B[0;34m\u001B[0m\u001B[0;34m\u001B[0m\u001B[0m\n\u001B[0m\u001B[1;32m    683\u001B[0m \u001B[0;34m\u001B[0m\u001B[0m\n\u001B[1;32m    684\u001B[0m     \u001B[0;32mif\u001B[0m \u001B[0mnuts_sampler\u001B[0m \u001B[0;34m!=\u001B[0m \u001B[0;34m\"pymc\"\u001B[0m\u001B[0;34m:\u001B[0m\u001B[0;34m\u001B[0m\u001B[0;34m\u001B[0m\u001B[0m\n",
      "\u001B[0;32m/usr/local/lib/python3.10/dist-packages/pymc/sampling/mcmc.py\u001B[0m in \u001B[0;36massign_step_methods\u001B[0;34m(model, step, methods, step_kwargs)\u001B[0m\n\u001B[1;32m    222\u001B[0m             \u001B[0;31m# select the best method\u001B[0m\u001B[0;34m\u001B[0m\u001B[0;34m\u001B[0m\u001B[0m\n\u001B[1;32m    223\u001B[0m             \u001B[0mrv_var\u001B[0m \u001B[0;34m=\u001B[0m \u001B[0mmodel\u001B[0m\u001B[0;34m.\u001B[0m\u001B[0mvalues_to_rvs\u001B[0m\u001B[0;34m[\u001B[0m\u001B[0mvar\u001B[0m\u001B[0;34m]\u001B[0m\u001B[0;34m\u001B[0m\u001B[0;34m\u001B[0m\u001B[0m\n\u001B[0;32m--> 224\u001B[0;31m             selected = max(\n\u001B[0m\u001B[1;32m    225\u001B[0m                 \u001B[0mmethods_list\u001B[0m\u001B[0;34m,\u001B[0m\u001B[0;34m\u001B[0m\u001B[0;34m\u001B[0m\u001B[0m\n\u001B[1;32m    226\u001B[0m                 key=lambda method, var=rv_var, has_gradient=has_gradient: method._competence(  # type: ignore\n",
      "\u001B[0;32m/usr/local/lib/python3.10/dist-packages/pymc/sampling/mcmc.py\u001B[0m in \u001B[0;36m<lambda>\u001B[0;34m(method, var, has_gradient)\u001B[0m\n\u001B[1;32m    224\u001B[0m             selected = max(\n\u001B[1;32m    225\u001B[0m                 \u001B[0mmethods_list\u001B[0m\u001B[0;34m,\u001B[0m\u001B[0;34m\u001B[0m\u001B[0;34m\u001B[0m\u001B[0m\n\u001B[0;32m--> 226\u001B[0;31m                 key=lambda method, var=rv_var, has_gradient=has_gradient: method._competence(  # type: ignore\n\u001B[0m\u001B[1;32m    227\u001B[0m                     \u001B[0mvar\u001B[0m\u001B[0;34m,\u001B[0m \u001B[0mhas_gradient\u001B[0m\u001B[0;34m\u001B[0m\u001B[0;34m\u001B[0m\u001B[0m\n\u001B[1;32m    228\u001B[0m                 ),\n",
      "\u001B[0;32m/usr/local/lib/python3.10/dist-packages/pymc/step_methods/compound.py\u001B[0m in \u001B[0;36m_competence\u001B[0;34m(cls, vars, have_grad)\u001B[0m\n\u001B[1;32m    185\u001B[0m                 \u001B[0mcompetences\u001B[0m\u001B[0;34m.\u001B[0m\u001B[0mappend\u001B[0m\u001B[0;34m(\u001B[0m\u001B[0mcls\u001B[0m\u001B[0;34m.\u001B[0m\u001B[0mcompetence\u001B[0m\u001B[0;34m(\u001B[0m\u001B[0mvar\u001B[0m\u001B[0;34m,\u001B[0m \u001B[0mhas_grad\u001B[0m\u001B[0;34m)\u001B[0m\u001B[0;34m)\u001B[0m\u001B[0;34m\u001B[0m\u001B[0;34m\u001B[0m\u001B[0m\n\u001B[1;32m    186\u001B[0m             \u001B[0;32mexcept\u001B[0m \u001B[0mTypeError\u001B[0m\u001B[0;34m:\u001B[0m\u001B[0;34m\u001B[0m\u001B[0;34m\u001B[0m\u001B[0m\n\u001B[0;32m--> 187\u001B[0;31m                 \u001B[0mcompetences\u001B[0m\u001B[0;34m.\u001B[0m\u001B[0mappend\u001B[0m\u001B[0;34m(\u001B[0m\u001B[0mcls\u001B[0m\u001B[0;34m.\u001B[0m\u001B[0mcompetence\u001B[0m\u001B[0;34m(\u001B[0m\u001B[0mvar\u001B[0m\u001B[0;34m)\u001B[0m\u001B[0;34m)\u001B[0m\u001B[0;34m\u001B[0m\u001B[0;34m\u001B[0m\u001B[0m\n\u001B[0m\u001B[1;32m    188\u001B[0m         \u001B[0;32mreturn\u001B[0m \u001B[0mcompetences\u001B[0m\u001B[0;34m\u001B[0m\u001B[0;34m\u001B[0m\u001B[0m\n\u001B[1;32m    189\u001B[0m \u001B[0;34m\u001B[0m\u001B[0m\n",
      "\u001B[0;32m/usr/local/lib/python3.10/dist-packages/pymc/step_methods/metropolis.py\u001B[0m in \u001B[0;36mcompetence\u001B[0;34m(var)\u001B[0m\n\u001B[1;32m    431\u001B[0m             \u001B[0;31m# k = model.fn(k_graph)(initial_point)\u001B[0m\u001B[0;34m\u001B[0m\u001B[0;34m\u001B[0m\u001B[0m\n\u001B[1;32m    432\u001B[0m             \u001B[0;32mtry\u001B[0m\u001B[0;34m:\u001B[0m\u001B[0;34m\u001B[0m\u001B[0;34m\u001B[0m\u001B[0m\n\u001B[0;32m--> 433\u001B[0;31m                 \u001B[0mk\u001B[0m \u001B[0;34m=\u001B[0m \u001B[0mvar\u001B[0m\u001B[0;34m.\u001B[0m\u001B[0mowner\u001B[0m\u001B[0;34m.\u001B[0m\u001B[0minputs\u001B[0m\u001B[0;34m[\u001B[0m\u001B[0;36m3\u001B[0m\u001B[0;34m]\u001B[0m\u001B[0;34m.\u001B[0m\u001B[0mshape\u001B[0m\u001B[0;34m[\u001B[0m\u001B[0;34m-\u001B[0m\u001B[0;36m1\u001B[0m\u001B[0;34m]\u001B[0m\u001B[0;34m.\u001B[0m\u001B[0meval\u001B[0m\u001B[0;34m(\u001B[0m\u001B[0;34m)\u001B[0m\u001B[0;34m\u001B[0m\u001B[0;34m\u001B[0m\u001B[0m\n\u001B[0m\u001B[1;32m    434\u001B[0m                 \u001B[0;32mif\u001B[0m \u001B[0mk\u001B[0m \u001B[0;34m==\u001B[0m \u001B[0;36m2\u001B[0m\u001B[0;34m:\u001B[0m\u001B[0;34m\u001B[0m\u001B[0;34m\u001B[0m\u001B[0m\n\u001B[1;32m    435\u001B[0m                     \u001B[0;32mreturn\u001B[0m \u001B[0mCompetence\u001B[0m\u001B[0;34m.\u001B[0m\u001B[0mCOMPATIBLE\u001B[0m\u001B[0;34m\u001B[0m\u001B[0;34m\u001B[0m\u001B[0m\n",
      "\u001B[0;32m/usr/local/lib/python3.10/dist-packages/pytensor/graph/basic.py\u001B[0m in \u001B[0;36meval\u001B[0;34m(self, inputs_to_values)\u001B[0m\n\u001B[1;32m    614\u001B[0m         \u001B[0minputs\u001B[0m \u001B[0;34m=\u001B[0m \u001B[0mtuple\u001B[0m\u001B[0;34m(\u001B[0m\u001B[0msorted\u001B[0m\u001B[0;34m(\u001B[0m\u001B[0minputs_to_values\u001B[0m\u001B[0;34m.\u001B[0m\u001B[0mkeys\u001B[0m\u001B[0;34m(\u001B[0m\u001B[0;34m)\u001B[0m\u001B[0;34m,\u001B[0m \u001B[0mkey\u001B[0m\u001B[0;34m=\u001B[0m\u001B[0mid\u001B[0m\u001B[0;34m)\u001B[0m\u001B[0;34m)\u001B[0m\u001B[0;34m\u001B[0m\u001B[0;34m\u001B[0m\u001B[0m\n\u001B[1;32m    615\u001B[0m         \u001B[0;32mif\u001B[0m \u001B[0minputs\u001B[0m \u001B[0;32mnot\u001B[0m \u001B[0;32min\u001B[0m \u001B[0mself\u001B[0m\u001B[0;34m.\u001B[0m\u001B[0m_fn_cache\u001B[0m\u001B[0;34m:\u001B[0m\u001B[0;34m\u001B[0m\u001B[0;34m\u001B[0m\u001B[0m\n\u001B[0;32m--> 616\u001B[0;31m             \u001B[0mself\u001B[0m\u001B[0;34m.\u001B[0m\u001B[0m_fn_cache\u001B[0m\u001B[0;34m[\u001B[0m\u001B[0minputs\u001B[0m\u001B[0;34m]\u001B[0m \u001B[0;34m=\u001B[0m \u001B[0mfunction\u001B[0m\u001B[0;34m(\u001B[0m\u001B[0minputs\u001B[0m\u001B[0;34m,\u001B[0m \u001B[0mself\u001B[0m\u001B[0;34m)\u001B[0m\u001B[0;34m\u001B[0m\u001B[0;34m\u001B[0m\u001B[0m\n\u001B[0m\u001B[1;32m    617\u001B[0m         \u001B[0margs\u001B[0m \u001B[0;34m=\u001B[0m \u001B[0;34m[\u001B[0m\u001B[0minputs_to_values\u001B[0m\u001B[0;34m[\u001B[0m\u001B[0mparam\u001B[0m\u001B[0;34m]\u001B[0m \u001B[0;32mfor\u001B[0m \u001B[0mparam\u001B[0m \u001B[0;32min\u001B[0m \u001B[0minputs\u001B[0m\u001B[0;34m]\u001B[0m\u001B[0;34m\u001B[0m\u001B[0;34m\u001B[0m\u001B[0m\n\u001B[1;32m    618\u001B[0m \u001B[0;34m\u001B[0m\u001B[0m\n",
      "\u001B[0;32m/usr/local/lib/python3.10/dist-packages/pytensor/compile/function/__init__.py\u001B[0m in \u001B[0;36mfunction\u001B[0;34m(inputs, outputs, mode, updates, givens, no_default_updates, accept_inplace, name, rebuild_strict, allow_input_downcast, profile, on_unused_input)\u001B[0m\n\u001B[1;32m    313\u001B[0m         \u001B[0;31m# note: pfunc will also call orig_function -- orig_function is\u001B[0m\u001B[0;34m\u001B[0m\u001B[0;34m\u001B[0m\u001B[0m\n\u001B[1;32m    314\u001B[0m         \u001B[0;31m#      a choke point that all compilation must pass through\u001B[0m\u001B[0;34m\u001B[0m\u001B[0;34m\u001B[0m\u001B[0m\n\u001B[0;32m--> 315\u001B[0;31m         fn = pfunc(\n\u001B[0m\u001B[1;32m    316\u001B[0m             \u001B[0mparams\u001B[0m\u001B[0;34m=\u001B[0m\u001B[0minputs\u001B[0m\u001B[0;34m,\u001B[0m\u001B[0;34m\u001B[0m\u001B[0;34m\u001B[0m\u001B[0m\n\u001B[1;32m    317\u001B[0m             \u001B[0moutputs\u001B[0m\u001B[0;34m=\u001B[0m\u001B[0moutputs\u001B[0m\u001B[0;34m,\u001B[0m\u001B[0;34m\u001B[0m\u001B[0;34m\u001B[0m\u001B[0m\n",
      "\u001B[0;32m/usr/local/lib/python3.10/dist-packages/pytensor/compile/function/pfunc.py\u001B[0m in \u001B[0;36mpfunc\u001B[0;34m(params, outputs, mode, updates, givens, no_default_updates, accept_inplace, name, rebuild_strict, allow_input_downcast, profile, on_unused_input, output_keys, fgraph)\u001B[0m\n\u001B[1;32m    467\u001B[0m     )\n\u001B[1;32m    468\u001B[0m \u001B[0;34m\u001B[0m\u001B[0m\n\u001B[0;32m--> 469\u001B[0;31m     return orig_function(\n\u001B[0m\u001B[1;32m    470\u001B[0m         \u001B[0minputs\u001B[0m\u001B[0;34m,\u001B[0m\u001B[0;34m\u001B[0m\u001B[0;34m\u001B[0m\u001B[0m\n\u001B[1;32m    471\u001B[0m         \u001B[0mcloned_outputs\u001B[0m\u001B[0;34m,\u001B[0m\u001B[0;34m\u001B[0m\u001B[0;34m\u001B[0m\u001B[0m\n",
      "\u001B[0;32m/usr/local/lib/python3.10/dist-packages/pytensor/compile/function/types.py\u001B[0m in \u001B[0;36morig_function\u001B[0;34m(inputs, outputs, mode, accept_inplace, name, profile, on_unused_input, output_keys, fgraph)\u001B[0m\n\u001B[1;32m   1760\u001B[0m         )\n\u001B[1;32m   1761\u001B[0m         \u001B[0;32mwith\u001B[0m \u001B[0mconfig\u001B[0m\u001B[0;34m.\u001B[0m\u001B[0mchange_flags\u001B[0m\u001B[0;34m(\u001B[0m\u001B[0mcompute_test_value\u001B[0m\u001B[0;34m=\u001B[0m\u001B[0;34m\"off\"\u001B[0m\u001B[0;34m)\u001B[0m\u001B[0;34m:\u001B[0m\u001B[0;34m\u001B[0m\u001B[0;34m\u001B[0m\u001B[0m\n\u001B[0;32m-> 1762\u001B[0;31m             \u001B[0mfn\u001B[0m \u001B[0;34m=\u001B[0m \u001B[0mm\u001B[0m\u001B[0;34m.\u001B[0m\u001B[0mcreate\u001B[0m\u001B[0;34m(\u001B[0m\u001B[0mdefaults\u001B[0m\u001B[0;34m)\u001B[0m\u001B[0;34m\u001B[0m\u001B[0;34m\u001B[0m\u001B[0m\n\u001B[0m\u001B[1;32m   1763\u001B[0m     \u001B[0;32mfinally\u001B[0m\u001B[0;34m:\u001B[0m\u001B[0;34m\u001B[0m\u001B[0;34m\u001B[0m\u001B[0m\n\u001B[1;32m   1764\u001B[0m         \u001B[0;32mif\u001B[0m \u001B[0mprofile\u001B[0m \u001B[0;32mand\u001B[0m \u001B[0mfn\u001B[0m\u001B[0;34m:\u001B[0m\u001B[0;34m\u001B[0m\u001B[0;34m\u001B[0m\u001B[0m\n",
      "\u001B[0;32m/usr/local/lib/python3.10/dist-packages/pytensor/compile/function/types.py\u001B[0m in \u001B[0;36mcreate\u001B[0;34m(self, input_storage, storage_map)\u001B[0m\n\u001B[1;32m   1652\u001B[0m \u001B[0;34m\u001B[0m\u001B[0m\n\u001B[1;32m   1653\u001B[0m         \u001B[0;32mwith\u001B[0m \u001B[0mconfig\u001B[0m\u001B[0;34m.\u001B[0m\u001B[0mchange_flags\u001B[0m\u001B[0;34m(\u001B[0m\u001B[0mtraceback__limit\u001B[0m\u001B[0;34m=\u001B[0m\u001B[0mconfig\u001B[0m\u001B[0;34m.\u001B[0m\u001B[0mtraceback__compile_limit\u001B[0m\u001B[0;34m)\u001B[0m\u001B[0;34m:\u001B[0m\u001B[0;34m\u001B[0m\u001B[0;34m\u001B[0m\u001B[0m\n\u001B[0;32m-> 1654\u001B[0;31m             _fn, _i, _o = self.linker.make_thunk(\n\u001B[0m\u001B[1;32m   1655\u001B[0m                 \u001B[0minput_storage\u001B[0m\u001B[0;34m=\u001B[0m\u001B[0minput_storage_lists\u001B[0m\u001B[0;34m,\u001B[0m \u001B[0mstorage_map\u001B[0m\u001B[0;34m=\u001B[0m\u001B[0mstorage_map\u001B[0m\u001B[0;34m\u001B[0m\u001B[0;34m\u001B[0m\u001B[0m\n\u001B[1;32m   1656\u001B[0m             )\n",
      "\u001B[0;32m/usr/local/lib/python3.10/dist-packages/pytensor/link/basic.py\u001B[0m in \u001B[0;36mmake_thunk\u001B[0;34m(self, input_storage, output_storage, storage_map, **kwargs)\u001B[0m\n\u001B[1;32m    243\u001B[0m         \u001B[0;34m**\u001B[0m\u001B[0mkwargs\u001B[0m\u001B[0;34m,\u001B[0m\u001B[0;34m\u001B[0m\u001B[0;34m\u001B[0m\u001B[0m\n\u001B[1;32m    244\u001B[0m     ) -> tuple[\"BasicThunkType\", \"InputStorageType\", \"OutputStorageType\"]:\n\u001B[0;32m--> 245\u001B[0;31m         return self.make_all(\n\u001B[0m\u001B[1;32m    246\u001B[0m             \u001B[0minput_storage\u001B[0m\u001B[0;34m=\u001B[0m\u001B[0minput_storage\u001B[0m\u001B[0;34m,\u001B[0m\u001B[0;34m\u001B[0m\u001B[0;34m\u001B[0m\u001B[0m\n\u001B[1;32m    247\u001B[0m             \u001B[0moutput_storage\u001B[0m\u001B[0;34m=\u001B[0m\u001B[0moutput_storage\u001B[0m\u001B[0;34m,\u001B[0m\u001B[0;34m\u001B[0m\u001B[0;34m\u001B[0m\u001B[0m\n",
      "\u001B[0;32m/usr/local/lib/python3.10/dist-packages/pytensor/link/vm.py\u001B[0m in \u001B[0;36mmake_all\u001B[0;34m(self, profiler, input_storage, output_storage, storage_map)\u001B[0m\n\u001B[1;32m   1287\u001B[0m             \u001B[0mpost_thunk_clear\u001B[0m \u001B[0;34m=\u001B[0m \u001B[0;32mNone\u001B[0m\u001B[0;34m\u001B[0m\u001B[0;34m\u001B[0m\u001B[0m\n\u001B[1;32m   1288\u001B[0m \u001B[0;34m\u001B[0m\u001B[0m\n\u001B[0;32m-> 1289\u001B[0;31m         vm = self.make_vm(\n\u001B[0m\u001B[1;32m   1290\u001B[0m             \u001B[0morder\u001B[0m\u001B[0;34m,\u001B[0m\u001B[0;34m\u001B[0m\u001B[0;34m\u001B[0m\u001B[0m\n\u001B[1;32m   1291\u001B[0m             \u001B[0mthunks\u001B[0m\u001B[0;34m,\u001B[0m\u001B[0;34m\u001B[0m\u001B[0;34m\u001B[0m\u001B[0m\n",
      "\u001B[0;32m/usr/local/lib/python3.10/dist-packages/pytensor/link/vm.py\u001B[0m in \u001B[0;36mmake_vm\u001B[0;34m(self, nodes, thunks, input_storage, output_storage, storage_map, post_thunk_clear, computed, compute_map, updated_vars)\u001B[0m\n\u001B[1;32m   1010\u001B[0m \u001B[0;34m\u001B[0m\u001B[0m\n\u001B[1;32m   1011\u001B[0m         \u001B[0;32mtry\u001B[0m\u001B[0;34m:\u001B[0m\u001B[0;34m\u001B[0m\u001B[0;34m\u001B[0m\u001B[0m\n\u001B[0;32m-> 1012\u001B[0;31m             \u001B[0;32mfrom\u001B[0m \u001B[0mpytensor\u001B[0m\u001B[0;34m.\u001B[0m\u001B[0mlink\u001B[0m\u001B[0;34m.\u001B[0m\u001B[0mc\u001B[0m\u001B[0;34m.\u001B[0m\u001B[0mcvm\u001B[0m \u001B[0;32mimport\u001B[0m \u001B[0mCVM\u001B[0m\u001B[0;34m\u001B[0m\u001B[0;34m\u001B[0m\u001B[0m\n\u001B[0m\u001B[1;32m   1013\u001B[0m         \u001B[0;32mexcept\u001B[0m \u001B[0;34m(\u001B[0m\u001B[0mMissingGXX\u001B[0m\u001B[0;34m,\u001B[0m \u001B[0mImportError\u001B[0m\u001B[0;34m)\u001B[0m\u001B[0;34m:\u001B[0m\u001B[0;34m\u001B[0m\u001B[0;34m\u001B[0m\u001B[0m\n\u001B[1;32m   1014\u001B[0m             \u001B[0mCVM\u001B[0m \u001B[0;34m=\u001B[0m \u001B[0;32mNone\u001B[0m\u001B[0;34m\u001B[0m\u001B[0;34m\u001B[0m\u001B[0m\n",
      "\u001B[0;32m/usr/local/lib/python3.10/dist-packages/pytensor/link/c/cvm.py\u001B[0m in \u001B[0;36m<module>\u001B[0;34m\u001B[0m\n\u001B[1;32m     11\u001B[0m             \u001B[0;34m\"lazylinker will not be imported if pytensor.config.cxx is not set.\"\u001B[0m\u001B[0;34m\u001B[0m\u001B[0;34m\u001B[0m\u001B[0m\n\u001B[1;32m     12\u001B[0m         )\n\u001B[0;32m---> 13\u001B[0;31m     \u001B[0;32mfrom\u001B[0m \u001B[0mpytensor\u001B[0m\u001B[0;34m.\u001B[0m\u001B[0mlink\u001B[0m\u001B[0;34m.\u001B[0m\u001B[0mc\u001B[0m\u001B[0;34m.\u001B[0m\u001B[0mlazylinker_c\u001B[0m \u001B[0;32mimport\u001B[0m \u001B[0mCLazyLinker\u001B[0m\u001B[0;34m\u001B[0m\u001B[0;34m\u001B[0m\u001B[0m\n\u001B[0m\u001B[1;32m     14\u001B[0m \u001B[0;34m\u001B[0m\u001B[0m\n\u001B[1;32m     15\u001B[0m     \u001B[0;32mclass\u001B[0m \u001B[0mCVM\u001B[0m\u001B[0;34m(\u001B[0m\u001B[0mCLazyLinker\u001B[0m\u001B[0;34m,\u001B[0m \u001B[0mVM\u001B[0m\u001B[0;34m)\u001B[0m\u001B[0;34m:\u001B[0m\u001B[0;34m\u001B[0m\u001B[0;34m\u001B[0m\u001B[0m\n",
      "\u001B[0;32m/usr/local/lib/python3.10/dist-packages/pytensor/link/c/lazylinker_c.py\u001B[0m in \u001B[0;36m<module>\u001B[0;34m\u001B[0m\n\u001B[1;32m    141\u001B[0m \u001B[0;34m\u001B[0m\u001B[0m\n\u001B[1;32m    142\u001B[0m             \u001B[0margs\u001B[0m \u001B[0;34m=\u001B[0m \u001B[0mGCC_compiler\u001B[0m\u001B[0;34m.\u001B[0m\u001B[0mcompile_args\u001B[0m\u001B[0;34m(\u001B[0m\u001B[0;34m)\u001B[0m\u001B[0;34m\u001B[0m\u001B[0;34m\u001B[0m\u001B[0m\n\u001B[0;32m--> 143\u001B[0;31m             \u001B[0mGCC_compiler\u001B[0m\u001B[0;34m.\u001B[0m\u001B[0mcompile_str\u001B[0m\u001B[0;34m(\u001B[0m\u001B[0mdirname\u001B[0m\u001B[0;34m,\u001B[0m \u001B[0mcode\u001B[0m\u001B[0;34m,\u001B[0m \u001B[0mlocation\u001B[0m\u001B[0;34m=\u001B[0m\u001B[0mloc\u001B[0m\u001B[0;34m,\u001B[0m \u001B[0mpreargs\u001B[0m\u001B[0;34m=\u001B[0m\u001B[0margs\u001B[0m\u001B[0;34m)\u001B[0m\u001B[0;34m\u001B[0m\u001B[0;34m\u001B[0m\u001B[0m\n\u001B[0m\u001B[1;32m    144\u001B[0m             \u001B[0;31m# Save version into the __init__.py file.\u001B[0m\u001B[0;34m\u001B[0m\u001B[0;34m\u001B[0m\u001B[0m\n\u001B[1;32m    145\u001B[0m             \u001B[0minit_py\u001B[0m \u001B[0;34m=\u001B[0m \u001B[0mos\u001B[0m\u001B[0;34m.\u001B[0m\u001B[0mpath\u001B[0m\u001B[0;34m.\u001B[0m\u001B[0mjoin\u001B[0m\u001B[0;34m(\u001B[0m\u001B[0mloc\u001B[0m\u001B[0;34m,\u001B[0m \u001B[0;34m\"__init__.py\"\u001B[0m\u001B[0;34m)\u001B[0m\u001B[0;34m\u001B[0m\u001B[0;34m\u001B[0m\u001B[0m\n",
      "\u001B[0;32m/usr/local/lib/python3.10/dist-packages/pytensor/link/c/cmodule.py\u001B[0m in \u001B[0;36mcompile_str\u001B[0;34m(module_name, src_code, location, include_dirs, lib_dirs, libs, preargs, py_module, hide_symbols)\u001B[0m\n\u001B[1;32m   2588\u001B[0m \u001B[0;34m\u001B[0m\u001B[0m\n\u001B[1;32m   2589\u001B[0m         \u001B[0;32mtry\u001B[0m\u001B[0;34m:\u001B[0m\u001B[0;34m\u001B[0m\u001B[0;34m\u001B[0m\u001B[0m\n\u001B[0;32m-> 2590\u001B[0;31m             \u001B[0mp_out\u001B[0m \u001B[0;34m=\u001B[0m \u001B[0moutput_subprocess_Popen\u001B[0m\u001B[0;34m(\u001B[0m\u001B[0mcmd\u001B[0m\u001B[0;34m)\u001B[0m\u001B[0;34m\u001B[0m\u001B[0;34m\u001B[0m\u001B[0m\n\u001B[0m\u001B[1;32m   2591\u001B[0m             \u001B[0mcompile_stderr\u001B[0m \u001B[0;34m=\u001B[0m \u001B[0mp_out\u001B[0m\u001B[0;34m[\u001B[0m\u001B[0;36m1\u001B[0m\u001B[0;34m]\u001B[0m\u001B[0;34m.\u001B[0m\u001B[0mdecode\u001B[0m\u001B[0;34m(\u001B[0m\u001B[0;34m)\u001B[0m\u001B[0;34m\u001B[0m\u001B[0;34m\u001B[0m\u001B[0m\n\u001B[1;32m   2592\u001B[0m         \u001B[0;32mexcept\u001B[0m \u001B[0mException\u001B[0m\u001B[0;34m:\u001B[0m\u001B[0;34m\u001B[0m\u001B[0;34m\u001B[0m\u001B[0m\n",
      "\u001B[0;32m/usr/local/lib/python3.10/dist-packages/pytensor/utils.py\u001B[0m in \u001B[0;36moutput_subprocess_Popen\u001B[0;34m(command, **params)\u001B[0m\n\u001B[1;32m    210\u001B[0m     \u001B[0;31m# we need to use communicate to make sure we don't deadlock around\u001B[0m\u001B[0;34m\u001B[0m\u001B[0;34m\u001B[0m\u001B[0m\n\u001B[1;32m    211\u001B[0m     \u001B[0;31m# the stdout/stderr pipe.\u001B[0m\u001B[0;34m\u001B[0m\u001B[0;34m\u001B[0m\u001B[0m\n\u001B[0;32m--> 212\u001B[0;31m     \u001B[0mout\u001B[0m \u001B[0;34m=\u001B[0m \u001B[0mp\u001B[0m\u001B[0;34m.\u001B[0m\u001B[0mcommunicate\u001B[0m\u001B[0;34m(\u001B[0m\u001B[0;34m)\u001B[0m\u001B[0;34m\u001B[0m\u001B[0;34m\u001B[0m\u001B[0m\n\u001B[0m\u001B[1;32m    213\u001B[0m     \u001B[0;32mreturn\u001B[0m \u001B[0mout\u001B[0m \u001B[0;34m+\u001B[0m \u001B[0;34m(\u001B[0m\u001B[0mp\u001B[0m\u001B[0;34m.\u001B[0m\u001B[0mreturncode\u001B[0m\u001B[0;34m,\u001B[0m\u001B[0;34m)\u001B[0m\u001B[0;34m\u001B[0m\u001B[0;34m\u001B[0m\u001B[0m\n\u001B[1;32m    214\u001B[0m \u001B[0;34m\u001B[0m\u001B[0m\n",
      "\u001B[0;32m/usr/lib/python3.10/subprocess.py\u001B[0m in \u001B[0;36mcommunicate\u001B[0;34m(self, input, timeout)\u001B[0m\n\u001B[1;32m   1152\u001B[0m \u001B[0;34m\u001B[0m\u001B[0m\n\u001B[1;32m   1153\u001B[0m             \u001B[0;32mtry\u001B[0m\u001B[0;34m:\u001B[0m\u001B[0;34m\u001B[0m\u001B[0;34m\u001B[0m\u001B[0m\n\u001B[0;32m-> 1154\u001B[0;31m                 \u001B[0mstdout\u001B[0m\u001B[0;34m,\u001B[0m \u001B[0mstderr\u001B[0m \u001B[0;34m=\u001B[0m \u001B[0mself\u001B[0m\u001B[0;34m.\u001B[0m\u001B[0m_communicate\u001B[0m\u001B[0;34m(\u001B[0m\u001B[0minput\u001B[0m\u001B[0;34m,\u001B[0m \u001B[0mendtime\u001B[0m\u001B[0;34m,\u001B[0m \u001B[0mtimeout\u001B[0m\u001B[0;34m)\u001B[0m\u001B[0;34m\u001B[0m\u001B[0;34m\u001B[0m\u001B[0m\n\u001B[0m\u001B[1;32m   1155\u001B[0m             \u001B[0;32mexcept\u001B[0m \u001B[0mKeyboardInterrupt\u001B[0m\u001B[0;34m:\u001B[0m\u001B[0;34m\u001B[0m\u001B[0;34m\u001B[0m\u001B[0m\n\u001B[1;32m   1156\u001B[0m                 \u001B[0;31m# https://bugs.python.org/issue25942\u001B[0m\u001B[0;34m\u001B[0m\u001B[0;34m\u001B[0m\u001B[0m\n",
      "\u001B[0;32m/usr/lib/python3.10/subprocess.py\u001B[0m in \u001B[0;36m_communicate\u001B[0;34m(self, input, endtime, orig_timeout)\u001B[0m\n\u001B[1;32m   2019\u001B[0m                             'failed to raise TimeoutExpired.')\n\u001B[1;32m   2020\u001B[0m \u001B[0;34m\u001B[0m\u001B[0m\n\u001B[0;32m-> 2021\u001B[0;31m                     \u001B[0mready\u001B[0m \u001B[0;34m=\u001B[0m \u001B[0mselector\u001B[0m\u001B[0;34m.\u001B[0m\u001B[0mselect\u001B[0m\u001B[0;34m(\u001B[0m\u001B[0mtimeout\u001B[0m\u001B[0;34m)\u001B[0m\u001B[0;34m\u001B[0m\u001B[0;34m\u001B[0m\u001B[0m\n\u001B[0m\u001B[1;32m   2022\u001B[0m                     \u001B[0mself\u001B[0m\u001B[0;34m.\u001B[0m\u001B[0m_check_timeout\u001B[0m\u001B[0;34m(\u001B[0m\u001B[0mendtime\u001B[0m\u001B[0;34m,\u001B[0m \u001B[0morig_timeout\u001B[0m\u001B[0;34m,\u001B[0m \u001B[0mstdout\u001B[0m\u001B[0;34m,\u001B[0m \u001B[0mstderr\u001B[0m\u001B[0;34m)\u001B[0m\u001B[0;34m\u001B[0m\u001B[0;34m\u001B[0m\u001B[0m\n\u001B[1;32m   2023\u001B[0m \u001B[0;34m\u001B[0m\u001B[0m\n",
      "\u001B[0;32m/usr/lib/python3.10/selectors.py\u001B[0m in \u001B[0;36mselect\u001B[0;34m(self, timeout)\u001B[0m\n\u001B[1;32m    414\u001B[0m         \u001B[0mready\u001B[0m \u001B[0;34m=\u001B[0m \u001B[0;34m[\u001B[0m\u001B[0;34m]\u001B[0m\u001B[0;34m\u001B[0m\u001B[0;34m\u001B[0m\u001B[0m\n\u001B[1;32m    415\u001B[0m         \u001B[0;32mtry\u001B[0m\u001B[0;34m:\u001B[0m\u001B[0;34m\u001B[0m\u001B[0;34m\u001B[0m\u001B[0m\n\u001B[0;32m--> 416\u001B[0;31m             \u001B[0mfd_event_list\u001B[0m \u001B[0;34m=\u001B[0m \u001B[0mself\u001B[0m\u001B[0;34m.\u001B[0m\u001B[0m_selector\u001B[0m\u001B[0;34m.\u001B[0m\u001B[0mpoll\u001B[0m\u001B[0;34m(\u001B[0m\u001B[0mtimeout\u001B[0m\u001B[0;34m)\u001B[0m\u001B[0;34m\u001B[0m\u001B[0;34m\u001B[0m\u001B[0m\n\u001B[0m\u001B[1;32m    417\u001B[0m         \u001B[0;32mexcept\u001B[0m \u001B[0mInterruptedError\u001B[0m\u001B[0;34m:\u001B[0m\u001B[0;34m\u001B[0m\u001B[0;34m\u001B[0m\u001B[0m\n\u001B[1;32m    418\u001B[0m             \u001B[0;32mreturn\u001B[0m \u001B[0mready\u001B[0m\u001B[0;34m\u001B[0m\u001B[0;34m\u001B[0m\u001B[0m\n",
      "\u001B[0;31mKeyboardInterrupt\u001B[0m: "
     ]
    }
   ],
   "source": [
    "with pm.Model() as mixture_model:\n",
    "    # Define mixture proportions for over55 and Gender\n",
    "    p_over55 = pm.Dirichlet('p_over55', a=np.ones(2))\n",
    "    p_gender = pm.Dirichlet('p_gender', a=np.ones(2))\n",
    "\n",
    "    # Mixture component parameters for over55\n",
    "    alpha_over55 = pm.Normal('alpha_over55', mu=0, sigma=1, shape=(2,))\n",
    "    beta_over55 = pm.Normal('beta_over55', mu=0, sigma=1, shape=(2,))\n",
    "\n",
    "    # Mixture component parameters for Gender\n",
    "    alpha_gender = pm.Normal('alpha_gender', mu=0, sigma=1, shape=(2,))\n",
    "    beta_gender = pm.Normal('beta_gender', mu=0, sigma=1, shape=(2,))\n",
    "\n",
    "    # Mixture probabilities\n",
    "    over55_component = pm.Categorical('over55_component', p=p_over55, shape=xover55.shape[0])\n",
    "    gender_component = pm.Categorical('gender_component', p=p_gender, shape=xGender.shape[0])\n",
    "\n",
    "    # Mixture linear combinations for over55 and Gender\n",
    "    over55_logit = alpha_over55[over55_component] + beta_over55[over55_component] * xover55\n",
    "    gender_logit = alpha_gender[gender_component] + beta_gender[gender_component] * xGender\n",
    "\n",
    "    # p_day Probablity of being a weekday\n",
    "    p_day = pm.Beta('p_day', alpha=1, beta=1)\n",
    "\n",
    "    # Time weekday probabilities\n",
    "    pNight= pm.Beta('pNight', alpha=1, beta=1) ## = p1\n",
    "    p02= pm.Beta('p02', alpha=1, beta=1)\n",
    "    p03= pm.Beta('p03', alpha=1, beta=1)\n",
    "    p04= pm.Beta('p04', alpha=1, beta=1)\n",
    "    p05= pm.Beta('p05', alpha=1, beta=1) ## = p5\n",
    "\n",
    "    # Time weekend probabilities\n",
    "    p12= pm.Beta('p12', alpha=1, beta=1)\n",
    "    p13= pm.Beta('p13', alpha=1, beta=1)\n",
    "    p14= pm.Beta('p14', alpha=1, beta=1)\n",
    "\n",
    "    # p02 + p_day*(1-p02)*p12\n",
    "    no_negatives_2 = pm.math.switch(pm.math.lt(p02 + p_day*(1-p02)*p12,0), 0, p02 + p_day*(1-p02)*p12)\n",
    "    in_unit_interval_2 = pm.math.switch(pm.math.gt(no_negatives_2,1), 1, p02 + p_day*(1-p02)*p12)\n",
    "    p2 = pm.Deterministic('p2', in_unit_interval_2)\n",
    "\n",
    "    # p03 - p_day*(1-p03)*p13\n",
    "    no_negatives_3 = pm.math.switch(pm.math.lt(p03 - p_day*(1-p03)*p13,0), 0, p03 - p_day*(1-p03)*p13)\n",
    "    in_unit_interval_3 = pm.math.switch(pm.math.gt(no_negatives_3,1), 1, p03 - p_day*(1-p03)*p13)\n",
    "    p3 = pm.Deterministic('p3', in_unit_interval_3)\n",
    "\n",
    "    # p04 + p_day*(1-p04)*p14\n",
    "    no_negatives_4 = pm.math.switch(pm.math.lt(p04 + p_day*(1-p04)*p14,0), 0, p04 + p_day*(1-p04)*p14)\n",
    "    in_unit_interval_4 = pm.math.switch(pm.math.gt(no_negatives_4,1), 1, p04 + p_day*(1-p04)*p14)\n",
    "    p4 = pm.Deterministic('p4', in_unit_interval_4)\n",
    "\n",
    "    # Intercept\n",
    "    intercept = pm.Normal('intercept', mu=0, sigma=1)\n",
    "\n",
    "    # Priors of selected condition predictors\n",
    "    beta_dark = pm.Normal('beta_dark', mu=0, sigma=1)  # Prior for 'Dark'\n",
    "    beta_clear = pm.Normal('beta_clear', mu=0, sigma=1)  # Prior for 'Clear'\n",
    "\n",
    "    # Linear combination of predictors\n",
    "    # Combine over55 and Gender mixtures\n",
    "    logit_p = intercept + pNight * x6 + p2 * over55_logit + p3 * gender_logit + p4 * x9 + p05 * x10 + beta_clear * x2 + beta_dark * x4\n",
    "    logit_p = pm.Deterministic('logit_p', logit_p)\n",
    "\n",
    "    # Define likelihood\n",
    "    Y_mixture = pm.Bernoulli('Y_mixture', logit_p=logit_p, observed=y)\n",
    "\n",
    "    # Sample the model\n",
    "    idata_4 = pm.sample()"
   ]
  },
  {
   "cell_type": "code",
   "execution_count": null,
   "metadata": {
    "id": "caZDzP-ZU-Ks",
    "pycharm": {
     "name": "#%%\n"
    }
   },
   "outputs": [],
   "source": [
    "pm.model_to_graphviz(mixture_model)"
   ]
  },
  {
   "cell_type": "code",
   "source": [
    "az.plot_trace(idata_4, combined=True);\n",
    "az.summary(idata_4, round_to=2)"
   ],
   "metadata": {
    "colab": {
     "base_uri": "https://localhost:8080/",
     "height": 158
    },
    "id": "fdHiavW5ZFM7",
    "outputId": "64e797c6-a7fb-469a-a258-3dffd3598e38",
    "pycharm": {
     "name": "#%%\n"
    }
   },
   "execution_count": null,
   "outputs": [
    {
     "output_type": "error",
     "ename": "NameError",
     "evalue": "name 'az' is not defined",
     "traceback": [
      "\u001B[0;31m---------------------------------------------------------------------------\u001B[0m",
      "\u001B[0;31mNameError\u001B[0m                                 Traceback (most recent call last)",
      "\u001B[0;32m<ipython-input-1-2b987c746b9e>\u001B[0m in \u001B[0;36m<cell line: 1>\u001B[0;34m()\u001B[0m\n\u001B[0;32m----> 1\u001B[0;31m \u001B[0maz\u001B[0m\u001B[0;34m.\u001B[0m\u001B[0mplot_trace\u001B[0m\u001B[0;34m(\u001B[0m\u001B[0midata_4\u001B[0m\u001B[0;34m,\u001B[0m \u001B[0mcombined\u001B[0m\u001B[0;34m=\u001B[0m\u001B[0;32mTrue\u001B[0m\u001B[0;34m)\u001B[0m\u001B[0;34m;\u001B[0m\u001B[0;34m\u001B[0m\u001B[0;34m\u001B[0m\u001B[0m\n\u001B[0m\u001B[1;32m      2\u001B[0m \u001B[0maz\u001B[0m\u001B[0;34m.\u001B[0m\u001B[0msummary\u001B[0m\u001B[0;34m(\u001B[0m\u001B[0midata_4\u001B[0m\u001B[0;34m,\u001B[0m \u001B[0mround_to\u001B[0m\u001B[0;34m=\u001B[0m\u001B[0;36m2\u001B[0m\u001B[0;34m)\u001B[0m\u001B[0;34m\u001B[0m\u001B[0;34m\u001B[0m\u001B[0m\n",
      "\u001B[0;31mNameError\u001B[0m: name 'az' is not defined"
     ]
    }
   ]
  },
  {
   "cell_type": "markdown",
   "metadata": {
    "id": "b1PXu34LuQRA",
    "pycharm": {
     "name": "#%% md\n"
    }
   },
   "source": [
    "# Model diagnostic Part II\n",
    "\n"
   ]
  },
  {
   "cell_type": "code",
   "execution_count": null,
   "metadata": {
    "colab": {
     "base_uri": "https://localhost:8080/",
     "height": 56
    },
    "id": "0JiNl4JdvzZz",
    "outputId": "a41f2cef-260c-4b91-f310-7aea64875dc7",
    "pycharm": {
     "name": "#%%\n"
    }
   },
   "outputs": [
    {
     "output_type": "display_data",
     "data": {
      "text/plain": [
       "<IPython.core.display.HTML object>"
      ],
      "text/html": [
       "\n",
       "<style>\n",
       "    /* Turns off some styling */\n",
       "    progress {\n",
       "        /* gets rid of default border in Firefox and Opera. */\n",
       "        border: none;\n",
       "        /* Needs to be in here for Safari polyfill so background images work as expected. */\n",
       "        background-size: auto;\n",
       "    }\n",
       "    progress:not([value]), progress:not([value])::-webkit-progress-bar {\n",
       "        background: repeating-linear-gradient(45deg, #7e7e7e, #7e7e7e 10px, #5c5c5c 10px, #5c5c5c 20px);\n",
       "    }\n",
       "    .progress-bar-interrupted, .progress-bar-interrupted::-webkit-progress-bar {\n",
       "        background: #F44336;\n",
       "    }\n",
       "</style>\n"
      ]
     },
     "metadata": {}
    },
    {
     "output_type": "display_data",
     "data": {
      "text/plain": [
       "<IPython.core.display.HTML object>"
      ],
      "text/html": [
       "\n",
       "    <div>\n",
       "      <progress value='2000' class='' max='2000' style='width:300px; height:20px; vertical-align: middle;'></progress>\n",
       "      100.00% [2000/2000 00:13&lt;00:00 Sampling chain 0, 0 divergences]\n",
       "    </div>\n",
       "    "
      ]
     },
     "metadata": {}
    },
    {
     "output_type": "display_data",
     "data": {
      "text/plain": [
       "<IPython.core.display.HTML object>"
      ],
      "text/html": [
       "\n",
       "<style>\n",
       "    /* Turns off some styling */\n",
       "    progress {\n",
       "        /* gets rid of default border in Firefox and Opera. */\n",
       "        border: none;\n",
       "        /* Needs to be in here for Safari polyfill so background images work as expected. */\n",
       "        background-size: auto;\n",
       "    }\n",
       "    progress:not([value]), progress:not([value])::-webkit-progress-bar {\n",
       "        background: repeating-linear-gradient(45deg, #7e7e7e, #7e7e7e 10px, #5c5c5c 10px, #5c5c5c 20px);\n",
       "    }\n",
       "    .progress-bar-interrupted, .progress-bar-interrupted::-webkit-progress-bar {\n",
       "        background: #F44336;\n",
       "    }\n",
       "</style>\n"
      ]
     },
     "metadata": {}
    },
    {
     "output_type": "display_data",
     "data": {
      "text/plain": [
       "<IPython.core.display.HTML object>"
      ],
      "text/html": [
       "\n",
       "    <div>\n",
       "      <progress value='2000' class='' max='2000' style='width:300px; height:20px; vertical-align: middle;'></progress>\n",
       "      100.00% [2000/2000 00:08&lt;00:00 Sampling chain 1, 0 divergences]\n",
       "    </div>\n",
       "    "
      ]
     },
     "metadata": {}
    }
   ],
   "source": [
    "# Baisc regression model for comparison\n",
    "with pm.Model() as model_basic:\n",
    "    beta_0 = pm.Normal('beta_0', mu=0, sigma=1)\n",
    "    beta_1 = pm.Normal('beta_1', mu=0, sigma=1)\n",
    "    beta_2 = pm.Normal('beta_2', mu=0, sigma=1)\n",
    "    beta_3 = pm.Normal('beta_3', mu=0, sigma=1)\n",
    "    beta_4 = pm.Normal('beta_4', mu=0, sigma=1)\n",
    "    beta_5 = pm.Normal('beta_5', mu=0, sigma=1)\n",
    "    beta_dark = pm.Normal('beta_dark', mu=0, sigma=1)  # Prior for 'Dark'\n",
    "    beta_clear = pm.Normal('beta_clear', mu=0, sigma=1)  # Prior for 'Clear'\n",
    "\n",
    "    # Linear combination of predictors\n",
    "    logit_p = beta_0 + beta_1*x6 +beta_2*x7 +beta_3*x8 +beta_4*x9 +beta_5*x10 + beta_clear*x2 + beta_dark*x4\n",
    "    logit_p = pm.Deterministic('logit_p',logit_p)\n",
    "\n",
    "    Basic_Y = pm.Bernoulli('Basic_Y', logit_p = logit_p, observed=y)\n",
    "\n",
    "    idata_3 = pm.sample()"
   ]
  },
  {
   "cell_type": "code",
   "execution_count": null,
   "metadata": {
    "colab": {
     "base_uri": "https://localhost:8080/",
     "height": 196
    },
    "id": "AHaOKLjNuyg6",
    "outputId": "073cba46-9857-4cbb-ce46-aa7ab7627f24",
    "pycharm": {
     "name": "#%%\n"
    }
   },
   "outputs": [
    {
     "output_type": "display_data",
     "data": {
      "text/plain": [
       "<IPython.core.display.HTML object>"
      ],
      "text/html": [
       "\n",
       "<style>\n",
       "    /* Turns off some styling */\n",
       "    progress {\n",
       "        /* gets rid of default border in Firefox and Opera. */\n",
       "        border: none;\n",
       "        /* Needs to be in here for Safari polyfill so background images work as expected. */\n",
       "        background-size: auto;\n",
       "    }\n",
       "    progress:not([value]), progress:not([value])::-webkit-progress-bar {\n",
       "        background: repeating-linear-gradient(45deg, #7e7e7e, #7e7e7e 10px, #5c5c5c 10px, #5c5c5c 20px);\n",
       "    }\n",
       "    .progress-bar-interrupted, .progress-bar-interrupted::-webkit-progress-bar {\n",
       "        background: #F44336;\n",
       "    }\n",
       "</style>\n"
      ]
     },
     "metadata": {}
    },
    {
     "output_type": "display_data",
     "data": {
      "text/plain": [
       "<IPython.core.display.HTML object>"
      ],
      "text/html": [
       "\n",
       "    <div>\n",
       "      <progress value='3000' class='' max='3000' style='width:300px; height:20px; vertical-align: middle;'></progress>\n",
       "      100.00% [3000/3000 03:58&lt;00:00 Sampling chain 0, 0 divergences]\n",
       "    </div>\n",
       "    "
      ]
     },
     "metadata": {}
    },
    {
     "output_type": "display_data",
     "data": {
      "text/plain": [
       "<IPython.core.display.HTML object>"
      ],
      "text/html": [
       "\n",
       "<style>\n",
       "    /* Turns off some styling */\n",
       "    progress {\n",
       "        /* gets rid of default border in Firefox and Opera. */\n",
       "        border: none;\n",
       "        /* Needs to be in here for Safari polyfill so background images work as expected. */\n",
       "        background-size: auto;\n",
       "    }\n",
       "    progress:not([value]), progress:not([value])::-webkit-progress-bar {\n",
       "        background: repeating-linear-gradient(45deg, #7e7e7e, #7e7e7e 10px, #5c5c5c 10px, #5c5c5c 20px);\n",
       "    }\n",
       "    .progress-bar-interrupted, .progress-bar-interrupted::-webkit-progress-bar {\n",
       "        background: #F44336;\n",
       "    }\n",
       "</style>\n"
      ]
     },
     "metadata": {}
    },
    {
     "output_type": "display_data",
     "data": {
      "text/plain": [
       "<IPython.core.display.HTML object>"
      ],
      "text/html": [
       "\n",
       "    <div>\n",
       "      <progress value='3000' class='' max='3000' style='width:300px; height:20px; vertical-align: middle;'></progress>\n",
       "      100.00% [3000/3000 03:42&lt;00:00 Sampling chain 1, 0 divergences]\n",
       "    </div>\n",
       "    "
      ]
     },
     "metadata": {}
    },
    {
     "output_type": "display_data",
     "data": {
      "text/plain": [
       "<IPython.core.display.HTML object>"
      ],
      "text/html": [
       "\n",
       "<style>\n",
       "    /* Turns off some styling */\n",
       "    progress {\n",
       "        /* gets rid of default border in Firefox and Opera. */\n",
       "        border: none;\n",
       "        /* Needs to be in here for Safari polyfill so background images work as expected. */\n",
       "        background-size: auto;\n",
       "    }\n",
       "    progress:not([value]), progress:not([value])::-webkit-progress-bar {\n",
       "        background: repeating-linear-gradient(45deg, #7e7e7e, #7e7e7e 10px, #5c5c5c 10px, #5c5c5c 20px);\n",
       "    }\n",
       "    .progress-bar-interrupted, .progress-bar-interrupted::-webkit-progress-bar {\n",
       "        background: #F44336;\n",
       "    }\n",
       "</style>\n"
      ]
     },
     "metadata": {}
    },
    {
     "output_type": "display_data",
     "data": {
      "text/plain": [
       "<IPython.core.display.HTML object>"
      ],
      "text/html": [
       "\n",
       "    <div>\n",
       "      <progress value='4000' class='' max='4000' style='width:300px; height:20px; vertical-align: middle;'></progress>\n",
       "      100.00% [4000/4000 00:01&lt;00:00]\n",
       "    </div>\n",
       "    "
      ]
     },
     "metadata": {}
    },
    {
     "output_type": "display_data",
     "data": {
      "text/plain": [
       "<IPython.core.display.HTML object>"
      ],
      "text/html": [
       "\n",
       "<style>\n",
       "    /* Turns off some styling */\n",
       "    progress {\n",
       "        /* gets rid of default border in Firefox and Opera. */\n",
       "        border: none;\n",
       "        /* Needs to be in here for Safari polyfill so background images work as expected. */\n",
       "        background-size: auto;\n",
       "    }\n",
       "    progress:not([value]), progress:not([value])::-webkit-progress-bar {\n",
       "        background: repeating-linear-gradient(45deg, #7e7e7e, #7e7e7e 10px, #5c5c5c 10px, #5c5c5c 20px);\n",
       "    }\n",
       "    .progress-bar-interrupted, .progress-bar-interrupted::-webkit-progress-bar {\n",
       "        background: #F44336;\n",
       "    }\n",
       "</style>\n"
      ]
     },
     "metadata": {}
    },
    {
     "output_type": "display_data",
     "data": {
      "text/plain": [
       "<IPython.core.display.HTML object>"
      ],
      "text/html": [
       "\n",
       "    <div>\n",
       "      <progress value='3000' class='' max='3000' style='width:300px; height:20px; vertical-align: middle;'></progress>\n",
       "      100.00% [3000/3000 00:19&lt;00:00 Sampling chain 0, 0 divergences]\n",
       "    </div>\n",
       "    "
      ]
     },
     "metadata": {}
    },
    {
     "output_type": "display_data",
     "data": {
      "text/plain": [
       "<IPython.core.display.HTML object>"
      ],
      "text/html": [
       "\n",
       "<style>\n",
       "    /* Turns off some styling */\n",
       "    progress {\n",
       "        /* gets rid of default border in Firefox and Opera. */\n",
       "        border: none;\n",
       "        /* Needs to be in here for Safari polyfill so background images work as expected. */\n",
       "        background-size: auto;\n",
       "    }\n",
       "    progress:not([value]), progress:not([value])::-webkit-progress-bar {\n",
       "        background: repeating-linear-gradient(45deg, #7e7e7e, #7e7e7e 10px, #5c5c5c 10px, #5c5c5c 20px);\n",
       "    }\n",
       "    .progress-bar-interrupted, .progress-bar-interrupted::-webkit-progress-bar {\n",
       "        background: #F44336;\n",
       "    }\n",
       "</style>\n"
      ]
     },
     "metadata": {}
    },
    {
     "output_type": "display_data",
     "data": {
      "text/plain": [
       "<IPython.core.display.HTML object>"
      ],
      "text/html": [
       "\n",
       "    <div>\n",
       "      <progress value='3000' class='' max='3000' style='width:300px; height:20px; vertical-align: middle;'></progress>\n",
       "      100.00% [3000/3000 00:19&lt;00:00 Sampling chain 1, 0 divergences]\n",
       "    </div>\n",
       "    "
      ]
     },
     "metadata": {}
    },
    {
     "output_type": "display_data",
     "data": {
      "text/plain": [
       "<IPython.core.display.HTML object>"
      ],
      "text/html": [
       "\n",
       "<style>\n",
       "    /* Turns off some styling */\n",
       "    progress {\n",
       "        /* gets rid of default border in Firefox and Opera. */\n",
       "        border: none;\n",
       "        /* Needs to be in here for Safari polyfill so background images work as expected. */\n",
       "        background-size: auto;\n",
       "    }\n",
       "    progress:not([value]), progress:not([value])::-webkit-progress-bar {\n",
       "        background: repeating-linear-gradient(45deg, #7e7e7e, #7e7e7e 10px, #5c5c5c 10px, #5c5c5c 20px);\n",
       "    }\n",
       "    .progress-bar-interrupted, .progress-bar-interrupted::-webkit-progress-bar {\n",
       "        background: #F44336;\n",
       "    }\n",
       "</style>\n"
      ]
     },
     "metadata": {}
    },
    {
     "output_type": "display_data",
     "data": {
      "text/plain": [
       "<IPython.core.display.HTML object>"
      ],
      "text/html": [
       "\n",
       "    <div>\n",
       "      <progress value='4000' class='' max='4000' style='width:300px; height:20px; vertical-align: middle;'></progress>\n",
       "      100.00% [4000/4000 00:00&lt;00:00]\n",
       "    </div>\n",
       "    "
      ]
     },
     "metadata": {}
    },
    {
     "output_type": "display_data",
     "data": {
      "text/plain": [
       "<IPython.core.display.HTML object>"
      ],
      "text/html": [
       "\n",
       "<style>\n",
       "    /* Turns off some styling */\n",
       "    progress {\n",
       "        /* gets rid of default border in Firefox and Opera. */\n",
       "        border: none;\n",
       "        /* Needs to be in here for Safari polyfill so background images work as expected. */\n",
       "        background-size: auto;\n",
       "    }\n",
       "    progress:not([value]), progress:not([value])::-webkit-progress-bar {\n",
       "        background: repeating-linear-gradient(45deg, #7e7e7e, #7e7e7e 10px, #5c5c5c 10px, #5c5c5c 20px);\n",
       "    }\n",
       "    .progress-bar-interrupted, .progress-bar-interrupted::-webkit-progress-bar {\n",
       "        background: #F44336;\n",
       "    }\n",
       "</style>\n"
      ]
     },
     "metadata": {}
    },
    {
     "output_type": "display_data",
     "data": {
      "text/plain": [
       "<IPython.core.display.HTML object>"
      ],
      "text/html": [
       "\n",
       "    <div>\n",
       "      <progress value='3000' class='' max='3000' style='width:300px; height:20px; vertical-align: middle;'></progress>\n",
       "      100.00% [3000/3000 00:13&lt;00:00 Sampling chain 0, 0 divergences]\n",
       "    </div>\n",
       "    "
      ]
     },
     "metadata": {}
    },
    {
     "output_type": "display_data",
     "data": {
      "text/plain": [
       "<IPython.core.display.HTML object>"
      ],
      "text/html": [
       "\n",
       "<style>\n",
       "    /* Turns off some styling */\n",
       "    progress {\n",
       "        /* gets rid of default border in Firefox and Opera. */\n",
       "        border: none;\n",
       "        /* Needs to be in here for Safari polyfill so background images work as expected. */\n",
       "        background-size: auto;\n",
       "    }\n",
       "    progress:not([value]), progress:not([value])::-webkit-progress-bar {\n",
       "        background: repeating-linear-gradient(45deg, #7e7e7e, #7e7e7e 10px, #5c5c5c 10px, #5c5c5c 20px);\n",
       "    }\n",
       "    .progress-bar-interrupted, .progress-bar-interrupted::-webkit-progress-bar {\n",
       "        background: #F44336;\n",
       "    }\n",
       "</style>\n"
      ]
     },
     "metadata": {}
    },
    {
     "output_type": "display_data",
     "data": {
      "text/plain": [
       "<IPython.core.display.HTML object>"
      ],
      "text/html": [
       "\n",
       "    <div>\n",
       "      <progress value='3000' class='' max='3000' style='width:300px; height:20px; vertical-align: middle;'></progress>\n",
       "      100.00% [3000/3000 00:13&lt;00:00 Sampling chain 1, 0 divergences]\n",
       "    </div>\n",
       "    "
      ]
     },
     "metadata": {}
    },
    {
     "output_type": "display_data",
     "data": {
      "text/plain": [
       "<IPython.core.display.HTML object>"
      ],
      "text/html": [
       "\n",
       "<style>\n",
       "    /* Turns off some styling */\n",
       "    progress {\n",
       "        /* gets rid of default border in Firefox and Opera. */\n",
       "        border: none;\n",
       "        /* Needs to be in here for Safari polyfill so background images work as expected. */\n",
       "        background-size: auto;\n",
       "    }\n",
       "    progress:not([value]), progress:not([value])::-webkit-progress-bar {\n",
       "        background: repeating-linear-gradient(45deg, #7e7e7e, #7e7e7e 10px, #5c5c5c 10px, #5c5c5c 20px);\n",
       "    }\n",
       "    .progress-bar-interrupted, .progress-bar-interrupted::-webkit-progress-bar {\n",
       "        background: #F44336;\n",
       "    }\n",
       "</style>\n"
      ]
     },
     "metadata": {}
    },
    {
     "output_type": "display_data",
     "data": {
      "text/plain": [
       "<IPython.core.display.HTML object>"
      ],
      "text/html": [
       "\n",
       "    <div>\n",
       "      <progress value='4000' class='' max='4000' style='width:300px; height:20px; vertical-align: middle;'></progress>\n",
       "      100.00% [4000/4000 00:00&lt;00:00]\n",
       "    </div>\n",
       "    "
      ]
     },
     "metadata": {}
    }
   ],
   "source": [
    "with mixture_model:\n",
    "    trace_mix = pm.sample(2000, tune=1000)\n",
    "    pm.compute_log_likelihood(trace_mix)\n",
    "\n",
    "with complete_model:\n",
    "    trace_complete = pm.sample(2000, tune=1000)\n",
    "    pm.compute_log_likelihood(trace_complete)\n",
    "\n",
    "with model_basic:\n",
    "    trace_basic = pm.sample(2000, tune=1000)\n",
    "    pm.compute_log_likelihood(trace_basic)\n"
   ]
  },
  {
   "cell_type": "code",
   "execution_count": null,
   "metadata": {
    "colab": {
     "base_uri": "https://localhost:8080/"
    },
    "id": "ANY2uI0C-cia",
    "outputId": "20df68f1-b9b0-4330-81f2-05cfc9860412",
    "pycharm": {
     "name": "#%%\n"
    }
   },
   "outputs": [
    {
     "output_type": "stream",
     "name": "stderr",
     "text": [
      "<ipython-input-21-6b3c8ef858ff>:1: DeprecationWarning: `product` is deprecated as of NumPy 1.25.0, and will be removed in NumPy 2.0. Please use `prod` instead.\n",
      "  az.waic(trace_mix)\n"
     ]
    },
    {
     "output_type": "execute_result",
     "data": {
      "text/plain": [
       "Computed from 4000 posterior samples and 100 observations log-likelihood matrix.\n",
       "\n",
       "          Estimate       SE\n",
       "elpd_waic   -66.80     2.87\n",
       "p_waic        9.11        -"
      ]
     },
     "metadata": {},
     "execution_count": 21
    }
   ],
   "source": [
    "az.waic(trace_mix)"
   ]
  },
  {
   "cell_type": "code",
   "execution_count": null,
   "metadata": {
    "colab": {
     "base_uri": "https://localhost:8080/",
     "height": 140
    },
    "id": "NNWzIuke8b44",
    "outputId": "74c58cf7-d22b-4bef-b0b5-1e92a6773288",
    "pycharm": {
     "name": "#%%\n"
    }
   },
   "outputs": [
    {
     "output_type": "execute_result",
     "data": {
      "text/plain": [
       "                rank  elpd_waic    p_waic  elpd_diff        weight        se  \\\n",
       "mixture_model      0 -66.797920  9.106353   0.000000  1.000000e+00  2.865732   \n",
       "complete_model     1 -67.575531  2.677865   0.777611  2.012279e-15  2.569283   \n",
       "model2             2 -68.799189  4.366537   2.001269  0.000000e+00  2.919276   \n",
       "\n",
       "                     dse  warning scale  \n",
       "mixture_model   0.000000    False   log  \n",
       "complete_model  0.927726    False   log  \n",
       "model2          0.868496    False   log  "
      ],
      "text/html": [
       "\n",
       "  <div id=\"df-a2a6b7b5-43b7-487e-9954-8526b556cf4d\" class=\"colab-df-container\">\n",
       "    <div>\n",
       "<style scoped>\n",
       "    .dataframe tbody tr th:only-of-type {\n",
       "        vertical-align: middle;\n",
       "    }\n",
       "\n",
       "    .dataframe tbody tr th {\n",
       "        vertical-align: top;\n",
       "    }\n",
       "\n",
       "    .dataframe thead th {\n",
       "        text-align: right;\n",
       "    }\n",
       "</style>\n",
       "<table border=\"1\" class=\"dataframe\">\n",
       "  <thead>\n",
       "    <tr style=\"text-align: right;\">\n",
       "      <th></th>\n",
       "      <th>rank</th>\n",
       "      <th>elpd_waic</th>\n",
       "      <th>p_waic</th>\n",
       "      <th>elpd_diff</th>\n",
       "      <th>weight</th>\n",
       "      <th>se</th>\n",
       "      <th>dse</th>\n",
       "      <th>warning</th>\n",
       "      <th>scale</th>\n",
       "    </tr>\n",
       "  </thead>\n",
       "  <tbody>\n",
       "    <tr>\n",
       "      <th>mixture_model</th>\n",
       "      <td>0</td>\n",
       "      <td>-66.797920</td>\n",
       "      <td>9.106353</td>\n",
       "      <td>0.000000</td>\n",
       "      <td>1.000000e+00</td>\n",
       "      <td>2.865732</td>\n",
       "      <td>0.000000</td>\n",
       "      <td>False</td>\n",
       "      <td>log</td>\n",
       "    </tr>\n",
       "    <tr>\n",
       "      <th>complete_model</th>\n",
       "      <td>1</td>\n",
       "      <td>-67.575531</td>\n",
       "      <td>2.677865</td>\n",
       "      <td>0.777611</td>\n",
       "      <td>2.012279e-15</td>\n",
       "      <td>2.569283</td>\n",
       "      <td>0.927726</td>\n",
       "      <td>False</td>\n",
       "      <td>log</td>\n",
       "    </tr>\n",
       "    <tr>\n",
       "      <th>model2</th>\n",
       "      <td>2</td>\n",
       "      <td>-68.799189</td>\n",
       "      <td>4.366537</td>\n",
       "      <td>2.001269</td>\n",
       "      <td>0.000000e+00</td>\n",
       "      <td>2.919276</td>\n",
       "      <td>0.868496</td>\n",
       "      <td>False</td>\n",
       "      <td>log</td>\n",
       "    </tr>\n",
       "  </tbody>\n",
       "</table>\n",
       "</div>\n",
       "    <div class=\"colab-df-buttons\">\n",
       "\n",
       "  <div class=\"colab-df-container\">\n",
       "    <button class=\"colab-df-convert\" onclick=\"convertToInteractive('df-a2a6b7b5-43b7-487e-9954-8526b556cf4d')\"\n",
       "            title=\"Convert this dataframe to an interactive table.\"\n",
       "            style=\"display:none;\">\n",
       "\n",
       "  <svg xmlns=\"http://www.w3.org/2000/svg\" height=\"24px\" viewBox=\"0 -960 960 960\">\n",
       "    <path d=\"M120-120v-720h720v720H120Zm60-500h600v-160H180v160Zm220 220h160v-160H400v160Zm0 220h160v-160H400v160ZM180-400h160v-160H180v160Zm440 0h160v-160H620v160ZM180-180h160v-160H180v160Zm440 0h160v-160H620v160Z\"/>\n",
       "  </svg>\n",
       "    </button>\n",
       "\n",
       "  <style>\n",
       "    .colab-df-container {\n",
       "      display:flex;\n",
       "      gap: 12px;\n",
       "    }\n",
       "\n",
       "    .colab-df-convert {\n",
       "      background-color: #E8F0FE;\n",
       "      border: none;\n",
       "      border-radius: 50%;\n",
       "      cursor: pointer;\n",
       "      display: none;\n",
       "      fill: #1967D2;\n",
       "      height: 32px;\n",
       "      padding: 0 0 0 0;\n",
       "      width: 32px;\n",
       "    }\n",
       "\n",
       "    .colab-df-convert:hover {\n",
       "      background-color: #E2EBFA;\n",
       "      box-shadow: 0px 1px 2px rgba(60, 64, 67, 0.3), 0px 1px 3px 1px rgba(60, 64, 67, 0.15);\n",
       "      fill: #174EA6;\n",
       "    }\n",
       "\n",
       "    .colab-df-buttons div {\n",
       "      margin-bottom: 4px;\n",
       "    }\n",
       "\n",
       "    [theme=dark] .colab-df-convert {\n",
       "      background-color: #3B4455;\n",
       "      fill: #D2E3FC;\n",
       "    }\n",
       "\n",
       "    [theme=dark] .colab-df-convert:hover {\n",
       "      background-color: #434B5C;\n",
       "      box-shadow: 0px 1px 3px 1px rgba(0, 0, 0, 0.15);\n",
       "      filter: drop-shadow(0px 1px 2px rgba(0, 0, 0, 0.3));\n",
       "      fill: #FFFFFF;\n",
       "    }\n",
       "  </style>\n",
       "\n",
       "    <script>\n",
       "      const buttonEl =\n",
       "        document.querySelector('#df-a2a6b7b5-43b7-487e-9954-8526b556cf4d button.colab-df-convert');\n",
       "      buttonEl.style.display =\n",
       "        google.colab.kernel.accessAllowed ? 'block' : 'none';\n",
       "\n",
       "      async function convertToInteractive(key) {\n",
       "        const element = document.querySelector('#df-a2a6b7b5-43b7-487e-9954-8526b556cf4d');\n",
       "        const dataTable =\n",
       "          await google.colab.kernel.invokeFunction('convertToInteractive',\n",
       "                                                    [key], {});\n",
       "        if (!dataTable) return;\n",
       "\n",
       "        const docLinkHtml = 'Like what you see? Visit the ' +\n",
       "          '<a target=\"_blank\" href=https://colab.research.google.com/notebooks/data_table.ipynb>data table notebook</a>'\n",
       "          + ' to learn more about interactive tables.';\n",
       "        element.innerHTML = '';\n",
       "        dataTable['output_type'] = 'display_data';\n",
       "        await google.colab.output.renderOutput(dataTable, element);\n",
       "        const docLink = document.createElement('div');\n",
       "        docLink.innerHTML = docLinkHtml;\n",
       "        element.appendChild(docLink);\n",
       "      }\n",
       "    </script>\n",
       "  </div>\n",
       "\n",
       "\n",
       "<div id=\"df-fbee78d4-aec8-441b-9e49-ef92afd3dd43\">\n",
       "  <button class=\"colab-df-quickchart\" onclick=\"quickchart('df-fbee78d4-aec8-441b-9e49-ef92afd3dd43')\"\n",
       "            title=\"Suggest charts\"\n",
       "            style=\"display:none;\">\n",
       "\n",
       "<svg xmlns=\"http://www.w3.org/2000/svg\" height=\"24px\"viewBox=\"0 0 24 24\"\n",
       "     width=\"24px\">\n",
       "    <g>\n",
       "        <path d=\"M19 3H5c-1.1 0-2 .9-2 2v14c0 1.1.9 2 2 2h14c1.1 0 2-.9 2-2V5c0-1.1-.9-2-2-2zM9 17H7v-7h2v7zm4 0h-2V7h2v10zm4 0h-2v-4h2v4z\"/>\n",
       "    </g>\n",
       "</svg>\n",
       "  </button>\n",
       "\n",
       "<style>\n",
       "  .colab-df-quickchart {\n",
       "      --bg-color: #E8F0FE;\n",
       "      --fill-color: #1967D2;\n",
       "      --hover-bg-color: #E2EBFA;\n",
       "      --hover-fill-color: #174EA6;\n",
       "      --disabled-fill-color: #AAA;\n",
       "      --disabled-bg-color: #DDD;\n",
       "  }\n",
       "\n",
       "  [theme=dark] .colab-df-quickchart {\n",
       "      --bg-color: #3B4455;\n",
       "      --fill-color: #D2E3FC;\n",
       "      --hover-bg-color: #434B5C;\n",
       "      --hover-fill-color: #FFFFFF;\n",
       "      --disabled-bg-color: #3B4455;\n",
       "      --disabled-fill-color: #666;\n",
       "  }\n",
       "\n",
       "  .colab-df-quickchart {\n",
       "    background-color: var(--bg-color);\n",
       "    border: none;\n",
       "    border-radius: 50%;\n",
       "    cursor: pointer;\n",
       "    display: none;\n",
       "    fill: var(--fill-color);\n",
       "    height: 32px;\n",
       "    padding: 0;\n",
       "    width: 32px;\n",
       "  }\n",
       "\n",
       "  .colab-df-quickchart:hover {\n",
       "    background-color: var(--hover-bg-color);\n",
       "    box-shadow: 0 1px 2px rgba(60, 64, 67, 0.3), 0 1px 3px 1px rgba(60, 64, 67, 0.15);\n",
       "    fill: var(--button-hover-fill-color);\n",
       "  }\n",
       "\n",
       "  .colab-df-quickchart-complete:disabled,\n",
       "  .colab-df-quickchart-complete:disabled:hover {\n",
       "    background-color: var(--disabled-bg-color);\n",
       "    fill: var(--disabled-fill-color);\n",
       "    box-shadow: none;\n",
       "  }\n",
       "\n",
       "  .colab-df-spinner {\n",
       "    border: 2px solid var(--fill-color);\n",
       "    border-color: transparent;\n",
       "    border-bottom-color: var(--fill-color);\n",
       "    animation:\n",
       "      spin 1s steps(1) infinite;\n",
       "  }\n",
       "\n",
       "  @keyframes spin {\n",
       "    0% {\n",
       "      border-color: transparent;\n",
       "      border-bottom-color: var(--fill-color);\n",
       "      border-left-color: var(--fill-color);\n",
       "    }\n",
       "    20% {\n",
       "      border-color: transparent;\n",
       "      border-left-color: var(--fill-color);\n",
       "      border-top-color: var(--fill-color);\n",
       "    }\n",
       "    30% {\n",
       "      border-color: transparent;\n",
       "      border-left-color: var(--fill-color);\n",
       "      border-top-color: var(--fill-color);\n",
       "      border-right-color: var(--fill-color);\n",
       "    }\n",
       "    40% {\n",
       "      border-color: transparent;\n",
       "      border-right-color: var(--fill-color);\n",
       "      border-top-color: var(--fill-color);\n",
       "    }\n",
       "    60% {\n",
       "      border-color: transparent;\n",
       "      border-right-color: var(--fill-color);\n",
       "    }\n",
       "    80% {\n",
       "      border-color: transparent;\n",
       "      border-right-color: var(--fill-color);\n",
       "      border-bottom-color: var(--fill-color);\n",
       "    }\n",
       "    90% {\n",
       "      border-color: transparent;\n",
       "      border-bottom-color: var(--fill-color);\n",
       "    }\n",
       "  }\n",
       "</style>\n",
       "\n",
       "  <script>\n",
       "    async function quickchart(key) {\n",
       "      const quickchartButtonEl =\n",
       "        document.querySelector('#' + key + ' button');\n",
       "      quickchartButtonEl.disabled = true;  // To prevent multiple clicks.\n",
       "      quickchartButtonEl.classList.add('colab-df-spinner');\n",
       "      try {\n",
       "        const charts = await google.colab.kernel.invokeFunction(\n",
       "            'suggestCharts', [key], {});\n",
       "      } catch (error) {\n",
       "        console.error('Error during call to suggestCharts:', error);\n",
       "      }\n",
       "      quickchartButtonEl.classList.remove('colab-df-spinner');\n",
       "      quickchartButtonEl.classList.add('colab-df-quickchart-complete');\n",
       "    }\n",
       "    (() => {\n",
       "      let quickchartButtonEl =\n",
       "        document.querySelector('#df-fbee78d4-aec8-441b-9e49-ef92afd3dd43 button');\n",
       "      quickchartButtonEl.style.display =\n",
       "        google.colab.kernel.accessAllowed ? 'block' : 'none';\n",
       "    })();\n",
       "  </script>\n",
       "</div>\n",
       "\n",
       "    </div>\n",
       "  </div>\n"
      ],
      "application/vnd.google.colaboratory.intrinsic+json": {
       "type": "dataframe",
       "summary": "{\n  \"name\": \"az\",\n  \"rows\": 3,\n  \"fields\": [\n    {\n      \"column\": \"rank\",\n      \"properties\": {\n        \"dtype\": \"number\",\n        \"std\": 1,\n        \"min\": 0,\n        \"max\": 2,\n        \"num_unique_values\": 3,\n        \"samples\": [\n          0,\n          1,\n          2\n        ],\n        \"semantic_type\": \"\",\n        \"description\": \"\"\n      }\n    },\n    {\n      \"column\": \"elpd_waic\",\n      \"properties\": {\n        \"dtype\": \"number\",\n        \"std\": 1.0088850854534812,\n        \"min\": -68.7991888394279,\n        \"max\": -66.79791993931435,\n        \"num_unique_values\": 3,\n        \"samples\": [\n          -66.79791993931435,\n          -67.57553098470207,\n          -68.7991888394279\n        ],\n        \"semantic_type\": \"\",\n        \"description\": \"\"\n      }\n    },\n    {\n      \"column\": \"p_waic\",\n      \"properties\": {\n        \"dtype\": \"number\",\n        \"std\": 3.3327401380434445,\n        \"min\": 2.677864616565184,\n        \"max\": 9.106353466144629,\n        \"num_unique_values\": 3,\n        \"samples\": [\n          9.106353466144629,\n          2.677864616565184,\n          4.366537405441972\n        ],\n        \"semantic_type\": \"\",\n        \"description\": \"\"\n      }\n    },\n    {\n      \"column\": \"elpd_diff\",\n      \"properties\": {\n        \"dtype\": \"number\",\n        \"std\": 1.0088850854534739,\n        \"min\": 0.0,\n        \"max\": 2.00126890011353,\n        \"num_unique_values\": 3,\n        \"samples\": [\n          0.0,\n          0.7776110453877123,\n          2.00126890011353\n        ],\n        \"semantic_type\": \"\",\n        \"description\": \"\"\n      }\n    },\n    {\n      \"column\": \"weight\",\n      \"properties\": {\n        \"dtype\": \"number\",\n        \"std\": 0.5773502691896252,\n        \"min\": 0.0,\n        \"max\": 1.0,\n        \"num_unique_values\": 3,\n        \"samples\": [\n          1.0,\n          2.0122792321330962e-15,\n          0.0\n        ],\n        \"semantic_type\": \"\",\n        \"description\": \"\"\n      }\n    },\n    {\n      \"column\": \"se\",\n      \"properties\": {\n        \"dtype\": \"number\",\n        \"std\": 0.18852231281617787,\n        \"min\": 2.5692832107843024,\n        \"max\": 2.919276327588262,\n        \"num_unique_values\": 3,\n        \"samples\": [\n          2.865731821170059,\n          2.5692832107843024,\n          2.919276327588262\n        ],\n        \"semantic_type\": \"\",\n        \"description\": \"\"\n      }\n    },\n    {\n      \"column\": \"dse\",\n      \"properties\": {\n        \"dtype\": \"number\",\n        \"std\": 0.5193697553140108,\n        \"min\": 0.0,\n        \"max\": 0.9277260870610655,\n        \"num_unique_values\": 3,\n        \"samples\": [\n          0.0,\n          0.9277260870610655,\n          0.8684962833225444\n        ],\n        \"semantic_type\": \"\",\n        \"description\": \"\"\n      }\n    },\n    {\n      \"column\": \"warning\",\n      \"properties\": {\n        \"dtype\": \"boolean\",\n        \"num_unique_values\": 1,\n        \"samples\": [\n          false\n        ],\n        \"semantic_type\": \"\",\n        \"description\": \"\"\n      }\n    },\n    {\n      \"column\": \"scale\",\n      \"properties\": {\n        \"dtype\": \"category\",\n        \"num_unique_values\": 1,\n        \"samples\": [\n          \"log\"\n        ],\n        \"semantic_type\": \"\",\n        \"description\": \"\"\n      }\n    }\n  ]\n}"
      }
     },
     "metadata": {},
     "execution_count": 22
    }
   ],
   "source": [
    "az.compare({\"mixture_model\": trace_mix, \"complete_model\": trace_complete, \"model2\": trace_basic}, ic='waic')"
   ]
  },
  {
   "cell_type": "code",
   "execution_count": null,
   "metadata": {
    "colab": {
     "base_uri": "https://localhost:8080/",
     "height": 351
    },
    "id": "TQHTmmL_7-S2",
    "outputId": "42b556aa-aba2-4831-b78b-97e18289da1d",
    "pycharm": {
     "name": "#%%\n"
    }
   },
   "outputs": [
    {
     "output_type": "display_data",
     "data": {
      "text/plain": [
       "<Figure size 600x300 with 1 Axes>"
      ],
      "image/png": "[encoded data removed]"
     },
     "metadata": {}
    }
   ],
   "source": [
    "az.plot_compare(az.compare({\"mixture_model\": trace_mix, \"complete_model\": trace_complete, \"model2\": trace_basic}), insample_dev=False);"
   ]
  }
 ],
 "metadata": {
  "colab": {
   "provenance": []
  },
  "kernelspec": {
   "display_name": "Python 3",
   "name": "python3"
  },
  "language_info": {
   "name": "python"
  }
 },
 "nbformat": 4,
 "nbformat_minor": 0
}
