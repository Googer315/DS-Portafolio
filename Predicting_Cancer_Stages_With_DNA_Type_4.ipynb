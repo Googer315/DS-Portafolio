{
  "cells": [
    {
      "cell_type": "code",
      "execution_count": null,
      "metadata": {
        "id": "sO1RMhhykvNu"
      },
      "outputs": [],
      "source": [
        "import pandas as pd\n",
        "import numpy as np\n",
        "import seaborn as sns\n",
        "import sklearn\n",
        "import matplotlib.pyplot as plt\n",
        "from sklearn.model_selection import train_test_split, GridSearchCV, cross_val_score, RandomizedSearchCV, KFold, cross_val_predict\n",
        "from sklearn.feature_selection import SelectKBest, chi2, SelectFromModel, RFE\n",
        "from sklearn.linear_model import LogisticRegression, Lasso\n",
        "from sklearn.ensemble import RandomForestClassifier\n",
        "import xgboost as xgb\n",
        "from xgboost import XGBClassifier\n",
        "from sklearn.preprocessing import StandardScaler, MinMaxScaler, OneHotEncoder, LabelEncoder, OrdinalEncoder, PowerTransformer\n",
        "from sklearn.neighbors import KNeighborsClassifier\n",
        "from sklearn.tree import DecisionTreeClassifier, plot_tree\n",
        "from sklearn.metrics import accuracy_score, classification_report, confusion_matrix, f1_score, roc_auc_score, roc_curve, auc\n",
        "from sklearn.svm import SVC\n",
        "from sklearn.pipeline import Pipeline\n",
        "from scipy import sparse, stats\n",
        "from scipy.stats import zscore\n",
        "from sklearn.impute import KNNImputer\n",
        "from imblearn.over_sampling import SMOTE, ADASYN\n",
        "from statsmodels.stats.outliers_influence import variance_inflation_factor\n",
        "from imblearn.combine import SMOTEENN\n",
        "from typing import Counter"
      ]
    },
    {
      "cell_type": "markdown",
      "metadata": {
        "id": "3UzNNCBhk0YM"
      },
      "source": [
        "# Predicting Cancer Stages With DNA Type 4"
      ]
    },
    {
      "cell_type": "markdown",
      "metadata": {
        "id": "RRLkE_LEnmta"
      },
      "source": [
        "## Extraction & Preprocessing"
      ]
    },
    {
      "cell_type": "code",
      "execution_count": null,
      "metadata": {
        "colab": {
          "base_uri": "https://localhost:8080/"
        },
        "id": "5023jtank4Ye",
        "outputId": "9a5bc099-7849-422f-c27d-796e750aff6e"
      },
      "outputs": [
        {
          "output_type": "stream",
          "name": "stdout",
          "text": [
            "Mounted at /content/drive\n"
          ]
        }
      ],
      "source": [
        "# run this if on Google colab\n",
        "# upload your folder to your google drive\n",
        "from google.colab import drive\n",
        "drive.mount('/content/drive')\n",
        "#import os\n",
        "#os.chdir(\"drive/My Drive/CA CE\")"
      ]
    },
    {
      "cell_type": "code",
      "execution_count": null,
      "metadata": {
        "id": "QfK7Q5wNk8x_"
      },
      "outputs": [],
      "source": [
        "# make sure this notebook is in the same folder as the file\n",
        "stage_df_1 = pd.read_excel(\"/content/drive/My Drive/Lung NEW.xlsx\", sheet_name = 0)\n",
        "stage_df_2 = pd.read_excel(\"/content/drive/My Drive/Lung NEW.xlsx\", sheet_name = 1)\n",
        "# rename case id to merge\n",
        "stage_df_2.rename(columns = {\"case_submitter_id\": \"Case ID\"}, inplace = True)\n",
        "# merge the df based on case id\n",
        "stage_df = pd.merge(stage_df_1[[\"File ID\", \"File Name\", \"Case ID\"]],\n",
        "                    stage_df_2[[\"Case ID\", \"ajcc_pathologic_stage\"]],\n",
        "                    on = \"Case ID\")"
      ]
    },
    {
      "cell_type": "code",
      "execution_count": null,
      "metadata": {
        "id": "resZOfmPlAP2"
      },
      "outputs": [],
      "source": [
        "# update stage names\n",
        "for i in range(stage_df.shape[0]):\n",
        "    if not stage_df.loc[i, \"ajcc_pathologic_stage\"] == \"Stage IV\":\n",
        "        if stage_df.loc[i, \"ajcc_pathologic_stage\"][:-1] == \"Stage I\":\n",
        "            stage_df.loc[i, \"ajcc_pathologic_stage\"] = \"Stage I\"\n",
        "        if stage_df.loc[i, \"ajcc_pathologic_stage\"][:-1] == \"Stage II\":\n",
        "            stage_df.loc[i, \"ajcc_pathologic_stage\"] = \"Stage II\"\n",
        "        if stage_df.loc[i, \"ajcc_pathologic_stage\"][:-1] == \"Stage III\":\n",
        "            stage_df.loc[i, \"ajcc_pathologic_stage\"] = \"Stage III\""
      ]
    },
    {
      "cell_type": "code",
      "execution_count": null,
      "metadata": {
        "id": "fGjFsjZHlCIt",
        "colab": {
          "base_uri": "https://localhost:8080/"
        },
        "outputId": "ddfd85b3-ef80-404a-8627-42d16c54f677"
      },
      "outputs": [
        {
          "output_type": "execute_result",
          "data": {
            "text/plain": [
              "(992, 19963)"
            ]
          },
          "metadata": {},
          "execution_count": 6
        }
      ],
      "source": [
        "# extract the data from each folder\n",
        "dfs = [\n",
        "    pd.read_csv(f\"/content/drive/My Drive/CA CE/{file_id}/{file_name}\", sep=\"\\t\",\n",
        "                header=1\n",
        "    ).iloc[4:][[\"gene_name\", \"tpm_unstranded\", \"fpkm_unstranded\", \"fpkm_uq_unstranded\",\n",
        "                \"gene_type\"]]\n",
        "     .query('gene_type == \"protein_coding\"')  # Filter for protein_coding gene_type\n",
        "     [['gene_name', 'fpkm_unstranded']].set_index('gene_name').T.rename_axis(index=None)\n",
        "     .reset_index(drop=True)\n",
        "     .assign(ajcc_pathologic_stage = stage)\n",
        "    for file_id, file_name, stage in stage_df[[\"File ID\", \"File Name\", \"ajcc_pathologic_stage\"]].values\n",
        "]\n",
        "df = pd.concat(dfs)\n",
        "df.shape"
      ]
    },
    {
      "cell_type": "code",
      "execution_count": null,
      "metadata": {
        "id": "NEX-hjeAlFAT",
        "colab": {
          "base_uri": "https://localhost:8080/"
        },
        "outputId": "8895e751-829a-4666-d309-14c40f1cfe09"
      },
      "outputs": [
        {
          "output_type": "execute_result",
          "data": {
            "text/plain": [
              "(992, 19514)"
            ]
          },
          "metadata": {},
          "execution_count": 7
        }
      ],
      "source": [
        "# drop columns with all 0 values\n",
        "df = df.drop(columns=df.columns[(df == 0).all()])\n",
        "df.shape"
      ]
    },
    {
      "cell_type": "code",
      "execution_count": null,
      "metadata": {
        "id": "SlKBzmPXlaTk",
        "colab": {
          "base_uri": "https://localhost:8080/"
        },
        "outputId": "5800221c-8695-4cee-a5b2-e0f7b86cd561"
      },
      "outputs": [
        {
          "output_type": "execute_result",
          "data": {
            "text/plain": [
              "(980, 19514)"
            ]
          },
          "metadata": {},
          "execution_count": 8
        }
      ],
      "source": [
        "# drop missing y\n",
        "mask = (df[[\"ajcc_pathologic_stage\"]] == \"'--\").all(axis=1)\n",
        "df = df[~mask]\n",
        "df.reset_index(inplace=True, drop=True)\n",
        "df.shape"
      ]
    },
    {
      "cell_type": "code",
      "execution_count": null,
      "metadata": {
        "colab": {
          "base_uri": "https://localhost:8080/"
        },
        "id": "t20XLQzb0kCE",
        "outputId": "944d345a-8234-4661-e2d6-6891c873e8d1"
      },
      "outputs": [
        {
          "output_type": "stream",
          "name": "stderr",
          "text": [
            "/usr/local/lib/python3.10/dist-packages/scipy/stats/_morestats.py:1879: UserWarning: Input data for shapiro has range zero. The results may not be accurate.\n",
            "  warnings.warn(\"Input data for shapiro has range zero. The results \"\n"
          ]
        },
        {
          "output_type": "stream",
          "name": "stdout",
          "text": [
            "1\n"
          ]
        }
      ],
      "source": [
        "# test if normal is a good approximation\n",
        "numerical_columns = df.drop(columns=['ajcc_pathologic_stage']).columns\n",
        "count = 0\n",
        "for column in numerical_columns:\n",
        "    stat, p_value = stats.shapiro(df[column])\n",
        "    alpha = 0.05\n",
        "    if p_value > alpha:\n",
        "        count += 1\n",
        "# count how many columns are not normal\n",
        "print(count)"
      ]
    },
    {
      "cell_type": "code",
      "execution_count": null,
      "metadata": {
        "id": "50lB9uEe3uqE",
        "colab": {
          "base_uri": "https://localhost:8080/"
        },
        "outputId": "39041ea2-a671-4deb-fc72-6089e4ae8377"
      },
      "outputs": [
        {
          "output_type": "execute_result",
          "data": {
            "text/plain": [
              "(980, 19509)"
            ]
          },
          "metadata": {},
          "execution_count": 9
        }
      ],
      "source": [
        "# eliminate duplications\n",
        "duplicated_columns = df.columns[df.columns.duplicated()].unique()\n",
        "df = df.loc[:, ~df.columns.duplicated()]\n",
        "df.shape"
      ]
    },
    {
      "cell_type": "code",
      "execution_count": null,
      "metadata": {
        "id": "MD7_SHh9lyE6"
      },
      "outputs": [],
      "source": [
        "# impute outliers\n",
        "def impute_outliers(column):\n",
        "    '''\n",
        "    Detect outliers and impute those > Q3 + 1.5 * IQR with Q3 + 1.5 * IQR and\n",
        "    those < Q1 - 1.5 * IQR with Q1 - 1.5 * IQR for a column in the data frame.\n",
        "    '''\n",
        "    Q1 = column.quantile(0.25)\n",
        "    Q3 = column.quantile(0.75)\n",
        "    IQR = Q3 - Q1\n",
        "    lower_bound = Q1 - 1.5 * IQR\n",
        "    upper_bound = Q3 + 1.5 * IQR\n",
        "    column = column.apply(lambda x: lower_bound if x < lower_bound\n",
        "                          else (upper_bound if x > upper_bound else x))\n",
        "    return column\n",
        "\n",
        "for col in df.columns[:-1]:\n",
        "    df[col] = impute_outliers(df[col])"
      ]
    },
    {
      "cell_type": "code",
      "execution_count": null,
      "metadata": {
        "id": "Ik9DDBVT7Km6",
        "colab": {
          "base_uri": "https://localhost:8080/"
        },
        "outputId": "3e0322b9-db33-42ef-b3a6-d63fbb62942b"
      },
      "outputs": [
        {
          "output_type": "stream",
          "name": "stdout",
          "text": [
            "Constant columns: ['LGALS14', 'SPO11', 'WNT8A', 'MS4A12', 'PRLH', 'NOX3', 'FGF4', 'CFHR2', 'SLC13A1', 'DEFB127', 'SI', 'SLC17A6', 'MLN', 'AMELY', 'DDT', 'CST9L', 'SPINT3', 'F9', 'PPP1R2C', 'OPN1LW', 'MT4', 'GML', 'LGALS13', 'ZNRF4', 'CABP5', 'WDR83OS', 'NPVF', 'SPAM1', 'PAX4', 'NOBOX', 'PTGES3L-AARSD1', 'SMR3A', 'APOA4', 'APOC3', 'SCGB2A2', 'MYF5', 'FGF6', 'GYS2', 'SLC17A2', 'OR12D3', 'CDH9', 'GCG', 'NEU2', 'SMYD1', 'NPHS2', 'PRAMEF1', 'PRAMEF12', 'ZP4', 'CRYGD', 'TNP1', 'SPACA1', 'ZC2HC1B', 'CRHR1', 'IFNA6', 'IFNA8', 'MAGEB4', 'LYZL1', 'PRAMEF2', 'TAS2R8', 'TAS2R7', 'TAS2R9', 'GJA8', 'TBX22', 'MYOG', 'PRM2', 'ACTRT1', 'CCDC70', 'NEUROD4', 'SERPINA7', 'ESX1', 'ATXN3L', 'MC3R', 'SEMG2', 'ANKRD60', 'PSG8', 'CRISP1', 'TRIM51', 'AMELX', 'NPBWR2', 'BHLHE23', 'TGM3', 'GFRA4', 'DEFB129', 'C20orf173', 'GPR42', 'CSN1S1', 'HTN1', 'OR7A10', 'OR7C2', 'OR1E2', 'RFPL1', 'TAS2R16', 'VCY1B', 'VCY', 'CDY2B', 'GDF1', 'BMP15', 'OR11H1', 'HBZ', 'BPIFA3', 'DEFB118', 'CDX4', 'RHOXF2', 'FSHB', 'USP29', 'FTHL17', 'SCP2D1', 'APCS', 'ADAM30', 'OCM2', 'CSN2', 'GJA10', 'LACRT', 'TAAR5', 'MMD2', 'GH2', 'CSH1', 'CFC1', 'OR13C9', 'OR1L4', 'IFNA21', 'SULT6B1', 'GUCA1C', 'GOLGA6D', 'CELF6', 'LMAN1L', 'CTRL', 'KIF2B', 'ZIM3', 'AC008764.1', 'DNMT3L', 'GPR32', 'PTH2', 'CELA3A', 'DMRTB1', 'REG3G', 'TRIM43B', 'TRIM43', 'NICN1', 'CABS1', 'IL9', 'GABRA6', 'SLC17A4', 'H2BC1', 'GPR6', 'TAAR2', 'TAAR6', 'TAAR8', 'FERD3L', 'CNPY1', 'AKAP4', 'GPR119', 'PRDM14', 'PSKH2', 'IFNA5', 'IFNA16', 'OR13C4', 'OR5C1', 'LCN9', 'LRIT1', 'NKX6-2', 'OR5F1', 'OOSP2', 'TRIM48', 'OR8K1', 'KLHL1', 'LYZL2', 'ATP6V1G3', 'POU4F2', 'CFC1B', 'RIT2', 'PTH', 'OR14K1', 'FEZF2', 'SPACA7', 'GOLGA8F', 'TGIF2LX', 'ASB17', 'PPP1R3A', 'OR4K1', 'CYLC2', 'TRIM42', 'PRG3', 'KLHL40', 'CDCP2', 'HTR5A', 'PRAC1', 'GJD2', 'LCE2B', 'CRYAA', 'CYP11B1', 'CCDC105', 'DCD', 'OR7G1', 'RNASEK-C17orf49', 'LRRC53', 'OR2M5', 'FAM71A', 'PDHA2', 'CRYGC', 'ALPI', 'CLRN1', 'OTOP1', 'ADAD1', 'TMEM174', 'CARTPT', 'IL3', 'SPATA48', 'H2AC1', 'NEUROD6', 'TEX47', 'DEFA5', 'DEFA6', 'UNCX', 'SPAG11B', 'SLC7A13', 'PRKACG', 'OR1K1', 'SSX5', 'SSX3', 'UCMA', 'OR4K2', 'C16orf78', 'CCDC182', 'POTED', 'OR10A5', 'OR2D2', 'OR4D6', 'MS4A5', 'SUN5', 'BPIFB6', 'TBC1D21', 'GOLGA6C', 'MMP26', 'OR51I1', 'OR51Q1', 'LALBA', 'CABP2', 'OR8J3', 'OR5I1', 'OR2B2', 'PTF1A', 'SCGB1D1', 'MYL1', 'CRYGA', 'TSPY2', 'TRIM49', 'GOT1L1', 'OR10G3', 'OR6F1', 'PDILT', 'UMOD', 'ELSPBP1', 'OR4K14', 'OR4K15', 'VPREB1', 'MT1B', 'ACTRT2', 'TAS2R1', 'PRY', 'RBMY1F', 'PRY2', 'GSX1', 'HSFY2', 'GYPA', 'MRGPRX1', 'HSPB2', 'OR9K2', 'FAM71B', 'TPD52L3', 'OR10A4', 'OR7G3', 'MBD3L1', 'OR8B12', 'DDI1', 'OR4D5', 'PATE1', 'OR2M4', 'MUC7', 'OPRPN', 'SMR3B', 'CSN3', 'KRTAP4-4', 'XAGE5', 'OR1L6', 'SPACA5B', 'OR1L3', 'SPACA5', 'OR1N2', 'OR1N1', 'NXNL1', 'OR10H3', 'OR10H2', 'OR52A5', 'REG3A', 'REG1B', 'OR1A1', 'OR1A2', 'OR8I2', 'LCE1D', 'OR4C11', 'OR8U1', 'OR4X2', 'CDY1', 'OR10V1', 'OR5A1', 'OR5A2', 'OR5B12', 'OR5B2', 'OR9I1', 'OR9G4', 'OR5AR1', 'OR5AP2', 'HSFY1', 'OR8J1', 'OR5T3', 'FNDC9', 'MOS', 'OR4D9', 'OR5B3', 'OR10W1', 'OR10K1', 'GPR148', 'IQCF1', 'RNASE8', 'RNASE11', 'NLRP13', 'HES3', 'OR1L1', 'SPATA3', 'TOPAZ1', 'AC013489.1', 'KRT28', 'RAX2', 'OR2Y1', 'OR9G1', 'OR5M3', 'OR5J2', 'OR10AG1', 'OR4S2', 'OR2T1', 'PROP1', 'OR10P1', 'UBQLN3', 'PNLIP', 'OR4B1', 'PRM1', 'RBMXL3', 'CBLL2', 'AMIGO3', 'OR4D11', 'OR4K17', 'OR10H4', 'OR51B6', 'OR4L1', 'OR4K13', 'HMGB4', 'OR4F21', 'OR4K5', 'OR4N2', 'OR4M1', 'OR5AN1', 'OR4C5', 'OR4C3', 'OR4S1', 'OR4X1', 'TGIF2LY', 'OR4F17', 'OR51V1', 'MAGEB18', 'DEFB104A', 'OR52E2', 'DEFB103A', 'OR51L1', 'OR51G2', 'OR51A7', 'OR51T1', 'OR51S1', 'OR51F2', 'TRIM60', 'DEFB104B', 'CETN1', 'NUDT4B', 'OR2T35', 'OR14C36', 'OR2M7', 'OR2T12', 'OR2T33', 'DEFB103B', 'DEFB4B', 'OR2AJ1', 'OR2T8', 'OLIG3', 'OR2G3', 'OR2G2', 'DEFB114', 'MAGEB10', 'OR4F4', 'PRM3', 'TNP2', 'SPAG11A', 'OR2D3', 'HTR1A', 'OR6B3', 'DEFB125', 'H1-8', 'TPRX1', 'OR13D1', 'CYP11B2', 'SIGLECL1', 'DNAJB8', 'HNRNPCL4', 'OR9A2', 'GPHB5', 'OR2AP1', 'OR6C4', 'NLRP8', 'SYCN', 'MRGPRX4', 'OR10A7', 'GOLGA8J', 'OR1E1', 'OR1R1P', 'NKX2-6', 'WFDC9', 'FAM71C', 'GPR139', 'KRTAP9-7', 'DEFB123', 'OR6K6', 'OR10Q1', 'DEFB119', 'OR10K2', 'DEFB112', 'OR52E4', 'OR52N1', 'OR52N5', 'OR5AK2', 'OR5M8', 'OR8D4', 'EDDM3B', 'OR52H1', 'OR8H1', 'OR5T1', 'OR5T2', 'OR2Z1', 'OR8K5', 'OR8H3', 'OR8H2', 'OR5AS1', 'ACTL9', 'OR6S1', 'FTMT', 'OR4P4', 'OR4C15', 'OR4A15', 'OR4A16', 'OR52K2', 'NEUROG1', 'ADIG', 'TRIM49B', 'OR6B2', 'MRGPRG', 'CRYGB', 'TMIGD1', 'MBD3L3', 'PRAMEF8', 'OR5P3', 'DAOA', 'ZNF804B', 'CDY2A', 'OTOL1', 'KCNK4', 'CLEC4G', 'KRTAP11-1', 'OR10G7', 'CCDC172', 'OR4Q3', 'RESP18', 'OR2T29', 'KRTAP13-2', 'OR4F15', 'AC135068.1', 'OR1G1', 'CYLC1', 'ANKRD20A2P', 'POTEC', 'OR52E8', 'OR5P2', 'FAM9A', 'OR2T34', 'PMCH', 'URAD', 'C10orf120', 'TP53TG3', 'KRTAP8-1', 'BPY2', 'CNGA2', 'OR2T10', 'KRTAP20-2', 'CTAG1B', 'OR4F6', 'OR10J5', 'OR1D2', 'DEFB108B', 'IQCF2', 'PABPC1L2B', 'OR4N5', 'DHRS7C', 'KRTAP6-1', 'PRR23B', 'AQP12A', 'AQP12B', 'ZNF479', 'TEX33', 'SPPL2C', 'OR2V1', 'FAM47A', 'SPATA31A6', 'OR6C76', 'BPY2C', 'OR4C46', 'KRTAP5-5', 'DEFB128', 'HTR3D', 'OR4F5', 'OR5D14', 'OR5D18', 'PRR30', 'DEFB131A', 'BPIFB3', 'PABPC1L2A', 'OR10T2', 'MINAR2', 'KRT26', 'OR6P1', 'DEFB132', 'OR9Q1', 'OR9Q2', 'DEFB105A', 'DEFB107A', 'DEFB106A', 'DEFB105B', 'SPATA31D3', 'KCNK18', 'IFNA10', 'LCE1A', 'KRTAP17-1', 'OR13F1', 'OR5D3P', 'KRTAP22-1', 'KRTAP19-6', 'KRTAP6-2', 'OR13C8', 'KRTAP19-2', 'KRTAP19-4', 'KRTAP15-1', 'KRTAP13-4', 'KRTAP19-5', 'KRTAP23-1', 'ACTL7A', 'KRTAP21-1', 'KRTAP21-2', 'OR2AK2', 'DEFB106B', 'VSTM2B', 'LCE4A', 'LCE2A', 'KRTAP12-1', 'LCE2C', 'DAZ3', 'LCE2D', 'LCE3B', 'KRTAP9-8', 'H2AP', 'PRR27', 'PRAMEF10', 'OR5W2', 'HAPLN4', 'OR2T27', 'AMY1C', 'OR52B6', 'SSX7', 'KRTAP10-8', 'TMEM202', 'RTL4', 'C2orf78', 'OR6C75', 'GFRAL', 'OR51I2', 'ZCCHC13', 'NRN1L', 'SCGB1C1', 'FAM25A', 'DAZ1', 'KRTAP10-6', 'OR6C6', 'BSPH1', 'OR6N2', 'IFNA2', 'MAGEB5', 'NANOS2', 'OR2G6', 'KRTAP1-1', 'RNASE9', 'KRTAP24-1', 'PLA2G2E', 'BSX', 'AADACL3', 'MAGEB16', 'DUSP21', 'GAGE2A', 'FAM25G', 'FAM47B', 'FSCB', 'KRTAP10-12', 'SPANXN3', 'TRIM64B', 'FOXR2', 'SPANXN4', 'SPATA31D4', 'TBC1D28', 'OTUD6A', 'OR5K4', 'OR6M1', 'OR8A1', 'VN1R2', 'KRTAP4-3', 'OR6K2', 'OR10J1', 'KRTAP5-3', 'SULT1C3', 'OR2T2', 'OR10S1', 'ZNF729', 'SPANXD', 'NOXO1', 'GK2', 'OR2T3', 'HBG2', 'PFN3', 'OR5AC2', 'MBD3L2B', 'POU3F4', 'OR14A16', 'OR11G2', 'OR2T4', 'ZNF679', 'OR8B8', 'OR10D3', 'S100A7L2', 'H3C4', 'OR51D1', 'OPALIN', 'OR13G1', 'OR2L5', 'GALP', 'OR6Y1', 'OR11L1', 'CCER1', 'SLC22A24', 'OR51C1P', 'KRTAP26-1', 'OR6C74', 'SCGB1D4', 'OR5B17', 'OR52M1', 'OR8G1', 'OR1S2', 'SLC22A12', 'SLC22A6', 'IFNA1', 'OR5H2', 'AL592490.1', 'SPANXA1', 'POTEH', 'KRTAP9-9', 'KRTAP4-6', 'OR2T6', 'OR2L3', 'DEFB107B', 'KRTAP4-5', 'OR5B21', 'TMEM239', 'KRTAP13-1', 'TMEM207', 'CCT8L2', 'SPANXC', 'OR2M2', 'OR10G6', 'OR5BS1P', 'GPX6', 'MAGEB3', 'LRRC10', 'OR10R2', 'OR10Z1', 'OR2T5', 'GJE1', 'LELP1', 'FAM24A', 'DPPA5', 'SPANXN1', 'SPANXA2', 'CXorf66', 'DEFB110', 'RHOXF2B', 'C1orf185', 'GLT6D1', 'OR13C3', 'PAGE3', 'TMEM225', 'SPANXN5', 'CSHL1', 'AL662899.1', 'TRIM49C', 'TRIM64', 'PRAMEF20', 'PRAMEF17', 'PRAMEF19', 'PRAMEF14', 'PRAMEF15', 'PRAMEF9', 'PRAMEF7', 'MCCD1', 'AADACL4', 'DEFB121', 'KRTAP5-11', 'DPRX', 'FOXB2', 'NMS', 'C9orf57', 'IL31', 'OR2H1', 'OR11A1', 'OR14J1', 'OR2J2', 'OR2J1', 'OR2B3', 'OR2W1', 'MRPL53', 'SPATA31A1', 'KRTAP9-3', 'KRTAP4-8', 'KRTAP1-4', 'KRT25', 'PCDHA1', 'MS4A13', 'OR5D16', 'OR5L2', 'AC105052.1', 'SAP25', 'OR6C68', 'OR6C65', 'OR6C3', 'OR6C1', 'OR52E6', 'KRTAP12-3', 'IZUMO3', 'OR52J3', 'OR51A2', 'OR51A4', 'HTN3', 'TECRL', 'MBD3L4', 'GAGE1', 'NANOGNB', 'LRRC72', 'KRTAP5-2', 'DEFB134', 'DEFB135', 'DEFB136', 'BHLHA9', 'DAZ4', 'DAZ2', 'SMIM21', 'DEFA1', 'KRTAP19-8', 'KRTAP20-3', 'KRTAP20-4', 'KRTAP22-2', 'KRTAP27-1', 'HBM', 'PRR23A', 'LRRC30', 'OR10C1', 'OR5K3', 'TSSK1B', 'KRTAP9-6', 'KRTAP4-11', 'KRTAP4-9', 'KRTAP2-1', 'KRTAP3-3', 'KRTAP3-2', 'KRTAP12-4', 'KRTAP10-3', 'KRTAP6-3', 'KLK9', 'OR2F1', 'CSH2', 'TCL1B', 'TSGA13', 'KRTAP4-12', 'KRTAP2-4', 'SULT1A4', 'CEACAM18', 'LEUTX', 'HBE1', 'HBG1', 'IFNA7', 'MAGEB1', 'MINDY4B', 'NPS', 'C3orf56', 'TRIM77', 'GNAT3', 'AS3MT', 'KRTAP2-2', 'DEFB113', 'DEFB133', 'CDRT15L2', 'TRIM64C', 'SPATA31D1', 'NPIPA8', 'NPIPA7', 'GSG1L2', 'TCP11X2', 'CXorf49B', 'CXorf49', 'GRXCR1', 'ZNF705D', 'ZNF705B', 'ZNF705G', 'SCRT2', 'KRTAP10-4', 'KRTAP10-1', 'SKOR2', 'DEFB116', 'DEFB115', 'LACTBL1', 'GAGE12E', 'CELA3B', 'CATSPERZ', 'TRIM51GP', 'OR6B1', 'KRTAP10-9', 'OR4A5', 'TAS2R41', 'KRTAP10-10', 'KRTAP12-2', 'PSG7', 'KRTAP1-3', 'OR1C1', 'POM121L12', 'OR2F2', 'OR6X1', 'OR2A25', 'TAS2R40', 'OR4C12', 'OR4E2', 'OR2A2', 'OR52B4', 'FAM243A', 'TRIM49D1', 'USP17L15', 'CENPVL1', 'EBLN1', 'SUPT20HL2', 'ZNF735', 'RFPL4A', 'C1QTNF5', 'ETDB', 'CXorf51A', 'GPX5', 'GAGE12J', 'GAGE12H', 'PNMA6F', 'USP17L3', 'FAM236D', 'OR6V1', 'CT47A6', 'DCAF8L1', 'USP17L7', 'AC138647.1', 'RBMY1J', 'ANHX', 'RD3L', 'BOD1L2', 'IFNA14', 'OR2M3', 'VN1R4', 'CLDN25', 'CT45A5', 'TSPY3', 'PGA4', 'RFPL4AL1', 'TSPY8', 'PRAMEF25', 'PGA3', 'PRPS1L1', 'IQCF3', 'POTEB2', 'OR4F3', 'SSU72P8', 'OR5H6', 'MBD3L2', 'USP17L1', 'KRTAP21-3', 'OR5H1', 'USP17L10', 'MAGEB6B', 'TEX50', 'KRTAP25-1', 'OR5K1', 'PRAMEF6', 'DEFB130A', 'OR5H15', 'PRR23C', 'TRIM49D2', 'TSPY4', 'IFNA13', 'POTEB', 'CTXN2', 'C16orf82', 'PRR20E', 'RBMY1A1', 'OR10G8', 'IFNA17', 'NKX1-1', 'CXorf51B', 'LCE6A', 'PATE3', 'OR5H14', 'USP17L4', 'CT47A1', 'SLC35G4', 'TAS2R39', 'TSPY10', 'CT47B1', 'AL354761.1', 'IFNA4', 'C3orf84', 'OR10G9', 'USP17L8', 'TAAR9', 'MBD3L5', 'AL445989.1', 'OR4A47', 'OR7E24', 'TEX51', 'GAGE12C', 'PRAMEF33', 'TSPY9P', 'MEIKIN', 'PRAMEF11', 'KRTAP9-2', 'KRTAP13-3', 'KRTAP4-7', 'KRTAP10-5', 'OR14A2', 'ZNF722P', 'C3orf85', 'KRTAP4-16', 'SSX2', 'KRTAP9-4', 'MDFIC2', 'PSG2', 'RBMY1E', 'PRAMEF4', 'PSG11', 'PPAN-P2RY11', 'KRTAP10-11', 'AL365232.1', 'SMIM34A', 'OR5V1', 'KRTAP19-3', 'LCE3C', 'DNAJC25-GNG10', 'LY6G6D', 'KRTAP19-7', 'KRTAP4-2', 'KRTAP20-1', 'AC037459.1', 'TARM1', 'AC079594.1', 'AC004997.1', 'FOXL3', 'AL645941.2', 'EPPIN-WFDC6', 'TAF11L12', 'AP000311.1', 'AC069368.1', 'CLRN2', 'LINC02218', 'MTRNR2L5', 'LGALS16', 'ARPIN-AP3S2', 'ARPC4-TTLL3', 'AL669918.1', 'GIMD1', 'GYPB', 'LY6G6F-LY6G6D', 'P3R3URF', 'TAF11L14', 'PRODH2', 'EXOC1L', 'USP17L18', 'USP17L23', 'AC002456.2', 'DCANP1', 'PRB1', 'OC90', 'RGS21', 'PYDC2', 'OR4D10', 'INS', 'OR10G4', 'EEF1G', 'OR5M10', 'INMT-MINDY4', 'UBTFL1', 'OR5M1', 'PRR23D1', 'OR52B2', 'CCDC179', 'PRR23D2', 'OOSP4B', 'AC068775.1', 'OR4D2', 'AC011462.1', 'KDM4F', 'AL138752.2', 'LIMS4', 'STH', 'MTRNR2L7', 'LIMS3', 'AC022335.1', 'OR11H12', 'AC112229.3', 'AC008770.1', 'SFTA3', 'PRSS58', 'AC100868.1', 'RNASE12', 'OR11H2', 'OR4C13', 'AC137834.1', 'AC008575.1', 'TSPY1', 'AL163195.3', 'NDUFC2-KCTD14', 'AC007375.2', 'GH1', 'TGIF2-RAB5IF', 'BLID', 'AC009163.3', 'AC090527.2', 'AC020636.2', 'PMF1-BGLAP', 'AC093525.2', 'TBC1D3G', 'DUX4', 'TLE7', 'AL049634.2', 'AC140504.1', 'AC091167.2', 'LY6L', 'AC026954.2', 'SPDYE9', 'SMIM28', 'OR1D5', 'TMEM238L', 'AC129492.3', 'LINC02210-CRHR1', 'GDF2', 'AC113554.1', 'AC134669.1', 'AC074143.1', 'AC004805.1', 'AC015813.2', 'AC005697.1', 'AC011511.4', 'AC104532.1', 'UPK3BL1', 'APOC4', 'AC093227.2', 'AC093155.3', 'AC004223.3', 'CGB1', 'AC105052.3', 'AC020922.1', 'AC024592.3', 'AC008878.1', 'SSX4', 'AC007192.1', 'OPN1MW', 'TCP11X1', 'SCGB1C2', 'AC008763.2', 'SSX2B', 'AC018755.2', 'TEX13A', 'CTAG1A', 'ZNF723', 'AC008764.4', 'H3Y2', 'AC008758.5', 'SPANXN2', 'FAM236B', 'CT45A3', 'AC008750.7', 'NXF2', 'NXF2B', 'H3Y1', 'DMRTC1', 'AC011455.2', 'SSX4B', 'MICOS10-NBL1', 'BIVM-ERCC5', 'MTRNR2L13', 'PRAMEF5', 'RPS10-NUDT3', 'CT45A9', 'UGT2A2', 'PPIAL4E', 'AC233992.2', 'AC114490.2', 'AL603832.3', 'KRTAP10-7', 'AC073610.2', 'AC022400.5', 'AC005832.4', 'LYPD4', 'AL359736.1', 'AC073283.3', 'TM4SF19-TCTEX1D2', 'AC017083.3', 'TBC1D3K', 'SPDYE8', 'CT45A7', 'GOLGA6L1', 'OR4M2', 'H2AB1', 'TBC1D3H', 'GAGE13', 'TPTE', 'SEBOX', 'CU639417.1', 'TBC1D3', 'H4C6', 'KRTAP7-1', 'PRAMEF27', 'F8A2', 'TBC1D3I', 'GAGE2E', 'AC117457.1', 'FAM236A', 'ELOA3C', 'H4C7', 'CCL15-CCL14', 'LYZL6', 'AC091959.1', 'SPATA31A3', 'SPATA31A7', 'CRYAA2', 'OR13C2', 'ANKRD20A3P', 'FAM25C', 'SPATA31A5', 'HNRNPCL3', 'FAM243B', 'GOLGA6L6', 'AL772284.1', 'OR13C5', 'H2AB3', 'H2AB2', 'OR52E5', 'TEX28', 'CT45A6', 'TBC1D3C', 'POTEB3', 'AC236972.4', 'OR51G1', 'OR2S2', 'SMIM34B', 'OR51B2', 'OR6Q1', 'OR10X1', 'OR8D2', 'PRAMEF13', 'OR2L8', 'OR52R1', 'OR2T11', 'OR5L1', 'FP565260.4', 'OR4C16', 'OR5D13', 'PPIAL4F', 'PRAMEF18', 'AC073082.1', 'OR5R1', 'OR51F1', 'OR8B4', 'OR1B1', 'AL049844.3', 'OR1S1', 'OR12D2', 'PRAMEF26', 'OR8K3', 'AC006059.2', 'LINC02203', 'AL365214.2', 'AC034228.3', 'TMEM265', 'AL132671.2', 'CYP3A7-CYP3A51P', 'TMEM275', 'KLF18', 'CENPVL2', 'AC104452.1', 'AL353572.3', 'FAM240B', 'CCDC195', 'CSNKA2IP', 'FAM240A', 'AC020915.4', 'AC098484.3', 'FAM236C', 'AC008687.8', 'HSFX3', 'PMIS2', 'TAF11L13', 'AC007326.4', 'SSU72P4', 'AC104304.2', 'BX664615.2', 'TPTEP2-CSNK1E', 'SSU72P5', 'SSU72P2', 'AC013271.1', 'TAF11L10', 'TAF11L2', 'AC092111.3', 'SSU72P7', 'TAF11L3', 'SSU72P3', 'OR8B3', 'AC091167.7', 'SCYGR1', 'SCYGR8', 'SCYGR2', 'OR4F16', 'SCYGR5', 'OR8B2', 'AC108941.3', 'TMEM247', 'SCYGR3', 'SCYGR7', 'OR8S1', 'SCYGR6', 'AP002512.3', 'OR4F29', 'AC011330.3', 'AC132217.2', 'AC235565.2', 'GCSAML-AS1', 'AP000812.3', 'OOSP1', 'U52112.1', 'OOSP4A', 'SMIM40', 'AL662884.4', 'AC004593.2', 'AC026316.4', 'ZNF883', 'AC007846.2', 'AC134980.2', 'AL133500.1', 'AL445238.1', 'AC069444.2', 'FAM90A9P', 'AL031847.1', 'AC021660.3', 'AL358472.6', 'FAM90A22P', 'AC098588.2', 'AL031315.1', 'FAM90A23P', 'AC000120.2', 'FAM90A14P', 'AC024598.1', 'AC144573.1', 'AC008012.1', 'AL162596.1', 'FAM90A10P', 'AC113348.2', 'AC012213.5', 'SPDYE15', 'NOTCH2NLB', 'AL121899.2', 'SPDYE13', 'ASDURF', 'AC073585.1', 'FAM246A', 'SPDYE14', 'DERPC', 'FAM246B', 'AC069288.1', 'AP000471.1', 'SPDYE11', 'ARMCX5-GPRASP2', 'AL096814.2', 'AC106741.1', 'AL445524.2', 'SMIM42', 'AL355385.2', 'ELOA3B', 'ELOA3D', 'PDCD6-AHRR', 'ELOA3', 'AC008763.4']\n",
            "1320\n"
          ]
        }
      ],
      "source": [
        "# check for constant and drop\n",
        "X_df = df.drop(columns=['ajcc_pathologic_stage'])\n",
        "variances = X_df.var()\n",
        "constant_columns = constant_columns = [col for col in X_df.columns if np.all(X_df[col] == X_df[col].iloc[0])]\n",
        "df.drop(columns=constant_columns, inplace=True)\n",
        "df.reset_index(drop=True)\n",
        "print(\"Constant columns:\", constant_columns)\n",
        "print(len(constant_columns))"
      ]
    },
    {
      "cell_type": "code",
      "execution_count": null,
      "metadata": {
        "id": "TG5QbGsSl_3u"
      },
      "outputs": [],
      "source": [
        "X = df.drop(columns=['ajcc_pathologic_stage'])\n",
        "y = df['ajcc_pathologic_stage']"
      ]
    },
    {
      "cell_type": "code",
      "execution_count": null,
      "metadata": {
        "id": "Zl61PzIpmHZv"
      },
      "outputs": [],
      "source": [
        "# variance stablizing transformation (log scale)\n",
        "X = X.apply(np.log1p)"
      ]
    },
    {
      "cell_type": "code",
      "execution_count": null,
      "metadata": {
        "colab": {
          "base_uri": "https://localhost:8080/"
        },
        "id": "wqVs_Dv2ApDt",
        "outputId": "ae7e697b-6265-4919-8d36-a68d584128b9"
      },
      "outputs": [
        {
          "metadata": {
            "tags": null
          },
          "name": "stderr",
          "output_type": "stream",
          "text": [
            "/usr/local/lib/python3.10/dist-packages/statsmodels/stats/outliers_influence.py:198: RuntimeWarning: divide by zero encountered in double_scalars\n",
            "  vif = 1. / (1. - r_squared_i)\n"
          ]
        },
        {
          "output_type": "stream",
          "name": "stdout",
          "text": [
            "6506\n"
          ]
        }
      ],
      "source": [
        "# detect multicolinearity\n",
        "def calc_vif(X):\n",
        "    '''\n",
        "    Compute the variance inflation factor for every column in the input data\n",
        "    '''\n",
        "    # Calculating VIF\n",
        "    vif = pd.DataFrame()\n",
        "    vif[\"variables\"] = X.columns\n",
        "    vif[\"VIF\"] = [variance_inflation_factor(X.values, i) for i in range(X.shape[1])]\n",
        "    return(vif)\n",
        "\n",
        "vifs = calc_vif(X)\n",
        "high_vif_columns = vifs[vifs['VIF'] > 10]['variables']\n",
        "print(len(high_vif_columns))"
      ]
    },
    {
      "cell_type": "code",
      "execution_count": null,
      "metadata": {
        "id": "KVEksQO0AvT-"
      },
      "outputs": [],
      "source": [
        "X = X.drop(columns = high_vif_columns)\n",
        "X.shape"
      ]
    },
    {
      "cell_type": "code",
      "execution_count": null,
      "metadata": {
        "id": "nC32fcLGmdv5"
      },
      "outputs": [],
      "source": [
        "# correct the labels\n",
        "y = y.replace('ajcc_pathologic_stage_Stage I', 'Stage I')\n",
        "y = y.replace('ajcc_pathologic_stage_Stage II', 'Stage II')\n",
        "y = y.replace('ajcc_pathologic_stage_Stage III', 'Stage III')\n",
        "y = y.replace('ajcc_pathologic_stage_Stage IV', 'Stage IV')"
      ]
    },
    {
      "cell_type": "code",
      "execution_count": null,
      "metadata": {
        "id": "XuDXL7fzmtL9"
      },
      "outputs": [],
      "source": [
        "# combine the labels\n",
        "y = y.replace('Stage I', 'Stage I/II')\n",
        "y = y.replace('Stage II', 'Stage I/II')\n",
        "y = y.replace('Stage III', 'Stage III/IV')\n",
        "y = y.replace('Stage IV', 'Stage III/IV')"
      ]
    },
    {
      "cell_type": "code",
      "execution_count": null,
      "metadata": {
        "id": "-w9s24YFmjVh"
      },
      "outputs": [],
      "source": [
        "# encode y\n",
        "encoder = OrdinalEncoder()\n",
        "y = y.values.reshape(-1, 1)\n",
        "y_encoded = encoder.fit_transform(y)"
      ]
    },
    {
      "cell_type": "code",
      "execution_count": null,
      "metadata": {
        "id": "LrvIW8FgnbzT",
        "colab": {
          "base_uri": "https://localhost:8080/"
        },
        "outputId": "fb176b9c-8823-4c7b-c26c-e461021e5e5f"
      },
      "outputs": [
        {
          "output_type": "stream",
          "name": "stdout",
          "text": [
            "Category 'Stage I/II' is mapped to 0\n",
            "Category 'Stage III/IV' is mapped to 1\n"
          ]
        }
      ],
      "source": [
        "# note what stage is mapped to what index\n",
        "categories = encoder.categories_[0]\n",
        "for index, category in enumerate(categories):\n",
        "    print(f\"Category '{category}' is mapped to {index}\")"
      ]
    },
    {
      "cell_type": "code",
      "source": [
        "y_1 = y_encoded.flatten()"
      ],
      "metadata": {
        "id": "N9ZCU9Mh-R9g"
      },
      "execution_count": null,
      "outputs": []
    },
    {
      "cell_type": "code",
      "source": [
        "# split training and testing set\n",
        "X_train, X_test, y_train, y_test = train_test_split(X, y_1, shuffle=True,\n",
        "                                                    test_size=0.1, random_state=42,\n",
        "                                                    stratify=y)"
      ],
      "metadata": {
        "id": "6S-P6CpOVRxk"
      },
      "execution_count": null,
      "outputs": []
    },
    {
      "cell_type": "code",
      "source": [
        "X_train.shape"
      ],
      "metadata": {
        "id": "gU5HHiWq5TCq",
        "colab": {
          "base_uri": "https://localhost:8080/"
        },
        "outputId": "f0f8836d-6d8d-475e-b442-6512c49e79fc"
      },
      "execution_count": null,
      "outputs": [
        {
          "output_type": "execute_result",
          "data": {
            "text/plain": [
              "(882, 18188)"
            ]
          },
          "metadata": {},
          "execution_count": 20
        }
      ]
    },
    {
      "cell_type": "code",
      "source": [
        "# feature selection via p-value\n",
        "train_df = X_train.copy()\n",
        "train_df['ajcc_pathologic_stage'] = y_train\n",
        "significant_columns = []\n",
        "for column in train_df.columns:\n",
        "    if column != 'ajcc_pathologic_stage':\n",
        "        data_stage_12 = train_df[train_df['ajcc_pathologic_stage'] == 0][column]\n",
        "        data_stage_34 = train_df[train_df['ajcc_pathologic_stage'] == 1][column]\n",
        "        fvalue, pvalue = stats.f_oneway(data_stage_12, data_stage_34)\n",
        "        if pvalue < 0.05:\n",
        "            significant_columns.append(column)\n",
        "X_train = X_train[significant_columns]\n",
        "X_test = X_test[significant_columns]"
      ],
      "metadata": {
        "id": "dbRfMrtapeNY"
      },
      "execution_count": null,
      "outputs": []
    },
    {
      "cell_type": "code",
      "source": [
        "X_train.shape"
      ],
      "metadata": {
        "colab": {
          "base_uri": "https://localhost:8080/"
        },
        "id": "Dlfl4kFB9NH3",
        "outputId": "0181fd0e-9703-4f1f-c029-aecf7b1da56f"
      },
      "execution_count": null,
      "outputs": [
        {
          "output_type": "execute_result",
          "data": {
            "text/plain": [
              "(882, 3588)"
            ]
          },
          "metadata": {},
          "execution_count": 36
        }
      ]
    },
    {
      "cell_type": "code",
      "source": [
        "# standardize the data\n",
        "feature_names = X_train.columns\n",
        "scaler = StandardScaler()\n",
        "X_train = pd.DataFrame(scaler.fit_transform(X_train), columns = feature_names)\n",
        "X_test = scaler.transform(X_test)"
      ],
      "metadata": {
        "id": "BqBuwT9IGe9y"
      },
      "execution_count": null,
      "outputs": []
    },
    {
      "cell_type": "code",
      "execution_count": null,
      "metadata": {
        "id": "vnJbTqF4neLH",
        "colab": {
          "base_uri": "https://localhost:8080/"
        },
        "outputId": "8cbc8ca9-9658-4300-d578-02cae1d3dc00"
      },
      "outputs": [
        {
          "output_type": "stream",
          "name": "stdout",
          "text": [
            "Before Counter({0.0: 789, 1.0: 191})\n",
            "After Counter({0.0: 710, 1.0: 687})\n"
          ]
        }
      ],
      "source": [
        "# oversample the data\n",
        "counter = Counter(y_encoded.ravel())\n",
        "print('Before', counter)\n",
        "ada = ADASYN(sampling_strategy='all', random_state=130)\n",
        "X_train, y_train = ada.fit_resample(X_train, y_train)\n",
        "counter = Counter(y_train.ravel())\n",
        "print('After', counter)"
      ]
    },
    {
      "cell_type": "markdown",
      "metadata": {
        "id": "p3ATJXeEkv4L"
      },
      "source": [
        "## Model Training"
      ]
    },
    {
      "cell_type": "code",
      "execution_count": null,
      "metadata": {
        "id": "5dYGAVMpnvxy",
        "colab": {
          "base_uri": "https://localhost:8080/"
        },
        "outputId": "a9c02e09-63c0-4532-bbb0-c3c169193b9d"
      },
      "outputs": [
        {
          "output_type": "stream",
          "name": "stderr",
          "text": [
            "/usr/local/lib/python3.10/dist-packages/sklearn/model_selection/_search.py:305: UserWarning: The total space of parameters 7 is smaller than n_iter=10. Running 7 iterations. For exhaustive searches, use GridSearchCV.\n",
            "  warnings.warn(\n"
          ]
        },
        {
          "output_type": "stream",
          "name": "stdout",
          "text": [
            "Best Params {'C': 1}\n"
          ]
        }
      ],
      "source": [
        "# hyperparameter tuning for LASSO\n",
        "params = {\"C\": [0.01, 0.1, 1, 5, 10, 50, 100]}\n",
        "kf = KFold(n_splits=10, shuffle=True, random_state=42)\n",
        "lasso = LogisticRegression(penalty = \"l1\", solver = 'liblinear', max_iter=1000)\n",
        "lasso_cv = RandomizedSearchCV(lasso, params, cv=kf, scoring=\"accuracy\", n_jobs=-1)\n",
        "lasso_cv.fit(X_train, y_train)\n",
        "print(\"Best Params {}\".format(lasso_cv.best_params_))"
      ]
    },
    {
      "cell_type": "code",
      "execution_count": null,
      "metadata": {
        "id": "1_I53oyPoK05",
        "colab": {
          "base_uri": "https://localhost:8080/"
        },
        "outputId": "99b4a380-b77f-42d2-c6b8-ea23d20331f6"
      },
      "outputs": [
        {
          "output_type": "stream",
          "name": "stdout",
          "text": [
            "['HOXA11', 'MAMLD1', 'SERPINB3', 'TBC1D25', 'PYGM', 'DLL3', 'MAPK1', 'C5', 'SERP1', 'SNAI1', 'IGFLR1', 'AANAT', 'AOC2', 'SOX3', 'C6orf52', 'RBMS3', 'SPATA16', 'ATP5F1A', 'G6PC2', 'C12orf43', 'SLC30A8', 'RAB4B', 'ZNF778', 'MRGPRD', 'PPP1R14B', 'SLITRK1', 'ZFP42', 'MAB21L2', 'SYNM', 'SNN', 'AP3M1', 'LRCH3', 'GLDN', 'ADH4', 'SERPINE3', 'TAS2R43', 'SMIM11B', 'PKD1L3', 'MRPL45', 'TEX13C']\n"
          ]
        }
      ],
      "source": [
        "# feature selection with regularization (lasso)\n",
        "embeded_lr_selector = SelectFromModel(LogisticRegression(penalty = \"l1\",\n",
        "                                                         solver = 'liblinear',\n",
        "                                                         max_iter=1000,\n",
        "                                                         C = lasso_cv.best_params_['C']),\n",
        "                                      max_features = 40)\n",
        "embeded_lr_selector_2 = SelectFromModel(LogisticRegression(penalty = \"l1\",\n",
        "                                                          solver = 'liblinear',\n",
        "                                                          max_iter=1000,\n",
        "                                                          C = lasso_cv.best_params_['C']),\n",
        "                                      max_features = 100)\n",
        "embeded_lr_selector.fit(X_train, y_train)\n",
        "embeded_lr_support = embeded_lr_selector.get_support()\n",
        "embeded_lr_feature_names = [feature_names[i] for i, flag in enumerate(embeded_lr_support) if flag]\n",
        "print(embeded_lr_feature_names)"
      ]
    },
    {
      "cell_type": "code",
      "execution_count": null,
      "metadata": {
        "id": "LtPW5rbmpGBi"
      },
      "outputs": [],
      "source": [
        "# logistic regression\n",
        "# param_grid = {\n",
        "#     'classification__C': [0.01, 0.1, 1, 10, 50, 100],\n",
        "#     'classification__penalty': ['l2', None],\n",
        "#     'classification__solver': ['newton-cg', 'lbfgs', 'sag', 'saga'],\n",
        "#     'classification__max_iter': [200, 300, 500, 1000],\n",
        "# }\n",
        "# logreg = LogisticRegression()\n",
        "# pipeline_lr = Pipeline([\n",
        "#     ('feature_selection', embeded_lr_selector_2),\n",
        "#     ('classification', logreg)\n",
        "# ])\n",
        "# logreg_cv = GridSearchCV(pipeline_lr, param_grid, cv = kf, scoring=\"f1\")\n",
        "# logreg_cv.fit(X_train, y_train)\n",
        "# print(\"Tuned Logistic Regression Parameters: {}\".format(logreg_cv.best_params_))\n",
        "# print(\"Best score is {}\".format(logreg_cv.best_score_))"
      ]
    },
    {
      "cell_type": "code",
      "execution_count": null,
      "metadata": {
        "id": "TuFctjTWplt8",
        "colab": {
          "base_uri": "https://localhost:8080/"
        },
        "outputId": "869e4361-9a7a-46c0-b84e-e2cd01586035"
      },
      "outputs": [
        {
          "output_type": "stream",
          "name": "stdout",
          "text": [
            "Tuned Decision Tree Parameters: {'classification__min_samples_split': 5, 'classification__min_samples_leaf': 8, 'classification__max_features': 'sqrt', 'classification__max_depth': 20, 'classification__criterion': 'entropy', 'classification__class_weight': None}\n",
            "Best score is 0.7316495375128469\n"
          ]
        }
      ],
      "source": [
        "# decision tree\n",
        "param_grid = {\n",
        "    'classification__max_depth': [3, 5, 7, 10, 15, 20],\n",
        "    'classification__min_samples_split': [2, 5, 10, 20, 50],\n",
        "    'classification__min_samples_leaf': [2, 4, 6, 8],\n",
        "    'classification__criterion': ['gini', 'entropy'],\n",
        "    'classification__max_features': ['sqrt', 'log2'],\n",
        "    'classification__class_weight': ['balanced', None],\n",
        "}\n",
        "dtree = DecisionTreeClassifier(random_state=0, splitter='best')\n",
        "pipeline_dt = Pipeline([\n",
        "    ('feature_selection', embeded_lr_selector_2),\n",
        "    ('classification', dtree)\n",
        "])\n",
        "dtree_cv = RandomizedSearchCV(pipeline_dt, param_grid, cv = kf, scoring=\"accuracy\")\n",
        "dtree_cv.fit(X_train, y_train)\n",
        "print(\"Tuned Decision Tree Parameters: {}\".format(dtree_cv.best_params_))\n",
        "print(\"Best score is {}\".format(dtree_cv.best_score_))"
      ]
    },
    {
      "cell_type": "code",
      "execution_count": null,
      "metadata": {
        "id": "_yVjlZnXqEVE",
        "colab": {
          "base_uri": "https://localhost:8080/"
        },
        "outputId": "8b0c305f-77bd-4d6c-9293-18a39ed9eeb0"
      },
      "outputs": [
        {
          "output_type": "stream",
          "name": "stdout",
          "text": [
            "Tuned KNN Parameters: {'classification__weights': 'distance', 'classification__n_neighbors': 3, 'classification__metric': 'manhattan', 'classification__leaf_size': 40, 'classification__algorithm': 'kd_tree'}\n",
            "Best score is 0.6514594039054471\n"
          ]
        }
      ],
      "source": [
        "# nearest neighbor\n",
        "param_grid = {\n",
        "    'classification__n_neighbors': [3, 5, 7, 10, 15],\n",
        "    'classification__metric': ['euclidean', 'manhattan', 'minkowski'],\n",
        "    'classification__weights': ['uniform', 'distance'],\n",
        "    'classification__algorithm': ['auto', 'ball_tree', 'kd_tree', 'brute'],\n",
        "    'classification__leaf_size': [10, 20, 30, 40, 50],\n",
        "}\n",
        "knn = KNeighborsClassifier()\n",
        "pipeline_knn = Pipeline([\n",
        "    ('feature_selection', embeded_lr_selector_2),\n",
        "    ('classification', knn)\n",
        "])\n",
        "knn_cv = RandomizedSearchCV(pipeline_knn, param_grid, cv=kf, scoring=\"accuracy\")\n",
        "knn_cv.fit(X_train, y_train)\n",
        "print(\"Tuned KNN Parameters: {}\".format(knn_cv.best_params_))\n",
        "print(\"Best score is {}\".format(knn_cv.best_score_))"
      ]
    },
    {
      "cell_type": "code",
      "execution_count": 212,
      "metadata": {
        "id": "O5UfRfqVq2ru",
        "colab": {
          "base_uri": "https://localhost:8080/"
        },
        "outputId": "3e5086df-c38c-42dc-9d70-f86cae5ec927"
      },
      "outputs": [
        {
          "output_type": "stream",
          "name": "stdout",
          "text": [
            "Tuned Random Forest Parameters: {'classification__n_estimators': 100, 'classification__min_samples_split': 5, 'classification__min_samples_leaf': 2, 'classification__max_features': 'sqrt', 'classification__max_depth': 10, 'classification__criterion': 'entropy', 'classification__class_weight': 'balanced', 'classification__bootstrap': True}\n",
            "Best score is 0.9097687564234327\n"
          ]
        }
      ],
      "source": [
        "# random forest\n",
        "param_grid = {\n",
        "    'classification__n_estimators': [25, 50, 100, 200],\n",
        "    'classification__max_depth': [3, 5, 7, 10],\n",
        "    'classification__min_samples_split': [2, 5, 10, 20],\n",
        "    'classification__min_samples_leaf': [2, 4, 6, 8, 10],\n",
        "    'classification__max_features': ['sqrt', 'log2', 100],\n",
        "    'classification__bootstrap': [True, False],\n",
        "    'classification__criterion': ['gini', 'entropy'],\n",
        "    'classification__class_weight': ['balanced', 'balanced_subsample']\n",
        "}\n",
        "rf = RandomForestClassifier()\n",
        "pipeline_rf = Pipeline([\n",
        "    ('feature_selection', embeded_lr_selector_2),\n",
        "    ('classification', rf)\n",
        "])\n",
        "rf_cv = RandomizedSearchCV(pipeline_rf, param_grid, cv = kf, scoring=\"accuracy\",\n",
        "                           random_state=42)\n",
        "rf_cv.fit(X_train, y_train)\n",
        "print(\"Tuned Random Forest Parameters: {}\".format(rf_cv.best_params_))\n",
        "print(\"Best score is {}\".format(rf_cv.best_score_))"
      ]
    },
    {
      "cell_type": "code",
      "execution_count": 211,
      "metadata": {
        "id": "DU-EoCsYrOqI",
        "colab": {
          "base_uri": "https://localhost:8080/"
        },
        "outputId": "8a99c176-fd08-48ff-faa7-1f4af89efbac"
      },
      "outputs": [
        {
          "output_type": "stream",
          "name": "stdout",
          "text": [
            "Tuned XGBoost Parameters: {'classification__subsample': 0.7, 'classification__reg_lambda': 0.3, 'classification__reg_alpha': 1, 'classification__n_estimators': 100, 'classification__min_child_weight': 7, 'classification__max_depth': 4, 'classification__learning_rate': 0.1, 'classification__gamma': 0.1, 'classification__colsample_bytree': 1.0}\n",
            "Best score is 0.881906474820144\n"
          ]
        }
      ],
      "source": [
        "# gradient boosting\n",
        "param_grid = {\n",
        "    'classification__n_estimators': [25, 50, 100],\n",
        "    'classification__learning_rate': [0.01, 0.05, 0.1, 0.2],\n",
        "    'classification__max_depth': [3, 4, 5],\n",
        "    'classification__min_child_weight': [3, 5, 7],\n",
        "    'classification__gamma': [0, 0.1, 0.2, 0.5, 1],\n",
        "    'classification__subsample': [0.5, 0.6, 0.7, 0.8, 0.9, 1.0],\n",
        "    'classification__colsample_bytree': [0.5, 0.6, 0.7, 0.8, 0.9, 1.0],\n",
        "    'classification__reg_alpha': [0.1, 0.5, 1],\n",
        "    'classification__reg_lambda': [0.1, 0.3, 0.5, 0.7, 1]\n",
        "}\n",
        "# X_train_1, X_val, y_train_1, y_val = train_test_split(X_train, y_train, test_size=0.1, random_state=42)\n",
        "# xgb = XGBClassifier(tree_method=\"hist\", random_state=0,\n",
        "#                     objective=\"binary:logistic\", early_stopping_rounds=10,\n",
        "#                     eval_set=[(X_val, y_val)], verbose=True)\n",
        "xgb = XGBClassifier(tree_method=\"hist\", random_state=0,\n",
        "                    objective=\"binary:logistic\")\n",
        "pipeline_xgb = Pipeline([\n",
        "    ('feature_selection', embeded_lr_selector_2),\n",
        "    ('classification', xgb)\n",
        "])\n",
        "xgb_cv = RandomizedSearchCV(pipeline_xgb, param_grid, cv=kf,\n",
        "                            scoring=\"accuracy\", random_state=42)\n",
        "xgb_cv.fit(X_train, y_train)\n",
        "print(\"Tuned XGBoost Parameters: {}\".format(xgb_cv.best_params_))\n",
        "print(\"Best score is {}\".format(xgb_cv.best_score_))"
      ]
    },
    {
      "cell_type": "markdown",
      "source": [
        "## Model Validation"
      ],
      "metadata": {
        "id": "Qs0e1TgIb08Q"
      }
    },
    {
      "cell_type": "code",
      "source": [
        "model = rf_cv.best_estimator_\n",
        "model.fit(X_train, y_train)\n",
        "y_pred = model.predict(X_test)\n",
        "accuracy_score(y_test, y_pred)"
      ],
      "metadata": {
        "colab": {
          "base_uri": "https://localhost:8080/"
        },
        "id": "j_THJS7bVt-6",
        "outputId": "e2a94a99-978e-434b-e594-06d4919918c9"
      },
      "execution_count": 249,
      "outputs": [
        {
          "output_type": "stream",
          "name": "stderr",
          "text": [
            "/usr/local/lib/python3.10/dist-packages/sklearn/base.py:439: UserWarning: X does not have valid feature names, but SelectFromModel was fitted with feature names\n",
            "  warnings.warn(\n"
          ]
        },
        {
          "output_type": "execute_result",
          "data": {
            "text/plain": [
              "0.826530612244898"
            ]
          },
          "metadata": {},
          "execution_count": 249
        }
      ]
    },
    {
      "cell_type": "code",
      "source": [
        "y_pred_proba = model.predict_proba(X_test)[:, 1]\n",
        "roc_auc_score(y_test, y_pred_proba)"
      ],
      "metadata": {
        "colab": {
          "base_uri": "https://localhost:8080/"
        },
        "id": "RG8d2K_Eabir",
        "outputId": "86aafd3f-b6bd-4eaf-cdf1-95b338ffbf1e"
      },
      "execution_count": 250,
      "outputs": [
        {
          "output_type": "stream",
          "name": "stderr",
          "text": [
            "/usr/local/lib/python3.10/dist-packages/sklearn/base.py:439: UserWarning: X does not have valid feature names, but SelectFromModel was fitted with feature names\n",
            "  warnings.warn(\n"
          ]
        },
        {
          "output_type": "execute_result",
          "data": {
            "text/plain": [
              "0.7021985343104598"
            ]
          },
          "metadata": {},
          "execution_count": 250
        }
      ]
    },
    {
      "cell_type": "code",
      "source": [
        "fpr, tpr, threshold = roc_curve(y_test, y_pred_proba)\n",
        "roc_auc = auc(fpr, tpr)\n",
        "plt.title('Receiver Operating Characteristic')\n",
        "plt.plot(fpr, tpr, 'b', label = 'AUC = %0.2f' % roc_auc)\n",
        "plt.legend(loc = 'lower right')\n",
        "plt.plot([0, 1], [0, 1],'r--')\n",
        "plt.xlim([0, 1])\n",
        "plt.ylim([0, 1])\n",
        "plt.ylabel('True Positive Rate')\n",
        "plt.xlabel('False Positive Rate')\n",
        "plt.show()"
      ],
      "metadata": {
        "colab": {
          "base_uri": "https://localhost:8080/",
          "height": 472
        },
        "id": "luEKG56psuQh",
        "outputId": "24ba8a68-0534-4446-a6d2-76549606d17c"
      },
      "execution_count": 251,
      "outputs": [
        {
          "output_type": "display_data",
          "data": {
            "text/plain": [
              "<Figure size 640x480 with 1 Axes>"
            ],
            "image/png": "[encoded data removed]"
          },
          "metadata": {}
        }
      ]
    },
    {
      "cell_type": "code",
      "source": [
        "embeded_lr_selector_2.fit(X_train, y_train)\n",
        "embeded_lr_support2 = embeded_lr_selector_2.get_support()\n",
        "embeded_lr_feature_names2 = [feature_names[i] for i, flag in enumerate(embeded_lr_support2) if flag]\n",
        "X_train_2 = embeded_lr_selector_2.transform(X_train)\n",
        "X_test_2 = embeded_lr_selector_2.transform(X_test)\n",
        "model2 = RandomForestClassifier(n_estimators = 100, min_samples_split = 5, min_samples_leaf = 2,\n",
        "                                max_features = 'sqrt', max_depth = 10, criterion = 'entropy',\n",
        "                                class_weight = 'balanced', bootstrap = True)\n",
        "model2.fit(X_train_2, y_train)\n",
        "y_pred_2 = model2.predict(X_test_2)\n",
        "feat_importances = pd.Series(model2.feature_importances_, index=embeded_lr_feature_names2)\n",
        "feat_importances.nlargest(20).plot(kind='barh')"
      ],
      "metadata": {
        "colab": {
          "base_uri": "https://localhost:8080/",
          "height": 482
        },
        "id": "Yn6Uahj2b6XS",
        "outputId": "bf31dc1a-b10d-480e-9157-736ffe311ad2"
      },
      "execution_count": 252,
      "outputs": [
        {
          "output_type": "stream",
          "name": "stderr",
          "text": [
            "/usr/local/lib/python3.10/dist-packages/sklearn/base.py:439: UserWarning: X does not have valid feature names, but SelectFromModel was fitted with feature names\n",
            "  warnings.warn(\n"
          ]
        },
        {
          "output_type": "execute_result",
          "data": {
            "text/plain": [
              "<Axes: >"
            ]
          },
          "metadata": {},
          "execution_count": 252
        },
        {
          "output_type": "display_data",
          "data": {
            "text/plain": [
              "<Figure size 640x480 with 1 Axes>"
            ],
            "image/png": "[encoded data removed]"
          },
          "metadata": {}
        }
      ]
    }
  ],
  "metadata": {
    "colab": {
      "machine_shape": "hm",
      "provenance": []
    },
    "kernelspec": {
      "display_name": "Python 3",
      "name": "python3"
    },
    "language_info": {
      "name": "python"
    }
  },
  "nbformat": 4,
  "nbformat_minor": 0
}